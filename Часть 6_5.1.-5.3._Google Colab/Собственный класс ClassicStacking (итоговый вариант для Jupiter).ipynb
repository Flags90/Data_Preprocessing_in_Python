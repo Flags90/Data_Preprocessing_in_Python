{
 "cells": [
  {
   "cell_type": "code",
   "execution_count": 1,
   "metadata": {},
   "outputs": [],
   "source": [
    "# импортируем необходимые библиотеки и классы\n",
    "import pandas as pd\n",
    "import numpy as np\n",
    "from xgboost import XGBClassifier\n",
    "from catboost import CatBoostClassifier\n",
    "from sklearn.pipeline import Pipeline\n",
    "from sklearn.preprocessing import StandardScaler\n",
    "from sklearn.linear_model import LogisticRegression\n",
    "from classic_stacking import ClassicStacking"
   ]
  },
  {
   "cell_type": "code",
   "execution_count": 2,
   "metadata": {},
   "outputs": [],
   "source": [
    "# загружаем исторический набор и набор новых данных\n",
    "train = pd.read_csv('Data/ottogroup_train.csv')\n",
    "test = pd.read_csv('Data/ottogroup_test.csv')"
   ]
  },
  {
   "cell_type": "code",
   "execution_count": 3,
   "metadata": {},
   "outputs": [],
   "source": [
    "# формируем массив меток и массив признаков\n",
    "labels = train.pop('target')"
   ]
  },
  {
   "cell_type": "code",
   "execution_count": 4,
   "metadata": {},
   "outputs": [],
   "source": [
    "# сохраняем id набора новых данных\n",
    "test_id = test['id']\n",
    "\n",
    "# удаляем id из обоих наборов\n",
    "train.drop('id', axis=1, inplace=True)\n",
    "test.drop('id', axis=1, inplace=True)"
   ]
  },
  {
   "cell_type": "code",
   "execution_count": 5,
   "metadata": {},
   "outputs": [],
   "source": [
    "# создаем экземпляр класса XGBClassifier\n",
    "# (модель должна быть уже настроена) -\n",
    "# первый базовый алгоритм\n",
    "xgbst_model = XGBClassifier(learning_rate=0.06,\n",
    "                                objective='multi:softprob',\n",
    "                                subsample=0.8,\n",
    "                                gamma=1,\n",
    "                                colsample_bytree=0.8,\n",
    "                                colsample_bylevel=0.8,\n",
    "                                min_child_weight=0.8,\n",
    "                                random_state=42,\n",
    "                                max_depth=9,\n",
    "                                n_estimators=800)\n",
    "\n",
    "# создаем экземпляр класса CatBoostClassifier\n",
    "# (модель должна быть уже настроена) -\n",
    "# второй базовый алгоритм\n",
    "ctbst_model = CatBoostClassifier(learning_rate=0.035,\n",
    "                                     loss_function='MultiClass',\n",
    "                                     depth=11,\n",
    "                                     bagging_temperature=0.2,\n",
    "                                     rsm=0.1,\n",
    "                                     iterations=2500,\n",
    "                                     random_strength=0,\n",
    "                                     random_seed=42,\n",
    "                                     logging_level='Silent')\n",
    "\n",
    "# создаем экземпляр класса LogisticRegression\n",
    "# (модель должна быть уже настроена) -\n",
    "# третий базовый алгоритм\n",
    "logreg_model = LogisticRegression(solver='liblinear')\n",
    "\n",
    "# создаем конвейер для логистической регрессии\n",
    "logreg_pipe = Pipeline([('scaler', StandardScaler()), ('logreg', logreg_model)])"
   ]
  },
  {
   "cell_type": "code",
   "execution_count": 6,
   "metadata": {
    "scrolled": true
   },
   "outputs": [],
   "source": [
    "# создаем экземпляр класса ClassicStacking\n",
    "s = ClassicStacking(estimators=[xgbst_model, ctbst_model, logreg_pipe],\n",
    "                    final_estimator=ctbst_model, cv=5, \n",
    "                    stack_method='predict_proba', passthrough=True)\n",
    "# обучаем базовые алгоритмы и мета-алгоритм\n",
    "s.fit(train, labels)\n",
    "# получаем вероятности\n",
    "final_proba = s.predict(train, labels, test)"
   ]
  },
  {
   "cell_type": "code",
   "execution_count": 7,
   "metadata": {},
   "outputs": [],
   "source": [
    "# извлекаем метки классов\n",
    "classes = np.unique(labels)\n",
    "# формируем посылку\n",
    "submission = pd.DataFrame(data=final_proba, columns=classes)\n",
    "submission.insert(0, 'id', test_id)\n",
    "submission.to_csv('own_cv_stacking_on_cl_probs_with_concat.csv', index=False)"
   ]
  }
 ],
 "metadata": {
  "kernelspec": {
   "display_name": "Python 3 (ipykernel)",
   "language": "python",
   "name": "python3"
  },
  "language_info": {
   "codemirror_mode": {
    "name": "ipython",
    "version": 3
   },
   "file_extension": ".py",
   "mimetype": "text/x-python",
   "name": "python",
   "nbconvert_exporter": "python",
   "pygments_lexer": "ipython3",
   "version": "3.9.12"
  }
 },
 "nbformat": 4,
 "nbformat_minor": 4
}
