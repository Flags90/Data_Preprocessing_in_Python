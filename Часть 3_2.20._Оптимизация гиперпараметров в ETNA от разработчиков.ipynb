{
 "cells": [
  {
   "cell_type": "code",
   "execution_count": 1,
   "id": "d919840f",
   "metadata": {},
   "outputs": [
    {
     "name": "stderr",
     "output_type": "stream",
     "text": [
      "/Users/artemgruzdev/opt/anaconda3/lib/python3.9/site-packages/torchmetrics/utilities/prints.py:36: UserWarning: Torchmetrics v0.9 introduced a new argument class property called `full_state_update` that has\n",
      "                not been set for this class (SMAPE). The property determines if `update` by\n",
      "                default needs access to the full metric state. If this is not the case, significant speedups can be\n",
      "                achieved and we recommend setting this to `False`.\n",
      "                We provide an checking function\n",
      "                `from torchmetrics.utilities import check_forward_full_state_property`\n",
      "                that can be used to check if the `full_state_update=True` (old and potential slower behaviour,\n",
      "                default for now) or if `full_state_update=False` can be used safely.\n",
      "                \n",
      "  warnings.warn(*args, **kwargs)\n"
     ]
    }
   ],
   "source": [
    "# импортируем необходимые библиотеки и модули\n",
    "import pandas as pd\n",
    "import numpy as np\n",
    "import optuna\n",
    "import random\n",
    "from functools import partial\n",
    "from pathlib import Path\n",
    "from typing import Optional\n",
    "import typer\n",
    "import os\n",
    "\n",
    "# импортируем из библиотеки etna нужные классы\n",
    "from etna.datasets import TSDataset, generate_ar_df\n",
    "from etna.loggers import WandbLogger,tslogger\n",
    "from etna.metrics import MAE, MSE, SMAPE, Sign\n",
    "from etna.models import CatBoostModelMultiSegment\n",
    "from etna.pipeline import Pipeline\n",
    "from etna.transforms import (LagTransform,\n",
    "                             SegmentEncoderTransform,\n",
    "                             StandardScalerTransform)\n",
    "\n",
    "# импортируем модуль предупреждений\n",
    "import warnings\n",
    "# включим игнорирование предупреждений\n",
    "warnings.filterwarnings(\"ignore\")"
   ]
  },
  {
   "cell_type": "code",
   "execution_count": 2,
   "id": "38521ae1",
   "metadata": {},
   "outputs": [],
   "source": [
    "# функция установки начального значения генератора случайных чисел\n",
    "def set_seed(seed: int = 42):\n",
    "    # установка генератора случайных чисел python \n",
    "    random.seed(seed)\n",
    "    # установка генератора случайных чисел numpy\n",
    "    np.random.seed(seed)"
   ]
  },
  {
   "cell_type": "code",
   "execution_count": 3,
   "id": "67d31a86",
   "metadata": {},
   "outputs": [],
   "source": [
    "def init_logger(config: dict, project: str = \"wandb-sweeps\", tags: Optional[list] = [\"test\", \"sweeps\"]):\n",
    "    # создание пустого списка для хранения обьектов WandbLogge\n",
    "    tslogger.loggers = []\n",
    "    # создание экземпляра WandbLogge. W&B предоставляет облегченную оболочку для \n",
    "    # регистрации экспериментов машинного обучения\n",
    "    wblogger = WandbLogger(project=project, tags=tags, config=config)\n",
    "    # добавление обьекта WandbLogge в список\n",
    "    tslogger.add(wblogger)"
   ]
  },
  {
   "cell_type": "code",
   "execution_count": 4,
   "id": "7f249cd0",
   "metadata": {},
   "outputs": [],
   "source": [
    "def dataloader(file_path: Path, freq: str = \"D\") -> TSDataset:\n",
    "    df = pd.read_csv(file_path)\n",
    "    df = TSDataset.to_dataset(df)\n",
    "    ts = TSDataset(df=df, freq=freq)\n",
    "    return ts"
   ]
  },
  {
   "cell_type": "code",
   "execution_count": 5,
   "id": "60b36cb0",
   "metadata": {},
   "outputs": [],
   "source": [
    "# целевая функция Optuna.\n",
    "def objective(trial: optuna.Trial, metric_name: str, ts: TSDataset, horizon: int, lags: int, seed: int):\n",
    "\n",
    "    # установка начального значения генератора случайных чисел \n",
    "    set_seed(seed)\n",
    "\n",
    "    #  создадим экземпляр Pipeline. Определить модель и характеристики\n",
    "    pipeline = Pipeline(\n",
    "        # определим модель\n",
    "        model=CatBoostModelMultiSegment(\n",
    "            iterations=trial.suggest_int(\"iterations\", 10, 100),\n",
    "            depth=trial.suggest_int(\"depth\", 1, 12),\n",
    "        ),\n",
    "        # определим список трансформеров\n",
    "        transforms=[\n",
    "            StandardScalerTransform(\"target\"),\n",
    "            SegmentEncoderTransform(),\n",
    "            LagTransform(in_column=\"target\", \n",
    "                         lags=list(range(horizon, horizon + \n",
    "                                         trial.suggest_int(\"lags\", 1, lags)))),\n",
    "        ],\n",
    "        # установка горизонта для прогнозов\n",
    "        horizon=horizon,\n",
    "    )\n",
    "\n",
    "    # инициализируем WandB logger\n",
    "    init_logger(pipeline.to_dict())\n",
    "\n",
    "    # запускаем перекрестную проверку с подсчетом метрик\n",
    "    metrics, _, _ = pipeline.backtest(ts=ts, metrics=[MAE(), SMAPE(), Sign(), MSE()])\n",
    "    \n",
    "    # возвращаем средние значения по найденным метрикам\n",
    "    return metrics[metric_name].mean()\n"
   ]
  },
  {
   "cell_type": "code",
   "execution_count": 6,
   "id": "8883b229",
   "metadata": {},
   "outputs": [],
   "source": [
    "# функция оптимизации Optuna\n",
    "def run_optuna(\n",
    "    # горизонт для прогнозов\n",
    "    horizon: int = 14,\n",
    "    # метрика\n",
    "    metric_name: str = \"MAE\",\n",
    "    # URL-адрес базы данных,\n",
    "    storage: str = \"sqlite:///optuna.db\",\n",
    "    # название \n",
    "    study_name: Optional[str] = None,\n",
    "    # количество проходов\n",
    "    n_trials: int = 5,\n",
    "    # путь к файлу данных\n",
    "    file_path: Path = \"Data/example_dataset.csv\",\n",
    "    # Направление оптимизации\n",
    "    direction: str = \"minimize\",\n",
    "    # частота временного ряда\n",
    "    freq: str = \"D\",\n",
    "    # задание количества лагов\n",
    "    lags: int = 24,\n",
    "    # задание начального значения счетчика случайных значений\n",
    "    seed: int = 11,\n",
    "):\n",
    "\n",
    "    # загрузка данных\n",
    "    ts = dataloader(file_path, freq=freq)\n",
    "\n",
    "    # создание сессии оптимизации Optuna\n",
    "    study = optuna.create_study(\n",
    "        # URL базы данных. \n",
    "        storage=storage,\n",
    "        study_name=study_name,\n",
    "        # объект сэмплера\n",
    "        sampler=optuna.samplers.TPESampler(multivariate=True, group=True),\n",
    "        # флаг управления поведением при разрешении конфликта\n",
    "        load_if_exists=True,\n",
    "        # Направление оптимизации\n",
    "        direction=direction,\n",
    "    )\n",
    "\n",
    "    # запуск оптимизации Optuna\n",
    "    study.optimize(\n",
    "        partial(objective, metric_name=metric_name, ts=ts, horizon=horizon, \n",
    "                lags=lags, seed=seed), n_trials=n_trials\n",
    "        )\n"
   ]
  },
  {
   "cell_type": "code",
   "execution_count": 7,
   "id": "b2b21ccd",
   "metadata": {
    "scrolled": false
   },
   "outputs": [
    {
     "name": "stderr",
     "output_type": "stream",
     "text": [
      "\u001b[32m[I 2022-11-24 22:42:03,025]\u001b[0m A new study created in RDB with name: no-name-f098894e-2728-4cfe-a399-796ec1dd66f7\u001b[0m\n",
      "[Parallel(n_jobs=1)]: Using backend SequentialBackend with 1 concurrent workers.\n",
      "\u001b[34m\u001b[1mwandb\u001b[0m: Currently logged in as: \u001b[33mgewissta\u001b[0m. Use \u001b[1m`wandb login --relogin`\u001b[0m to force relogin\n"
     ]
    },
    {
     "data": {
      "text/html": [
       "wandb version 0.13.5 is available!  To upgrade, please run:\n",
       " $ pip install wandb --upgrade"
      ],
      "text/plain": [
       "<IPython.core.display.HTML object>"
      ]
     },
     "metadata": {},
     "output_type": "display_data"
    },
    {
     "data": {
      "text/html": [
       "Tracking run with wandb version 0.12.21"
      ],
      "text/plain": [
       "<IPython.core.display.HTML object>"
      ]
     },
     "metadata": {},
     "output_type": "display_data"
    },
    {
     "data": {
      "text/html": [
       "Run data is saved locally in <code>/Users/artemgruzdev/Documents/TimeSeries/Code/wandb/run-20221124_224203-1agpx0jx</code>"
      ],
      "text/plain": [
       "<IPython.core.display.HTML object>"
      ]
     },
     "metadata": {},
     "output_type": "display_data"
    },
    {
     "data": {
      "text/html": [
       "Syncing run <strong><a href=\"https://wandb.ai/gewissta/wandb-sweeps/runs/1agpx0jx\" target=\"_blank\">Zh96dX64</a></strong> to <a href=\"https://wandb.ai/gewissta/wandb-sweeps\" target=\"_blank\">Weights & Biases</a> (<a href=\"https://wandb.me/run\" target=\"_blank\">docs</a>)<br/>"
      ],
      "text/plain": [
       "<IPython.core.display.HTML object>"
      ]
     },
     "metadata": {},
     "output_type": "display_data"
    },
    {
     "data": {
      "text/html": [
       "Waiting for W&B process to finish... <strong style=\"color:green\">(success).</strong>"
      ],
      "text/plain": [
       "<IPython.core.display.HTML object>"
      ]
     },
     "metadata": {},
     "output_type": "display_data"
    },
    {
     "data": {
      "application/vnd.jupyter.widget-view+json": {
       "model_id": "",
       "version_major": 2,
       "version_minor": 0
      },
      "text/plain": [
       "VBox(children=(Label(value='0.030 MB of 0.032 MB uploaded (0.000 MB deduped)\\r'), FloatProgress(value=0.930946…"
      ]
     },
     "metadata": {},
     "output_type": "display_data"
    },
    {
     "data": {
      "text/html": [
       "<style>\n",
       "    table.wandb td:nth-child(1) { padding: 0 10px; text-align: left ; width: auto;} td:nth-child(2) {text-align: left ; width: 100%}\n",
       "    .wandb-row { display: flex; flex-direction: row; flex-wrap: wrap; justify-content: flex-start; width: 100% }\n",
       "    .wandb-col { display: flex; flex-direction: column; flex-basis: 100%; flex: 1; padding: 10px; }\n",
       "    </style>\n",
       "<div class=\"wandb-row\"><div class=\"wandb-col\"><h3>Run history:</h3><br/><table class=\"wandb\"><tr><td>MAE_mean</td><td>▁</td></tr><tr><td>MAE_median</td><td>▁</td></tr><tr><td>MAE_percentile_25</td><td>▁</td></tr><tr><td>MAE_percentile_5</td><td>▁</td></tr><tr><td>MAE_percentile_75</td><td>▁</td></tr><tr><td>MAE_percentile_95</td><td>▁</td></tr><tr><td>MAE_std</td><td>▁</td></tr><tr><td>MSE_mean</td><td>▁</td></tr><tr><td>MSE_median</td><td>▁</td></tr><tr><td>MSE_percentile_25</td><td>▁</td></tr><tr><td>MSE_percentile_5</td><td>▁</td></tr><tr><td>MSE_percentile_75</td><td>▁</td></tr><tr><td>MSE_percentile_95</td><td>▁</td></tr><tr><td>MSE_std</td><td>▁</td></tr><tr><td>SMAPE_mean</td><td>▁</td></tr><tr><td>SMAPE_median</td><td>▁</td></tr><tr><td>SMAPE_percentile_25</td><td>▁</td></tr><tr><td>SMAPE_percentile_5</td><td>▁</td></tr><tr><td>SMAPE_percentile_75</td><td>▁</td></tr><tr><td>SMAPE_percentile_95</td><td>▁</td></tr><tr><td>SMAPE_std</td><td>▁</td></tr><tr><td>Sign_mean</td><td>▁</td></tr><tr><td>Sign_median</td><td>▁</td></tr><tr><td>Sign_percentile_25</td><td>▁</td></tr><tr><td>Sign_percentile_5</td><td>▁</td></tr><tr><td>Sign_percentile_75</td><td>▁</td></tr><tr><td>Sign_percentile_95</td><td>▁</td></tr><tr><td>Sign_std</td><td>▁</td></tr></table><br/></div><div class=\"wandb-col\"><h3>Run summary:</h3><br/><table class=\"wandb\"><tr><td>MAE_mean</td><td>37.2664</td></tr><tr><td>MAE_median</td><td>37.30116</td></tr><tr><td>MAE_percentile_25</td><td>17.78637</td></tr><tr><td>MAE_percentile_5</td><td>10.15726</td></tr><tr><td>MAE_percentile_75</td><td>56.7812</td></tr><tr><td>MAE_percentile_95</td><td>64.32686</td></tr><tr><td>MAE_std</td><td>27.16374</td></tr><tr><td>MSE_mean</td><td>3039.84919</td></tr><tr><td>MSE_median</td><td>2743.89503</td></tr><tr><td>MSE_percentile_25</td><td>783.02428</td></tr><tr><td>MSE_percentile_5</td><td>244.34866</td></tr><tr><td>MSE_percentile_75</td><td>5000.71994</td></tr><tr><td>MSE_percentile_95</td><td>6249.68555</td></tr><tr><td>MSE_std</td><td>3010.89295</td></tr><tr><td>SMAPE_mean</td><td>8.51393</td></tr><tr><td>SMAPE_median</td><td>8.77391</td></tr><tr><td>SMAPE_percentile_25</td><td>7.63817</td></tr><tr><td>SMAPE_percentile_5</td><td>5.57874</td></tr><tr><td>SMAPE_percentile_75</td><td>9.64967</td></tr><tr><td>SMAPE_percentile_95</td><td>11.08515</td></tr><tr><td>SMAPE_std</td><td>2.63171</td></tr><tr><td>Sign_mean</td><td>-0.07143</td></tr><tr><td>Sign_median</td><td>-0.14286</td></tr><tr><td>Sign_percentile_25</td><td>-0.28571</td></tr><tr><td>Sign_percentile_5</td><td>-0.28571</td></tr><tr><td>Sign_percentile_75</td><td>0.07143</td></tr><tr><td>Sign_percentile_95</td><td>0.24286</td></tr><tr><td>Sign_std</td><td>0.27355</td></tr></table><br/></div></div>"
      ],
      "text/plain": [
       "<IPython.core.display.HTML object>"
      ]
     },
     "metadata": {},
     "output_type": "display_data"
    },
    {
     "data": {
      "text/html": [
       "Synced <strong style=\"color:#cdcd00\">Zh96dX64</strong>: <a href=\"https://wandb.ai/gewissta/wandb-sweeps/runs/1agpx0jx\" target=\"_blank\">https://wandb.ai/gewissta/wandb-sweeps/runs/1agpx0jx</a><br/>Synced 5 W&B file(s), 3 media file(s), 3 artifact file(s) and 0 other file(s)"
      ],
      "text/plain": [
       "<IPython.core.display.HTML object>"
      ]
     },
     "metadata": {},
     "output_type": "display_data"
    },
    {
     "data": {
      "text/html": [
       "Find logs at: <code>./wandb/run-20221124_224203-1agpx0jx/logs</code>"
      ],
      "text/plain": [
       "<IPython.core.display.HTML object>"
      ]
     },
     "metadata": {},
     "output_type": "display_data"
    },
    {
     "name": "stderr",
     "output_type": "stream",
     "text": [
      "[Parallel(n_jobs=1)]: Done   1 out of   1 | elapsed:   25.4s remaining:    0.0s\n"
     ]
    },
    {
     "data": {
      "text/html": [
       "Changes to your `wandb` environment variables will be ignored because your `wandb` session has already started. For more information on how to modify your settings with `wandb.init()` arguments, please refer to <a href=\"https://wandb.me/wandb-init\" target=\"_blank\">the W&B docs</a>."
      ],
      "text/plain": [
       "<IPython.core.display.HTML object>"
      ]
     },
     "metadata": {},
     "output_type": "display_data"
    },
    {
     "data": {
      "text/html": [
       "wandb version 0.13.5 is available!  To upgrade, please run:\n",
       " $ pip install wandb --upgrade"
      ],
      "text/plain": [
       "<IPython.core.display.HTML object>"
      ]
     },
     "metadata": {},
     "output_type": "display_data"
    },
    {
     "data": {
      "text/html": [
       "Tracking run with wandb version 0.12.21"
      ],
      "text/plain": [
       "<IPython.core.display.HTML object>"
      ]
     },
     "metadata": {},
     "output_type": "display_data"
    },
    {
     "data": {
      "text/html": [
       "Run data is saved locally in <code>/Users/artemgruzdev/Documents/TimeSeries/Code/wandb/run-20221124_224228-2emrz6xr</code>"
      ],
      "text/plain": [
       "<IPython.core.display.HTML object>"
      ]
     },
     "metadata": {},
     "output_type": "display_data"
    },
    {
     "data": {
      "text/html": [
       "Syncing run <strong><a href=\"https://wandb.ai/gewissta/wandb-sweeps/runs/2emrz6xr\" target=\"_blank\">Zh96dX64</a></strong> to <a href=\"https://wandb.ai/gewissta/wandb-sweeps\" target=\"_blank\">Weights & Biases</a> (<a href=\"https://wandb.me/run\" target=\"_blank\">docs</a>)<br/>"
      ],
      "text/plain": [
       "<IPython.core.display.HTML object>"
      ]
     },
     "metadata": {},
     "output_type": "display_data"
    },
    {
     "data": {
      "text/html": [
       "Waiting for W&B process to finish... <strong style=\"color:green\">(success).</strong>"
      ],
      "text/plain": [
       "<IPython.core.display.HTML object>"
      ]
     },
     "metadata": {},
     "output_type": "display_data"
    },
    {
     "data": {
      "application/vnd.jupyter.widget-view+json": {
       "model_id": "",
       "version_major": 2,
       "version_minor": 0
      },
      "text/plain": [
       "VBox(children=(Label(value='0.030 MB of 0.032 MB uploaded (0.000 MB deduped)\\r'), FloatProgress(value=0.930645…"
      ]
     },
     "metadata": {},
     "output_type": "display_data"
    },
    {
     "data": {
      "text/html": [
       "<style>\n",
       "    table.wandb td:nth-child(1) { padding: 0 10px; text-align: left ; width: auto;} td:nth-child(2) {text-align: left ; width: 100%}\n",
       "    .wandb-row { display: flex; flex-direction: row; flex-wrap: wrap; justify-content: flex-start; width: 100% }\n",
       "    .wandb-col { display: flex; flex-direction: column; flex-basis: 100%; flex: 1; padding: 10px; }\n",
       "    </style>\n",
       "<div class=\"wandb-row\"><div class=\"wandb-col\"><h3>Run history:</h3><br/><table class=\"wandb\"><tr><td>MAE_mean</td><td>▁</td></tr><tr><td>MAE_median</td><td>▁</td></tr><tr><td>MAE_percentile_25</td><td>▁</td></tr><tr><td>MAE_percentile_5</td><td>▁</td></tr><tr><td>MAE_percentile_75</td><td>▁</td></tr><tr><td>MAE_percentile_95</td><td>▁</td></tr><tr><td>MAE_std</td><td>▁</td></tr><tr><td>MSE_mean</td><td>▁</td></tr><tr><td>MSE_median</td><td>▁</td></tr><tr><td>MSE_percentile_25</td><td>▁</td></tr><tr><td>MSE_percentile_5</td><td>▁</td></tr><tr><td>MSE_percentile_75</td><td>▁</td></tr><tr><td>MSE_percentile_95</td><td>▁</td></tr><tr><td>MSE_std</td><td>▁</td></tr><tr><td>SMAPE_mean</td><td>▁</td></tr><tr><td>SMAPE_median</td><td>▁</td></tr><tr><td>SMAPE_percentile_25</td><td>▁</td></tr><tr><td>SMAPE_percentile_5</td><td>▁</td></tr><tr><td>SMAPE_percentile_75</td><td>▁</td></tr><tr><td>SMAPE_percentile_95</td><td>▁</td></tr><tr><td>SMAPE_std</td><td>▁</td></tr><tr><td>Sign_mean</td><td>▁</td></tr><tr><td>Sign_median</td><td>▁</td></tr><tr><td>Sign_percentile_25</td><td>▁</td></tr><tr><td>Sign_percentile_5</td><td>▁</td></tr><tr><td>Sign_percentile_75</td><td>▁</td></tr><tr><td>Sign_percentile_95</td><td>▁</td></tr><tr><td>Sign_std</td><td>▁</td></tr></table><br/></div><div class=\"wandb-col\"><h3>Run summary:</h3><br/><table class=\"wandb\"><tr><td>MAE_mean</td><td>36.75065</td></tr><tr><td>MAE_median</td><td>36.18964</td></tr><tr><td>MAE_percentile_25</td><td>17.99436</td></tr><tr><td>MAE_percentile_5</td><td>11.59861</td></tr><tr><td>MAE_percentile_75</td><td>54.94593</td></tr><tr><td>MAE_percentile_95</td><td>62.68809</td></tr><tr><td>MAE_std</td><td>25.66147</td></tr><tr><td>MSE_mean</td><td>2620.65195</td></tr><tr><td>MSE_median</td><td>2276.37079</td></tr><tr><td>MSE_percentile_25</td><td>525.6905</td></tr><tr><td>MSE_percentile_5</td><td>222.78257</td></tr><tr><td>MSE_percentile_75</td><td>4371.33223</td></tr><tr><td>MSE_percentile_95</td><td>5500.51494</td></tr><tr><td>MSE_std</td><td>2685.317</td></tr><tr><td>SMAPE_mean</td><td>8.07763</td></tr><tr><td>SMAPE_median</td><td>8.21886</td></tr><tr><td>SMAPE_percentile_25</td><td>7.41351</td></tr><tr><td>SMAPE_percentile_5</td><td>6.08272</td></tr><tr><td>SMAPE_percentile_75</td><td>8.88297</td></tr><tr><td>SMAPE_percentile_95</td><td>9.87481</td></tr><tr><td>SMAPE_std</td><td>1.80426</td></tr><tr><td>Sign_mean</td><td>0.5</td></tr><tr><td>Sign_median</td><td>0.57143</td></tr><tr><td>Sign_percentile_25</td><td>0.46429</td></tr><tr><td>Sign_percentile_5</td><td>0.20714</td></tr><tr><td>Sign_percentile_75</td><td>0.60714</td></tr><tr><td>Sign_percentile_95</td><td>0.69286</td></tr><tr><td>Sign_std</td><td>0.24744</td></tr></table><br/></div></div>"
      ],
      "text/plain": [
       "<IPython.core.display.HTML object>"
      ]
     },
     "metadata": {},
     "output_type": "display_data"
    },
    {
     "data": {
      "text/html": [
       "Synced <strong style=\"color:#cdcd00\">Zh96dX64</strong>: <a href=\"https://wandb.ai/gewissta/wandb-sweeps/runs/2emrz6xr\" target=\"_blank\">https://wandb.ai/gewissta/wandb-sweeps/runs/2emrz6xr</a><br/>Synced 5 W&B file(s), 3 media file(s), 3 artifact file(s) and 0 other file(s)"
      ],
      "text/plain": [
       "<IPython.core.display.HTML object>"
      ]
     },
     "metadata": {},
     "output_type": "display_data"
    },
    {
     "data": {
      "text/html": [
       "Find logs at: <code>./wandb/run-20221124_224228-2emrz6xr/logs</code>"
      ],
      "text/plain": [
       "<IPython.core.display.HTML object>"
      ]
     },
     "metadata": {},
     "output_type": "display_data"
    },
    {
     "name": "stderr",
     "output_type": "stream",
     "text": [
      "[Parallel(n_jobs=1)]: Done   2 out of   2 | elapsed:   49.8s remaining:    0.0s\n"
     ]
    },
    {
     "data": {
      "text/html": [
       "Changes to your `wandb` environment variables will be ignored because your `wandb` session has already started. For more information on how to modify your settings with `wandb.init()` arguments, please refer to <a href=\"https://wandb.me/wandb-init\" target=\"_blank\">the W&B docs</a>."
      ],
      "text/plain": [
       "<IPython.core.display.HTML object>"
      ]
     },
     "metadata": {},
     "output_type": "display_data"
    },
    {
     "data": {
      "text/html": [
       "wandb version 0.13.5 is available!  To upgrade, please run:\n",
       " $ pip install wandb --upgrade"
      ],
      "text/plain": [
       "<IPython.core.display.HTML object>"
      ]
     },
     "metadata": {},
     "output_type": "display_data"
    },
    {
     "data": {
      "text/html": [
       "Tracking run with wandb version 0.12.21"
      ],
      "text/plain": [
       "<IPython.core.display.HTML object>"
      ]
     },
     "metadata": {},
     "output_type": "display_data"
    },
    {
     "data": {
      "text/html": [
       "Run data is saved locally in <code>/Users/artemgruzdev/Documents/TimeSeries/Code/wandb/run-20221124_224252-1i55ucj2</code>"
      ],
      "text/plain": [
       "<IPython.core.display.HTML object>"
      ]
     },
     "metadata": {},
     "output_type": "display_data"
    },
    {
     "data": {
      "text/html": [
       "Syncing run <strong><a href=\"https://wandb.ai/gewissta/wandb-sweeps/runs/1i55ucj2\" target=\"_blank\">Zh96dX64</a></strong> to <a href=\"https://wandb.ai/gewissta/wandb-sweeps\" target=\"_blank\">Weights & Biases</a> (<a href=\"https://wandb.me/run\" target=\"_blank\">docs</a>)<br/>"
      ],
      "text/plain": [
       "<IPython.core.display.HTML object>"
      ]
     },
     "metadata": {},
     "output_type": "display_data"
    },
    {
     "data": {
      "text/html": [
       "Waiting for W&B process to finish... <strong style=\"color:green\">(success).</strong>"
      ],
      "text/plain": [
       "<IPython.core.display.HTML object>"
      ]
     },
     "metadata": {},
     "output_type": "display_data"
    },
    {
     "data": {
      "application/vnd.jupyter.widget-view+json": {
       "model_id": "",
       "version_major": 2,
       "version_minor": 0
      },
      "text/plain": [
       "VBox(children=(Label(value='0.030 MB of 0.032 MB uploaded (0.000 MB deduped)\\r'), FloatProgress(value=0.930546…"
      ]
     },
     "metadata": {},
     "output_type": "display_data"
    },
    {
     "data": {
      "text/html": [
       "<style>\n",
       "    table.wandb td:nth-child(1) { padding: 0 10px; text-align: left ; width: auto;} td:nth-child(2) {text-align: left ; width: 100%}\n",
       "    .wandb-row { display: flex; flex-direction: row; flex-wrap: wrap; justify-content: flex-start; width: 100% }\n",
       "    .wandb-col { display: flex; flex-direction: column; flex-basis: 100%; flex: 1; padding: 10px; }\n",
       "    </style>\n",
       "<div class=\"wandb-row\"><div class=\"wandb-col\"><h3>Run history:</h3><br/><table class=\"wandb\"><tr><td>MAE_mean</td><td>▁</td></tr><tr><td>MAE_median</td><td>▁</td></tr><tr><td>MAE_percentile_25</td><td>▁</td></tr><tr><td>MAE_percentile_5</td><td>▁</td></tr><tr><td>MAE_percentile_75</td><td>▁</td></tr><tr><td>MAE_percentile_95</td><td>▁</td></tr><tr><td>MAE_std</td><td>▁</td></tr><tr><td>MSE_mean</td><td>▁</td></tr><tr><td>MSE_median</td><td>▁</td></tr><tr><td>MSE_percentile_25</td><td>▁</td></tr><tr><td>MSE_percentile_5</td><td>▁</td></tr><tr><td>MSE_percentile_75</td><td>▁</td></tr><tr><td>MSE_percentile_95</td><td>▁</td></tr><tr><td>MSE_std</td><td>▁</td></tr><tr><td>SMAPE_mean</td><td>▁</td></tr><tr><td>SMAPE_median</td><td>▁</td></tr><tr><td>SMAPE_percentile_25</td><td>▁</td></tr><tr><td>SMAPE_percentile_5</td><td>▁</td></tr><tr><td>SMAPE_percentile_75</td><td>▁</td></tr><tr><td>SMAPE_percentile_95</td><td>▁</td></tr><tr><td>SMAPE_std</td><td>▁</td></tr><tr><td>Sign_mean</td><td>▁</td></tr><tr><td>Sign_median</td><td>▁</td></tr><tr><td>Sign_percentile_25</td><td>▁</td></tr><tr><td>Sign_percentile_5</td><td>▁</td></tr><tr><td>Sign_percentile_75</td><td>▁</td></tr><tr><td>Sign_percentile_95</td><td>▁</td></tr><tr><td>Sign_std</td><td>▁</td></tr></table><br/></div><div class=\"wandb-col\"><h3>Run summary:</h3><br/><table class=\"wandb\"><tr><td>MAE_mean</td><td>32.20415</td></tr><tr><td>MAE_median</td><td>29.32268</td></tr><tr><td>MAE_percentile_25</td><td>11.57489</td></tr><tr><td>MAE_percentile_5</td><td>8.17595</td></tr><tr><td>MAE_percentile_75</td><td>49.95195</td></tr><tr><td>MAE_percentile_95</td><td>60.26642</td></tr><tr><td>MAE_std</td><td>26.50674</td></tr><tr><td>MSE_mean</td><td>2215.24009</td></tr><tr><td>MSE_median</td><td>1417.42396</td></tr><tr><td>MSE_percentile_25</td><td>229.30511</td></tr><tr><td>MSE_percentile_5</td><td>113.45587</td></tr><tr><td>MSE_percentile_75</td><td>3403.35894</td></tr><tr><td>MSE_percentile_95</td><td>5433.96689</td></tr><tr><td>MSE_std</td><td>2726.26174</td></tr><tr><td>SMAPE_mean</td><td>6.51371</td></tr><tr><td>SMAPE_median</td><td>6.64247</td></tr><tr><td>SMAPE_percentile_25</td><td>5.06744</td></tr><tr><td>SMAPE_percentile_5</td><td>4.19819</td></tr><tr><td>SMAPE_percentile_75</td><td>8.08874</td></tr><tr><td>SMAPE_percentile_95</td><td>8.64897</td></tr><tr><td>SMAPE_std</td><td>2.20359</td></tr><tr><td>Sign_mean</td><td>0.5</td></tr><tr><td>Sign_median</td><td>0.5</td></tr><tr><td>Sign_percentile_25</td><td>0.21429</td></tr><tr><td>Sign_percentile_5</td><td>0.04286</td></tr><tr><td>Sign_percentile_75</td><td>0.78571</td></tr><tr><td>Sign_percentile_95</td><td>0.95714</td></tr><tr><td>Sign_std</td><td>0.44416</td></tr></table><br/></div></div>"
      ],
      "text/plain": [
       "<IPython.core.display.HTML object>"
      ]
     },
     "metadata": {},
     "output_type": "display_data"
    },
    {
     "data": {
      "text/html": [
       "Synced <strong style=\"color:#cdcd00\">Zh96dX64</strong>: <a href=\"https://wandb.ai/gewissta/wandb-sweeps/runs/1i55ucj2\" target=\"_blank\">https://wandb.ai/gewissta/wandb-sweeps/runs/1i55ucj2</a><br/>Synced 5 W&B file(s), 3 media file(s), 3 artifact file(s) and 0 other file(s)"
      ],
      "text/plain": [
       "<IPython.core.display.HTML object>"
      ]
     },
     "metadata": {},
     "output_type": "display_data"
    },
    {
     "data": {
      "text/html": [
       "Find logs at: <code>./wandb/run-20221124_224252-1i55ucj2/logs</code>"
      ],
      "text/plain": [
       "<IPython.core.display.HTML object>"
      ]
     },
     "metadata": {},
     "output_type": "display_data"
    },
    {
     "name": "stderr",
     "output_type": "stream",
     "text": [
      "[Parallel(n_jobs=1)]: Done   3 out of   3 | elapsed:  1.2min remaining:    0.0s\n"
     ]
    },
    {
     "data": {
      "text/html": [
       "Changes to your `wandb` environment variables will be ignored because your `wandb` session has already started. For more information on how to modify your settings with `wandb.init()` arguments, please refer to <a href=\"https://wandb.me/wandb-init\" target=\"_blank\">the W&B docs</a>."
      ],
      "text/plain": [
       "<IPython.core.display.HTML object>"
      ]
     },
     "metadata": {},
     "output_type": "display_data"
    },
    {
     "data": {
      "text/html": [
       "wandb version 0.13.5 is available!  To upgrade, please run:\n",
       " $ pip install wandb --upgrade"
      ],
      "text/plain": [
       "<IPython.core.display.HTML object>"
      ]
     },
     "metadata": {},
     "output_type": "display_data"
    },
    {
     "data": {
      "text/html": [
       "Tracking run with wandb version 0.12.21"
      ],
      "text/plain": [
       "<IPython.core.display.HTML object>"
      ]
     },
     "metadata": {},
     "output_type": "display_data"
    },
    {
     "data": {
      "text/html": [
       "Run data is saved locally in <code>/Users/artemgruzdev/Documents/TimeSeries/Code/wandb/run-20221124_224316-2e4rwste</code>"
      ],
      "text/plain": [
       "<IPython.core.display.HTML object>"
      ]
     },
     "metadata": {},
     "output_type": "display_data"
    },
    {
     "data": {
      "text/html": [
       "Syncing run <strong><a href=\"https://wandb.ai/gewissta/wandb-sweeps/runs/2e4rwste\" target=\"_blank\">Zh96dX64</a></strong> to <a href=\"https://wandb.ai/gewissta/wandb-sweeps\" target=\"_blank\">Weights & Biases</a> (<a href=\"https://wandb.me/run\" target=\"_blank\">docs</a>)<br/>"
      ],
      "text/plain": [
       "<IPython.core.display.HTML object>"
      ]
     },
     "metadata": {},
     "output_type": "display_data"
    },
    {
     "data": {
      "text/html": [
       "Waiting for W&B process to finish... <strong style=\"color:green\">(success).</strong>"
      ],
      "text/plain": [
       "<IPython.core.display.HTML object>"
      ]
     },
     "metadata": {},
     "output_type": "display_data"
    },
    {
     "data": {
      "application/vnd.jupyter.widget-view+json": {
       "model_id": "",
       "version_major": 2,
       "version_minor": 0
      },
      "text/plain": [
       "VBox(children=(Label(value='0.030 MB of 0.032 MB uploaded (0.000 MB deduped)\\r'), FloatProgress(value=0.930546…"
      ]
     },
     "metadata": {},
     "output_type": "display_data"
    },
    {
     "data": {
      "text/html": [
       "<style>\n",
       "    table.wandb td:nth-child(1) { padding: 0 10px; text-align: left ; width: auto;} td:nth-child(2) {text-align: left ; width: 100%}\n",
       "    .wandb-row { display: flex; flex-direction: row; flex-wrap: wrap; justify-content: flex-start; width: 100% }\n",
       "    .wandb-col { display: flex; flex-direction: column; flex-basis: 100%; flex: 1; padding: 10px; }\n",
       "    </style>\n",
       "<div class=\"wandb-row\"><div class=\"wandb-col\"><h3>Run history:</h3><br/><table class=\"wandb\"><tr><td>MAE_mean</td><td>▁</td></tr><tr><td>MAE_median</td><td>▁</td></tr><tr><td>MAE_percentile_25</td><td>▁</td></tr><tr><td>MAE_percentile_5</td><td>▁</td></tr><tr><td>MAE_percentile_75</td><td>▁</td></tr><tr><td>MAE_percentile_95</td><td>▁</td></tr><tr><td>MAE_std</td><td>▁</td></tr><tr><td>MSE_mean</td><td>▁</td></tr><tr><td>MSE_median</td><td>▁</td></tr><tr><td>MSE_percentile_25</td><td>▁</td></tr><tr><td>MSE_percentile_5</td><td>▁</td></tr><tr><td>MSE_percentile_75</td><td>▁</td></tr><tr><td>MSE_percentile_95</td><td>▁</td></tr><tr><td>MSE_std</td><td>▁</td></tr><tr><td>SMAPE_mean</td><td>▁</td></tr><tr><td>SMAPE_median</td><td>▁</td></tr><tr><td>SMAPE_percentile_25</td><td>▁</td></tr><tr><td>SMAPE_percentile_5</td><td>▁</td></tr><tr><td>SMAPE_percentile_75</td><td>▁</td></tr><tr><td>SMAPE_percentile_95</td><td>▁</td></tr><tr><td>SMAPE_std</td><td>▁</td></tr><tr><td>Sign_mean</td><td>▁</td></tr><tr><td>Sign_median</td><td>▁</td></tr><tr><td>Sign_percentile_25</td><td>▁</td></tr><tr><td>Sign_percentile_5</td><td>▁</td></tr><tr><td>Sign_percentile_75</td><td>▁</td></tr><tr><td>Sign_percentile_95</td><td>▁</td></tr><tr><td>Sign_std</td><td>▁</td></tr></table><br/></div><div class=\"wandb-col\"><h3>Run summary:</h3><br/><table class=\"wandb\"><tr><td>MAE_mean</td><td>58.37482</td></tr><tr><td>MAE_median</td><td>45.86099</td></tr><tr><td>MAE_percentile_25</td><td>22.35001</td></tr><tr><td>MAE_percentile_5</td><td>21.9864</td></tr><tr><td>MAE_percentile_75</td><td>81.8858</td></tr><tr><td>MAE_percentile_95</td><td>112.28261</td></tr><tr><td>MAE_std</td><td>46.61321</td></tr><tr><td>MSE_mean</td><td>7211.03856</td></tr><tr><td>MSE_median</td><td>4737.83913</td></tr><tr><td>MSE_percentile_25</td><td>1255.20002</td></tr><tr><td>MSE_percentile_5</td><td>799.54689</td></tr><tr><td>MSE_percentile_75</td><td>10693.67768</td></tr><tr><td>MSE_percentile_95</td><td>17085.00945</td></tr><tr><td>MSE_std</td><td>8328.69482</td></tr><tr><td>SMAPE_mean</td><td>11.11901</td></tr><tr><td>SMAPE_median</td><td>11.21214</td></tr><tr><td>SMAPE_percentile_25</td><td>9.73487</td></tr><tr><td>SMAPE_percentile_5</td><td>8.96659</td></tr><tr><td>SMAPE_percentile_75</td><td>12.59628</td></tr><tr><td>SMAPE_percentile_95</td><td>13.14105</td></tr><tr><td>SMAPE_std</td><td>2.06962</td></tr><tr><td>Sign_mean</td><td>0.42857</td></tr><tr><td>Sign_median</td><td>0.42857</td></tr><tr><td>Sign_percentile_25</td><td>0.21429</td></tr><tr><td>Sign_percentile_5</td><td>0.04286</td></tr><tr><td>Sign_percentile_75</td><td>0.64286</td></tr><tr><td>Sign_percentile_95</td><td>0.81429</td></tr><tr><td>Sign_std</td><td>0.36886</td></tr></table><br/></div></div>"
      ],
      "text/plain": [
       "<IPython.core.display.HTML object>"
      ]
     },
     "metadata": {},
     "output_type": "display_data"
    },
    {
     "data": {
      "text/html": [
       "Synced <strong style=\"color:#cdcd00\">Zh96dX64</strong>: <a href=\"https://wandb.ai/gewissta/wandb-sweeps/runs/2e4rwste\" target=\"_blank\">https://wandb.ai/gewissta/wandb-sweeps/runs/2e4rwste</a><br/>Synced 5 W&B file(s), 3 media file(s), 3 artifact file(s) and 0 other file(s)"
      ],
      "text/plain": [
       "<IPython.core.display.HTML object>"
      ]
     },
     "metadata": {},
     "output_type": "display_data"
    },
    {
     "data": {
      "text/html": [
       "Find logs at: <code>./wandb/run-20221124_224316-2e4rwste/logs</code>"
      ],
      "text/plain": [
       "<IPython.core.display.HTML object>"
      ]
     },
     "metadata": {},
     "output_type": "display_data"
    },
    {
     "name": "stderr",
     "output_type": "stream",
     "text": [
      "[Parallel(n_jobs=1)]: Done   4 out of   4 | elapsed:  1.6min remaining:    0.0s\n"
     ]
    },
    {
     "data": {
      "text/html": [
       "Changes to your `wandb` environment variables will be ignored because your `wandb` session has already started. For more information on how to modify your settings with `wandb.init()` arguments, please refer to <a href=\"https://wandb.me/wandb-init\" target=\"_blank\">the W&B docs</a>."
      ],
      "text/plain": [
       "<IPython.core.display.HTML object>"
      ]
     },
     "metadata": {},
     "output_type": "display_data"
    },
    {
     "data": {
      "text/html": [
       "wandb version 0.13.5 is available!  To upgrade, please run:\n",
       " $ pip install wandb --upgrade"
      ],
      "text/plain": [
       "<IPython.core.display.HTML object>"
      ]
     },
     "metadata": {},
     "output_type": "display_data"
    },
    {
     "data": {
      "text/html": [
       "Tracking run with wandb version 0.12.21"
      ],
      "text/plain": [
       "<IPython.core.display.HTML object>"
      ]
     },
     "metadata": {},
     "output_type": "display_data"
    },
    {
     "data": {
      "text/html": [
       "Run data is saved locally in <code>/Users/artemgruzdev/Documents/TimeSeries/Code/wandb/run-20221124_224339-1y9obibz</code>"
      ],
      "text/plain": [
       "<IPython.core.display.HTML object>"
      ]
     },
     "metadata": {},
     "output_type": "display_data"
    },
    {
     "data": {
      "text/html": [
       "Syncing run <strong><a href=\"https://wandb.ai/gewissta/wandb-sweeps/runs/1y9obibz\" target=\"_blank\">Zh96dX64</a></strong> to <a href=\"https://wandb.ai/gewissta/wandb-sweeps\" target=\"_blank\">Weights & Biases</a> (<a href=\"https://wandb.me/run\" target=\"_blank\">docs</a>)<br/>"
      ],
      "text/plain": [
       "<IPython.core.display.HTML object>"
      ]
     },
     "metadata": {},
     "output_type": "display_data"
    },
    {
     "data": {
      "text/html": [
       "Waiting for W&B process to finish... <strong style=\"color:green\">(success).</strong>"
      ],
      "text/plain": [
       "<IPython.core.display.HTML object>"
      ]
     },
     "metadata": {},
     "output_type": "display_data"
    },
    {
     "data": {
      "application/vnd.jupyter.widget-view+json": {
       "model_id": "",
       "version_major": 2,
       "version_minor": 0
      },
      "text/plain": [
       "VBox(children=(Label(value='0.030 MB of 0.032 MB uploaded (0.000 MB deduped)\\r'), FloatProgress(value=0.930205…"
      ]
     },
     "metadata": {},
     "output_type": "display_data"
    },
    {
     "data": {
      "text/html": [
       "<style>\n",
       "    table.wandb td:nth-child(1) { padding: 0 10px; text-align: left ; width: auto;} td:nth-child(2) {text-align: left ; width: 100%}\n",
       "    .wandb-row { display: flex; flex-direction: row; flex-wrap: wrap; justify-content: flex-start; width: 100% }\n",
       "    .wandb-col { display: flex; flex-direction: column; flex-basis: 100%; flex: 1; padding: 10px; }\n",
       "    </style>\n",
       "<div class=\"wandb-row\"><div class=\"wandb-col\"><h3>Run history:</h3><br/><table class=\"wandb\"><tr><td>MAE_mean</td><td>▁</td></tr><tr><td>MAE_median</td><td>▁</td></tr><tr><td>MAE_percentile_25</td><td>▁</td></tr><tr><td>MAE_percentile_5</td><td>▁</td></tr><tr><td>MAE_percentile_75</td><td>▁</td></tr><tr><td>MAE_percentile_95</td><td>▁</td></tr><tr><td>MAE_std</td><td>▁</td></tr><tr><td>MSE_mean</td><td>▁</td></tr><tr><td>MSE_median</td><td>▁</td></tr><tr><td>MSE_percentile_25</td><td>▁</td></tr><tr><td>MSE_percentile_5</td><td>▁</td></tr><tr><td>MSE_percentile_75</td><td>▁</td></tr><tr><td>MSE_percentile_95</td><td>▁</td></tr><tr><td>MSE_std</td><td>▁</td></tr><tr><td>SMAPE_mean</td><td>▁</td></tr><tr><td>SMAPE_median</td><td>▁</td></tr><tr><td>SMAPE_percentile_25</td><td>▁</td></tr><tr><td>SMAPE_percentile_5</td><td>▁</td></tr><tr><td>SMAPE_percentile_75</td><td>▁</td></tr><tr><td>SMAPE_percentile_95</td><td>▁</td></tr><tr><td>SMAPE_std</td><td>▁</td></tr><tr><td>Sign_mean</td><td>▁</td></tr><tr><td>Sign_median</td><td>▁</td></tr><tr><td>Sign_percentile_25</td><td>▁</td></tr><tr><td>Sign_percentile_5</td><td>▁</td></tr><tr><td>Sign_percentile_75</td><td>▁</td></tr><tr><td>Sign_percentile_95</td><td>▁</td></tr><tr><td>Sign_std</td><td>▁</td></tr></table><br/></div><div class=\"wandb-col\"><h3>Run summary:</h3><br/><table class=\"wandb\"><tr><td>MAE_mean</td><td>55.33685</td></tr><tr><td>MAE_median</td><td>49.20434</td></tr><tr><td>MAE_percentile_25</td><td>43.31319</td></tr><tr><td>MAE_percentile_5</td><td>30.21056</td></tr><tr><td>MAE_percentile_75</td><td>61.22801</td></tr><tr><td>MAE_percentile_95</td><td>89.04864</td></tr><tr><td>MAE_std</td><td>29.07495</td></tr><tr><td>MSE_mean</td><td>5828.92299</td></tr><tr><td>MSE_median</td><td>4381.0704</td></tr><tr><td>MSE_percentile_25</td><td>2596.48908</td></tr><tr><td>MSE_percentile_5</td><td>1485.33423</td></tr><tr><td>MSE_percentile_75</td><td>7613.50431</td></tr><tr><td>MSE_percentile_95</td><td>12199.50536</td></tr><tr><td>MSE_std</td><td>5340.0833</td></tr><tr><td>SMAPE_mean</td><td>13.5201</td></tr><tr><td>SMAPE_median</td><td>10.7364</td></tr><tr><td>SMAPE_percentile_25</td><td>10.30632</td></tr><tr><td>SMAPE_percentile_5</td><td>9.48074</td></tr><tr><td>SMAPE_percentile_75</td><td>13.95018</td></tr><tr><td>SMAPE_percentile_95</td><td>21.45665</td></tr><tr><td>SMAPE_std</td><td>6.57869</td></tr><tr><td>Sign_mean</td><td>0.35714</td></tr><tr><td>Sign_median</td><td>0.35714</td></tr><tr><td>Sign_percentile_25</td><td>0.25</td></tr><tr><td>Sign_percentile_5</td><td>0.16429</td></tr><tr><td>Sign_percentile_75</td><td>0.46429</td></tr><tr><td>Sign_percentile_95</td><td>0.55</td></tr><tr><td>Sign_std</td><td>0.18443</td></tr></table><br/></div></div>"
      ],
      "text/plain": [
       "<IPython.core.display.HTML object>"
      ]
     },
     "metadata": {},
     "output_type": "display_data"
    },
    {
     "data": {
      "text/html": [
       "Synced <strong style=\"color:#cdcd00\">Zh96dX64</strong>: <a href=\"https://wandb.ai/gewissta/wandb-sweeps/runs/1y9obibz\" target=\"_blank\">https://wandb.ai/gewissta/wandb-sweeps/runs/1y9obibz</a><br/>Synced 5 W&B file(s), 3 media file(s), 3 artifact file(s) and 0 other file(s)"
      ],
      "text/plain": [
       "<IPython.core.display.HTML object>"
      ]
     },
     "metadata": {},
     "output_type": "display_data"
    },
    {
     "data": {
      "text/html": [
       "Find logs at: <code>./wandb/run-20221124_224339-1y9obibz/logs</code>"
      ],
      "text/plain": [
       "<IPython.core.display.HTML object>"
      ]
     },
     "metadata": {},
     "output_type": "display_data"
    },
    {
     "name": "stderr",
     "output_type": "stream",
     "text": [
      "[Parallel(n_jobs=1)]: Done   5 out of   5 | elapsed:  2.0min remaining:    0.0s\n",
      "[Parallel(n_jobs=1)]: Done   5 out of   5 | elapsed:  2.0min finished\n"
     ]
    },
    {
     "data": {
      "text/html": [
       "Changes to your `wandb` environment variables will be ignored because your `wandb` session has already started. For more information on how to modify your settings with `wandb.init()` arguments, please refer to <a href=\"https://wandb.me/wandb-init\" target=\"_blank\">the W&B docs</a>."
      ],
      "text/plain": [
       "<IPython.core.display.HTML object>"
      ]
     },
     "metadata": {},
     "output_type": "display_data"
    },
    {
     "data": {
      "text/html": [
       "wandb version 0.13.5 is available!  To upgrade, please run:\n",
       " $ pip install wandb --upgrade"
      ],
      "text/plain": [
       "<IPython.core.display.HTML object>"
      ]
     },
     "metadata": {},
     "output_type": "display_data"
    },
    {
     "data": {
      "text/html": [
       "Tracking run with wandb version 0.12.21"
      ],
      "text/plain": [
       "<IPython.core.display.HTML object>"
      ]
     },
     "metadata": {},
     "output_type": "display_data"
    },
    {
     "data": {
      "text/html": [
       "Run data is saved locally in <code>/Users/artemgruzdev/Documents/TimeSeries/Code/wandb/run-20221124_224402-q7pjja00</code>"
      ],
      "text/plain": [
       "<IPython.core.display.HTML object>"
      ]
     },
     "metadata": {},
     "output_type": "display_data"
    },
    {
     "data": {
      "text/html": [
       "Syncing run <strong><a href=\"https://wandb.ai/gewissta/wandb-sweeps/runs/q7pjja00\" target=\"_blank\">Zh96dX64</a></strong> to <a href=\"https://wandb.ai/gewissta/wandb-sweeps\" target=\"_blank\">Weights & Biases</a> (<a href=\"https://wandb.me/run\" target=\"_blank\">docs</a>)<br/>"
      ],
      "text/plain": [
       "<IPython.core.display.HTML object>"
      ]
     },
     "metadata": {},
     "output_type": "display_data"
    },
    {
     "data": {
      "text/html": [
       "Waiting for W&B process to finish... <strong style=\"color:green\">(success).</strong>"
      ],
      "text/plain": [
       "<IPython.core.display.HTML object>"
      ]
     },
     "metadata": {},
     "output_type": "display_data"
    },
    {
     "data": {
      "application/vnd.jupyter.widget-view+json": {
       "model_id": "",
       "version_major": 2,
       "version_minor": 0
      },
      "text/plain": [
       "VBox(children=(Label(value='0.126 MB of 0.182 MB uploaded (0.000 MB deduped)\\r'), FloatProgress(value=0.693616…"
      ]
     },
     "metadata": {},
     "output_type": "display_data"
    },
    {
     "data": {
      "text/html": [
       "<style>\n",
       "    table.wandb td:nth-child(1) { padding: 0 10px; text-align: left ; width: auto;} td:nth-child(2) {text-align: left ; width: 100%}\n",
       "    .wandb-row { display: flex; flex-direction: row; flex-wrap: wrap; justify-content: flex-start; width: 100% }\n",
       "    .wandb-col { display: flex; flex-direction: column; flex-basis: 100%; flex: 1; padding: 10px; }\n",
       "    </style>\n",
       "<div class=\"wandb-row\"><div class=\"wandb-col\"><h3>Run history:</h3><br/><table class=\"wandb\"><tr><td>MAE_mean</td><td>▁</td></tr><tr><td>MAE_median</td><td>▁</td></tr><tr><td>MAE_percentile_25</td><td>▁</td></tr><tr><td>MAE_percentile_5</td><td>▁</td></tr><tr><td>MAE_percentile_75</td><td>▁</td></tr><tr><td>MAE_percentile_95</td><td>▁</td></tr><tr><td>MAE_std</td><td>▁</td></tr><tr><td>MSE_mean</td><td>▁</td></tr><tr><td>MSE_median</td><td>▁</td></tr><tr><td>MSE_percentile_25</td><td>▁</td></tr><tr><td>MSE_percentile_5</td><td>▁</td></tr><tr><td>MSE_percentile_75</td><td>▁</td></tr><tr><td>MSE_percentile_95</td><td>▁</td></tr><tr><td>MSE_std</td><td>▁</td></tr><tr><td>SMAPE_mean</td><td>▁</td></tr><tr><td>SMAPE_median</td><td>▁</td></tr><tr><td>SMAPE_percentile_25</td><td>▁</td></tr><tr><td>SMAPE_percentile_5</td><td>▁</td></tr><tr><td>SMAPE_percentile_75</td><td>▁</td></tr><tr><td>SMAPE_percentile_95</td><td>▁</td></tr><tr><td>SMAPE_std</td><td>▁</td></tr><tr><td>Sign_mean</td><td>▁</td></tr><tr><td>Sign_median</td><td>▁</td></tr><tr><td>Sign_percentile_25</td><td>▁</td></tr><tr><td>Sign_percentile_5</td><td>▁</td></tr><tr><td>Sign_percentile_75</td><td>▁</td></tr><tr><td>Sign_percentile_95</td><td>▁</td></tr><tr><td>Sign_std</td><td>▁</td></tr></table><br/></div><div class=\"wandb-col\"><h3>Run summary:</h3><br/><table class=\"wandb\"><tr><td>MAE_mean</td><td>43.98657</td></tr><tr><td>MAE_median</td><td>37.33139</td></tr><tr><td>MAE_percentile_25</td><td>20.35939</td></tr><tr><td>MAE_percentile_5</td><td>19.56788</td></tr><tr><td>MAE_percentile_75</td><td>60.95858</td></tr><tr><td>MAE_percentile_95</td><td>77.72252</td></tr><tr><td>MAE_std</td><td>29.92734</td></tr><tr><td>MSE_mean</td><td>4183.14056</td></tr><tr><td>MSE_median</td><td>2951.74773</td></tr><tr><td>MSE_percentile_25</td><td>918.36967</td></tr><tr><td>MSE_percentile_5</td><td>796.49463</td></tr><tr><td>MSE_percentile_75</td><td>6216.51862</td></tr><tr><td>MSE_percentile_95</td><td>9293.73644</td></tr><tr><td>MSE_std</td><td>4364.39906</td></tr><tr><td>SMAPE_mean</td><td>9.54888</td></tr><tr><td>SMAPE_median</td><td>9.64302</td></tr><tr><td>SMAPE_percentile_25</td><td>9.35485</td></tr><tr><td>SMAPE_percentile_5</td><td>8.67863</td></tr><tr><td>SMAPE_percentile_75</td><td>9.83704</td></tr><tr><td>SMAPE_percentile_95</td><td>10.28732</td></tr><tr><td>SMAPE_std</td><td>0.77935</td></tr><tr><td>Sign_mean</td><td>0.34286</td></tr><tr><td>Sign_median</td><td>0.34286</td></tr><tr><td>Sign_percentile_25</td><td>0.26429</td></tr><tr><td>Sign_percentile_5</td><td>0.21286</td></tr><tr><td>Sign_percentile_75</td><td>0.42143</td></tr><tr><td>Sign_percentile_95</td><td>0.47286</td></tr><tr><td>Sign_std</td><td>0.12563</td></tr></table><br/></div></div>"
      ],
      "text/plain": [
       "<IPython.core.display.HTML object>"
      ]
     },
     "metadata": {},
     "output_type": "display_data"
    },
    {
     "data": {
      "text/html": [
       "Synced <strong style=\"color:#cdcd00\">Zh96dX64</strong>: <a href=\"https://wandb.ai/gewissta/wandb-sweeps/runs/q7pjja00\" target=\"_blank\">https://wandb.ai/gewissta/wandb-sweeps/runs/q7pjja00</a><br/>Synced 5 W&B file(s), 4 media file(s), 3 artifact file(s) and 0 other file(s)"
      ],
      "text/plain": [
       "<IPython.core.display.HTML object>"
      ]
     },
     "metadata": {},
     "output_type": "display_data"
    },
    {
     "data": {
      "text/html": [
       "Find logs at: <code>./wandb/run-20221124_224402-q7pjja00/logs</code>"
      ],
      "text/plain": [
       "<IPython.core.display.HTML object>"
      ]
     },
     "metadata": {},
     "output_type": "display_data"
    },
    {
     "name": "stderr",
     "output_type": "stream",
     "text": [
      "\u001b[32m[I 2022-11-24 22:44:27,930]\u001b[0m Trial 0 finished with value: 43.98657351662118 and parameters: {'iterations': 15, 'depth': 7, 'lags': 8}. Best is trial 0 with value: 43.98657351662118.\u001b[0m\n",
      "[Parallel(n_jobs=1)]: Using backend SequentialBackend with 1 concurrent workers.\n"
     ]
    },
    {
     "data": {
      "text/html": [
       "Changes to your `wandb` environment variables will be ignored because your `wandb` session has already started. For more information on how to modify your settings with `wandb.init()` arguments, please refer to <a href=\"https://wandb.me/wandb-init\" target=\"_blank\">the W&B docs</a>."
      ],
      "text/plain": [
       "<IPython.core.display.HTML object>"
      ]
     },
     "metadata": {},
     "output_type": "display_data"
    },
    {
     "data": {
      "text/html": [
       "wandb version 0.13.5 is available!  To upgrade, please run:\n",
       " $ pip install wandb --upgrade"
      ],
      "text/plain": [
       "<IPython.core.display.HTML object>"
      ]
     },
     "metadata": {},
     "output_type": "display_data"
    },
    {
     "data": {
      "text/html": [
       "Tracking run with wandb version 0.12.21"
      ],
      "text/plain": [
       "<IPython.core.display.HTML object>"
      ]
     },
     "metadata": {},
     "output_type": "display_data"
    },
    {
     "data": {
      "text/html": [
       "Run data is saved locally in <code>/Users/artemgruzdev/Documents/TimeSeries/Code/wandb/run-20221124_224428-14wu96uo</code>"
      ],
      "text/plain": [
       "<IPython.core.display.HTML object>"
      ]
     },
     "metadata": {},
     "output_type": "display_data"
    },
    {
     "data": {
      "text/html": [
       "Syncing run <strong><a href=\"https://wandb.ai/gewissta/wandb-sweeps/runs/14wu96uo\" target=\"_blank\">MiziCHz6</a></strong> to <a href=\"https://wandb.ai/gewissta/wandb-sweeps\" target=\"_blank\">Weights & Biases</a> (<a href=\"https://wandb.me/run\" target=\"_blank\">docs</a>)<br/>"
      ],
      "text/plain": [
       "<IPython.core.display.HTML object>"
      ]
     },
     "metadata": {},
     "output_type": "display_data"
    },
    {
     "data": {
      "text/html": [
       "Waiting for W&B process to finish... <strong style=\"color:green\">(success).</strong>"
      ],
      "text/plain": [
       "<IPython.core.display.HTML object>"
      ]
     },
     "metadata": {},
     "output_type": "display_data"
    },
    {
     "data": {
      "application/vnd.jupyter.widget-view+json": {
       "model_id": "",
       "version_major": 2,
       "version_minor": 0
      },
      "text/plain": [
       "VBox(children=(Label(value='0.043 MB of 0.045 MB uploaded (0.000 MB deduped)\\r'), FloatProgress(value=0.949934…"
      ]
     },
     "metadata": {},
     "output_type": "display_data"
    },
    {
     "data": {
      "text/html": [
       "<style>\n",
       "    table.wandb td:nth-child(1) { padding: 0 10px; text-align: left ; width: auto;} td:nth-child(2) {text-align: left ; width: 100%}\n",
       "    .wandb-row { display: flex; flex-direction: row; flex-wrap: wrap; justify-content: flex-start; width: 100% }\n",
       "    .wandb-col { display: flex; flex-direction: column; flex-basis: 100%; flex: 1; padding: 10px; }\n",
       "    </style>\n",
       "<div class=\"wandb-row\"><div class=\"wandb-col\"><h3>Run history:</h3><br/><table class=\"wandb\"><tr><td>MAE_mean</td><td>▁</td></tr><tr><td>MAE_median</td><td>▁</td></tr><tr><td>MAE_percentile_25</td><td>▁</td></tr><tr><td>MAE_percentile_5</td><td>▁</td></tr><tr><td>MAE_percentile_75</td><td>▁</td></tr><tr><td>MAE_percentile_95</td><td>▁</td></tr><tr><td>MAE_std</td><td>▁</td></tr><tr><td>MSE_mean</td><td>▁</td></tr><tr><td>MSE_median</td><td>▁</td></tr><tr><td>MSE_percentile_25</td><td>▁</td></tr><tr><td>MSE_percentile_5</td><td>▁</td></tr><tr><td>MSE_percentile_75</td><td>▁</td></tr><tr><td>MSE_percentile_95</td><td>▁</td></tr><tr><td>MSE_std</td><td>▁</td></tr><tr><td>SMAPE_mean</td><td>▁</td></tr><tr><td>SMAPE_median</td><td>▁</td></tr><tr><td>SMAPE_percentile_25</td><td>▁</td></tr><tr><td>SMAPE_percentile_5</td><td>▁</td></tr><tr><td>SMAPE_percentile_75</td><td>▁</td></tr><tr><td>SMAPE_percentile_95</td><td>▁</td></tr><tr><td>SMAPE_std</td><td>▁</td></tr><tr><td>Sign_mean</td><td>▁</td></tr><tr><td>Sign_median</td><td>▁</td></tr><tr><td>Sign_percentile_25</td><td>▁</td></tr><tr><td>Sign_percentile_5</td><td>▁</td></tr><tr><td>Sign_percentile_75</td><td>▁</td></tr><tr><td>Sign_percentile_95</td><td>▁</td></tr><tr><td>Sign_std</td><td>▁</td></tr></table><br/></div><div class=\"wandb-col\"><h3>Run summary:</h3><br/><table class=\"wandb\"><tr><td>MAE_mean</td><td>36.09996</td></tr><tr><td>MAE_median</td><td>30.82135</td></tr><tr><td>MAE_percentile_25</td><td>16.89003</td></tr><tr><td>MAE_percentile_5</td><td>11.00231</td></tr><tr><td>MAE_percentile_75</td><td>50.03128</td></tr><tr><td>MAE_percentile_95</td><td>68.58765</td></tr><tr><td>MAE_std</td><td>28.30525</td></tr><tr><td>MSE_mean</td><td>3492.65462</td></tr><tr><td>MSE_median</td><td>2486.53662</td></tr><tr><td>MSE_percentile_25</td><td>491.66263</td></tr><tr><td>MSE_percentile_5</td><td>197.80219</td></tr><tr><td>MSE_percentile_75</td><td>5487.52861</td></tr><tr><td>MSE_percentile_95</td><td>8196.07224</td></tr><tr><td>MSE_std</td><td>4055.13956</td></tr><tr><td>SMAPE_mean</td><td>8.3474</td></tr><tr><td>SMAPE_median</td><td>8.93246</td></tr><tr><td>SMAPE_percentile_25</td><td>7.9295</td></tr><tr><td>SMAPE_percentile_5</td><td>6.23488</td></tr><tr><td>SMAPE_percentile_75</td><td>9.35037</td></tr><tr><td>SMAPE_percentile_95</td><td>9.64084</td></tr><tr><td>SMAPE_std</td><td>1.7473</td></tr><tr><td>Sign_mean</td><td>0.10714</td></tr><tr><td>Sign_median</td><td>0.21429</td></tr><tr><td>Sign_percentile_25</td><td>-0.10714</td></tr><tr><td>Sign_percentile_5</td><td>-0.36429</td></tr><tr><td>Sign_percentile_75</td><td>0.42857</td></tr><tr><td>Sign_percentile_95</td><td>0.42857</td></tr><tr><td>Sign_std</td><td>0.41033</td></tr></table><br/></div></div>"
      ],
      "text/plain": [
       "<IPython.core.display.HTML object>"
      ]
     },
     "metadata": {},
     "output_type": "display_data"
    },
    {
     "data": {
      "text/html": [
       "Synced <strong style=\"color:#cdcd00\">MiziCHz6</strong>: <a href=\"https://wandb.ai/gewissta/wandb-sweeps/runs/14wu96uo\" target=\"_blank\">https://wandb.ai/gewissta/wandb-sweeps/runs/14wu96uo</a><br/>Synced 5 W&B file(s), 3 media file(s), 3 artifact file(s) and 0 other file(s)"
      ],
      "text/plain": [
       "<IPython.core.display.HTML object>"
      ]
     },
     "metadata": {},
     "output_type": "display_data"
    },
    {
     "data": {
      "text/html": [
       "Find logs at: <code>./wandb/run-20221124_224428-14wu96uo/logs</code>"
      ],
      "text/plain": [
       "<IPython.core.display.HTML object>"
      ]
     },
     "metadata": {},
     "output_type": "display_data"
    },
    {
     "name": "stderr",
     "output_type": "stream",
     "text": [
      "[Parallel(n_jobs=1)]: Done   1 out of   1 | elapsed:   25.3s remaining:    0.0s\n"
     ]
    },
    {
     "data": {
      "text/html": [
       "Changes to your `wandb` environment variables will be ignored because your `wandb` session has already started. For more information on how to modify your settings with `wandb.init()` arguments, please refer to <a href=\"https://wandb.me/wandb-init\" target=\"_blank\">the W&B docs</a>."
      ],
      "text/plain": [
       "<IPython.core.display.HTML object>"
      ]
     },
     "metadata": {},
     "output_type": "display_data"
    },
    {
     "data": {
      "text/html": [
       "wandb version 0.13.5 is available!  To upgrade, please run:\n",
       " $ pip install wandb --upgrade"
      ],
      "text/plain": [
       "<IPython.core.display.HTML object>"
      ]
     },
     "metadata": {},
     "output_type": "display_data"
    },
    {
     "data": {
      "text/html": [
       "Tracking run with wandb version 0.12.21"
      ],
      "text/plain": [
       "<IPython.core.display.HTML object>"
      ]
     },
     "metadata": {},
     "output_type": "display_data"
    },
    {
     "data": {
      "text/html": [
       "Run data is saved locally in <code>/Users/artemgruzdev/Documents/TimeSeries/Code/wandb/run-20221124_224453-3d49eqwx</code>"
      ],
      "text/plain": [
       "<IPython.core.display.HTML object>"
      ]
     },
     "metadata": {},
     "output_type": "display_data"
    },
    {
     "data": {
      "text/html": [
       "Syncing run <strong><a href=\"https://wandb.ai/gewissta/wandb-sweeps/runs/3d49eqwx\" target=\"_blank\">MiziCHz6</a></strong> to <a href=\"https://wandb.ai/gewissta/wandb-sweeps\" target=\"_blank\">Weights & Biases</a> (<a href=\"https://wandb.me/run\" target=\"_blank\">docs</a>)<br/>"
      ],
      "text/plain": [
       "<IPython.core.display.HTML object>"
      ]
     },
     "metadata": {},
     "output_type": "display_data"
    },
    {
     "data": {
      "text/html": [
       "Waiting for W&B process to finish... <strong style=\"color:green\">(success).</strong>"
      ],
      "text/plain": [
       "<IPython.core.display.HTML object>"
      ]
     },
     "metadata": {},
     "output_type": "display_data"
    },
    {
     "data": {
      "application/vnd.jupyter.widget-view+json": {
       "model_id": "",
       "version_major": 2,
       "version_minor": 0
      },
      "text/plain": [
       "VBox(children=(Label(value='0.042 MB of 0.045 MB uploaded (0.000 MB deduped)\\r'), FloatProgress(value=0.949713…"
      ]
     },
     "metadata": {},
     "output_type": "display_data"
    },
    {
     "data": {
      "text/html": [
       "<style>\n",
       "    table.wandb td:nth-child(1) { padding: 0 10px; text-align: left ; width: auto;} td:nth-child(2) {text-align: left ; width: 100%}\n",
       "    .wandb-row { display: flex; flex-direction: row; flex-wrap: wrap; justify-content: flex-start; width: 100% }\n",
       "    .wandb-col { display: flex; flex-direction: column; flex-basis: 100%; flex: 1; padding: 10px; }\n",
       "    </style>\n",
       "<div class=\"wandb-row\"><div class=\"wandb-col\"><h3>Run history:</h3><br/><table class=\"wandb\"><tr><td>MAE_mean</td><td>▁</td></tr><tr><td>MAE_median</td><td>▁</td></tr><tr><td>MAE_percentile_25</td><td>▁</td></tr><tr><td>MAE_percentile_5</td><td>▁</td></tr><tr><td>MAE_percentile_75</td><td>▁</td></tr><tr><td>MAE_percentile_95</td><td>▁</td></tr><tr><td>MAE_std</td><td>▁</td></tr><tr><td>MSE_mean</td><td>▁</td></tr><tr><td>MSE_median</td><td>▁</td></tr><tr><td>MSE_percentile_25</td><td>▁</td></tr><tr><td>MSE_percentile_5</td><td>▁</td></tr><tr><td>MSE_percentile_75</td><td>▁</td></tr><tr><td>MSE_percentile_95</td><td>▁</td></tr><tr><td>MSE_std</td><td>▁</td></tr><tr><td>SMAPE_mean</td><td>▁</td></tr><tr><td>SMAPE_median</td><td>▁</td></tr><tr><td>SMAPE_percentile_25</td><td>▁</td></tr><tr><td>SMAPE_percentile_5</td><td>▁</td></tr><tr><td>SMAPE_percentile_75</td><td>▁</td></tr><tr><td>SMAPE_percentile_95</td><td>▁</td></tr><tr><td>SMAPE_std</td><td>▁</td></tr><tr><td>Sign_mean</td><td>▁</td></tr><tr><td>Sign_median</td><td>▁</td></tr><tr><td>Sign_percentile_25</td><td>▁</td></tr><tr><td>Sign_percentile_5</td><td>▁</td></tr><tr><td>Sign_percentile_75</td><td>▁</td></tr><tr><td>Sign_percentile_95</td><td>▁</td></tr><tr><td>Sign_std</td><td>▁</td></tr></table><br/></div><div class=\"wandb-col\"><h3>Run summary:</h3><br/><table class=\"wandb\"><tr><td>MAE_mean</td><td>42.25178</td></tr><tr><td>MAE_median</td><td>38.18243</td></tr><tr><td>MAE_percentile_25</td><td>20.50521</td></tr><tr><td>MAE_percentile_5</td><td>14.76905</td></tr><tr><td>MAE_percentile_75</td><td>59.929</td></tr><tr><td>MAE_percentile_95</td><td>75.43161</td></tr><tr><td>MAE_std</td><td>30.0544</td></tr><tr><td>MSE_mean</td><td>3940.43086</td></tr><tr><td>MSE_median</td><td>2933.90991</td></tr><tr><td>MSE_percentile_25</td><td>739.89111</td></tr><tr><td>MSE_percentile_5</td><td>387.40683</td></tr><tr><td>MSE_percentile_75</td><td>6134.44966</td></tr><tr><td>MSE_percentile_95</td><td>8902.58421</td></tr><tr><td>MSE_std</td><td>4306.41328</td></tr><tr><td>SMAPE_mean</td><td>9.4052</td></tr><tr><td>SMAPE_median</td><td>9.57237</td></tr><tr><td>SMAPE_percentile_25</td><td>9.11521</td></tr><tr><td>SMAPE_percentile_5</td><td>8.17162</td></tr><tr><td>SMAPE_percentile_75</td><td>9.86235</td></tr><tr><td>SMAPE_percentile_95</td><td>10.40475</td></tr><tr><td>SMAPE_std</td><td>1.08197</td></tr><tr><td>Sign_mean</td><td>0.39286</td></tr><tr><td>Sign_median</td><td>0.35714</td></tr><tr><td>Sign_percentile_25</td><td>0.28571</td></tr><tr><td>Sign_percentile_5</td><td>0.28571</td></tr><tr><td>Sign_percentile_75</td><td>0.46429</td></tr><tr><td>Sign_percentile_95</td><td>0.55</td></tr><tr><td>Sign_std</td><td>0.13678</td></tr></table><br/></div></div>"
      ],
      "text/plain": [
       "<IPython.core.display.HTML object>"
      ]
     },
     "metadata": {},
     "output_type": "display_data"
    },
    {
     "data": {
      "text/html": [
       "Synced <strong style=\"color:#cdcd00\">MiziCHz6</strong>: <a href=\"https://wandb.ai/gewissta/wandb-sweeps/runs/3d49eqwx\" target=\"_blank\">https://wandb.ai/gewissta/wandb-sweeps/runs/3d49eqwx</a><br/>Synced 5 W&B file(s), 3 media file(s), 3 artifact file(s) and 0 other file(s)"
      ],
      "text/plain": [
       "<IPython.core.display.HTML object>"
      ]
     },
     "metadata": {},
     "output_type": "display_data"
    },
    {
     "data": {
      "text/html": [
       "Find logs at: <code>./wandb/run-20221124_224453-3d49eqwx/logs</code>"
      ],
      "text/plain": [
       "<IPython.core.display.HTML object>"
      ]
     },
     "metadata": {},
     "output_type": "display_data"
    },
    {
     "name": "stderr",
     "output_type": "stream",
     "text": [
      "[Parallel(n_jobs=1)]: Done   2 out of   2 | elapsed:   49.5s remaining:    0.0s\n"
     ]
    },
    {
     "data": {
      "text/html": [
       "Changes to your `wandb` environment variables will be ignored because your `wandb` session has already started. For more information on how to modify your settings with `wandb.init()` arguments, please refer to <a href=\"https://wandb.me/wandb-init\" target=\"_blank\">the W&B docs</a>."
      ],
      "text/plain": [
       "<IPython.core.display.HTML object>"
      ]
     },
     "metadata": {},
     "output_type": "display_data"
    },
    {
     "data": {
      "text/html": [
       "wandb version 0.13.5 is available!  To upgrade, please run:\n",
       " $ pip install wandb --upgrade"
      ],
      "text/plain": [
       "<IPython.core.display.HTML object>"
      ]
     },
     "metadata": {},
     "output_type": "display_data"
    },
    {
     "data": {
      "text/html": [
       "Tracking run with wandb version 0.12.21"
      ],
      "text/plain": [
       "<IPython.core.display.HTML object>"
      ]
     },
     "metadata": {},
     "output_type": "display_data"
    },
    {
     "data": {
      "text/html": [
       "Run data is saved locally in <code>/Users/artemgruzdev/Documents/TimeSeries/Code/wandb/run-20221124_224517-2w183oxr</code>"
      ],
      "text/plain": [
       "<IPython.core.display.HTML object>"
      ]
     },
     "metadata": {},
     "output_type": "display_data"
    },
    {
     "data": {
      "text/html": [
       "Syncing run <strong><a href=\"https://wandb.ai/gewissta/wandb-sweeps/runs/2w183oxr\" target=\"_blank\">MiziCHz6</a></strong> to <a href=\"https://wandb.ai/gewissta/wandb-sweeps\" target=\"_blank\">Weights & Biases</a> (<a href=\"https://wandb.me/run\" target=\"_blank\">docs</a>)<br/>"
      ],
      "text/plain": [
       "<IPython.core.display.HTML object>"
      ]
     },
     "metadata": {},
     "output_type": "display_data"
    },
    {
     "data": {
      "text/html": [
       "Waiting for W&B process to finish... <strong style=\"color:green\">(success).</strong>"
      ],
      "text/plain": [
       "<IPython.core.display.HTML object>"
      ]
     },
     "metadata": {},
     "output_type": "display_data"
    },
    {
     "data": {
      "application/vnd.jupyter.widget-view+json": {
       "model_id": "",
       "version_major": 2,
       "version_minor": 0
      },
      "text/plain": [
       "VBox(children=(Label(value='0.042 MB of 0.045 MB uploaded (0.000 MB deduped)\\r'), FloatProgress(value=0.949687…"
      ]
     },
     "metadata": {},
     "output_type": "display_data"
    },
    {
     "data": {
      "text/html": [
       "<style>\n",
       "    table.wandb td:nth-child(1) { padding: 0 10px; text-align: left ; width: auto;} td:nth-child(2) {text-align: left ; width: 100%}\n",
       "    .wandb-row { display: flex; flex-direction: row; flex-wrap: wrap; justify-content: flex-start; width: 100% }\n",
       "    .wandb-col { display: flex; flex-direction: column; flex-basis: 100%; flex: 1; padding: 10px; }\n",
       "    </style>\n",
       "<div class=\"wandb-row\"><div class=\"wandb-col\"><h3>Run history:</h3><br/><table class=\"wandb\"><tr><td>MAE_mean</td><td>▁</td></tr><tr><td>MAE_median</td><td>▁</td></tr><tr><td>MAE_percentile_25</td><td>▁</td></tr><tr><td>MAE_percentile_5</td><td>▁</td></tr><tr><td>MAE_percentile_75</td><td>▁</td></tr><tr><td>MAE_percentile_95</td><td>▁</td></tr><tr><td>MAE_std</td><td>▁</td></tr><tr><td>MSE_mean</td><td>▁</td></tr><tr><td>MSE_median</td><td>▁</td></tr><tr><td>MSE_percentile_25</td><td>▁</td></tr><tr><td>MSE_percentile_5</td><td>▁</td></tr><tr><td>MSE_percentile_75</td><td>▁</td></tr><tr><td>MSE_percentile_95</td><td>▁</td></tr><tr><td>MSE_std</td><td>▁</td></tr><tr><td>SMAPE_mean</td><td>▁</td></tr><tr><td>SMAPE_median</td><td>▁</td></tr><tr><td>SMAPE_percentile_25</td><td>▁</td></tr><tr><td>SMAPE_percentile_5</td><td>▁</td></tr><tr><td>SMAPE_percentile_75</td><td>▁</td></tr><tr><td>SMAPE_percentile_95</td><td>▁</td></tr><tr><td>SMAPE_std</td><td>▁</td></tr><tr><td>Sign_mean</td><td>▁</td></tr><tr><td>Sign_median</td><td>▁</td></tr><tr><td>Sign_percentile_25</td><td>▁</td></tr><tr><td>Sign_percentile_5</td><td>▁</td></tr><tr><td>Sign_percentile_75</td><td>▁</td></tr><tr><td>Sign_percentile_95</td><td>▁</td></tr><tr><td>Sign_std</td><td>▁</td></tr></table><br/></div><div class=\"wandb-col\"><h3>Run summary:</h3><br/><table class=\"wandb\"><tr><td>MAE_mean</td><td>42.01125</td></tr><tr><td>MAE_median</td><td>39.89166</td></tr><tr><td>MAE_percentile_25</td><td>18.96263</td></tr><tr><td>MAE_percentile_5</td><td>11.98539</td></tr><tr><td>MAE_percentile_75</td><td>62.94028</td></tr><tr><td>MAE_percentile_95</td><td>75.00454</td></tr><tr><td>MAE_std</td><td>31.43553</td></tr><tr><td>MSE_mean</td><td>3612.21344</td></tr><tr><td>MSE_median</td><td>2755.21879</td></tr><tr><td>MSE_percentile_25</td><td>500.68923</td></tr><tr><td>MSE_percentile_5</td><td>212.07747</td></tr><tr><td>MSE_percentile_75</td><td>5866.743</td></tr><tr><td>MSE_percentile_95</td><td>8212.14192</td></tr><tr><td>MSE_std</td><td>4063.38973</td></tr><tr><td>SMAPE_mean</td><td>8.96454</td></tr><tr><td>SMAPE_median</td><td>9.43421</td></tr><tr><td>SMAPE_percentile_25</td><td>8.34121</td></tr><tr><td>SMAPE_percentile_5</td><td>6.22772</td></tr><tr><td>SMAPE_percentile_75</td><td>10.05754</td></tr><tr><td>SMAPE_percentile_95</td><td>11.04384</td></tr><tr><td>SMAPE_std</td><td>2.35249</td></tr><tr><td>Sign_mean</td><td>0.64286</td></tr><tr><td>Sign_median</td><td>0.64286</td></tr><tr><td>Sign_percentile_25</td><td>0.53571</td></tr><tr><td>Sign_percentile_5</td><td>0.45</td></tr><tr><td>Sign_percentile_75</td><td>0.75</td></tr><tr><td>Sign_percentile_95</td><td>0.83571</td></tr><tr><td>Sign_std</td><td>0.18443</td></tr></table><br/></div></div>"
      ],
      "text/plain": [
       "<IPython.core.display.HTML object>"
      ]
     },
     "metadata": {},
     "output_type": "display_data"
    },
    {
     "data": {
      "text/html": [
       "Synced <strong style=\"color:#cdcd00\">MiziCHz6</strong>: <a href=\"https://wandb.ai/gewissta/wandb-sweeps/runs/2w183oxr\" target=\"_blank\">https://wandb.ai/gewissta/wandb-sweeps/runs/2w183oxr</a><br/>Synced 5 W&B file(s), 3 media file(s), 3 artifact file(s) and 0 other file(s)"
      ],
      "text/plain": [
       "<IPython.core.display.HTML object>"
      ]
     },
     "metadata": {},
     "output_type": "display_data"
    },
    {
     "data": {
      "text/html": [
       "Find logs at: <code>./wandb/run-20221124_224517-2w183oxr/logs</code>"
      ],
      "text/plain": [
       "<IPython.core.display.HTML object>"
      ]
     },
     "metadata": {},
     "output_type": "display_data"
    },
    {
     "name": "stderr",
     "output_type": "stream",
     "text": [
      "[Parallel(n_jobs=1)]: Done   3 out of   3 | elapsed:  1.2min remaining:    0.0s\n"
     ]
    },
    {
     "data": {
      "text/html": [
       "Changes to your `wandb` environment variables will be ignored because your `wandb` session has already started. For more information on how to modify your settings with `wandb.init()` arguments, please refer to <a href=\"https://wandb.me/wandb-init\" target=\"_blank\">the W&B docs</a>."
      ],
      "text/plain": [
       "<IPython.core.display.HTML object>"
      ]
     },
     "metadata": {},
     "output_type": "display_data"
    },
    {
     "data": {
      "text/html": [
       "wandb version 0.13.5 is available!  To upgrade, please run:\n",
       " $ pip install wandb --upgrade"
      ],
      "text/plain": [
       "<IPython.core.display.HTML object>"
      ]
     },
     "metadata": {},
     "output_type": "display_data"
    },
    {
     "data": {
      "text/html": [
       "Tracking run with wandb version 0.12.21"
      ],
      "text/plain": [
       "<IPython.core.display.HTML object>"
      ]
     },
     "metadata": {},
     "output_type": "display_data"
    },
    {
     "data": {
      "text/html": [
       "Run data is saved locally in <code>/Users/artemgruzdev/Documents/TimeSeries/Code/wandb/run-20221124_224542-2qqwm4up</code>"
      ],
      "text/plain": [
       "<IPython.core.display.HTML object>"
      ]
     },
     "metadata": {},
     "output_type": "display_data"
    },
    {
     "data": {
      "text/html": [
       "Syncing run <strong><a href=\"https://wandb.ai/gewissta/wandb-sweeps/runs/2qqwm4up\" target=\"_blank\">MiziCHz6</a></strong> to <a href=\"https://wandb.ai/gewissta/wandb-sweeps\" target=\"_blank\">Weights & Biases</a> (<a href=\"https://wandb.me/run\" target=\"_blank\">docs</a>)<br/>"
      ],
      "text/plain": [
       "<IPython.core.display.HTML object>"
      ]
     },
     "metadata": {},
     "output_type": "display_data"
    },
    {
     "data": {
      "text/html": [
       "Waiting for W&B process to finish... <strong style=\"color:green\">(success).</strong>"
      ],
      "text/plain": [
       "<IPython.core.display.HTML object>"
      ]
     },
     "metadata": {},
     "output_type": "display_data"
    },
    {
     "data": {
      "application/vnd.jupyter.widget-view+json": {
       "model_id": "",
       "version_major": 2,
       "version_minor": 0
      },
      "text/plain": [
       "VBox(children=(Label(value='0.042 MB of 0.045 MB uploaded (0.000 MB deduped)\\r'), FloatProgress(value=0.939577…"
      ]
     },
     "metadata": {},
     "output_type": "display_data"
    },
    {
     "data": {
      "text/html": [
       "<style>\n",
       "    table.wandb td:nth-child(1) { padding: 0 10px; text-align: left ; width: auto;} td:nth-child(2) {text-align: left ; width: 100%}\n",
       "    .wandb-row { display: flex; flex-direction: row; flex-wrap: wrap; justify-content: flex-start; width: 100% }\n",
       "    .wandb-col { display: flex; flex-direction: column; flex-basis: 100%; flex: 1; padding: 10px; }\n",
       "    </style>\n",
       "<div class=\"wandb-row\"><div class=\"wandb-col\"><h3>Run history:</h3><br/><table class=\"wandb\"><tr><td>MAE_mean</td><td>▁</td></tr><tr><td>MAE_median</td><td>▁</td></tr><tr><td>MAE_percentile_25</td><td>▁</td></tr><tr><td>MAE_percentile_5</td><td>▁</td></tr><tr><td>MAE_percentile_75</td><td>▁</td></tr><tr><td>MAE_percentile_95</td><td>▁</td></tr><tr><td>MAE_std</td><td>▁</td></tr><tr><td>MSE_mean</td><td>▁</td></tr><tr><td>MSE_median</td><td>▁</td></tr><tr><td>MSE_percentile_25</td><td>▁</td></tr><tr><td>MSE_percentile_5</td><td>▁</td></tr><tr><td>MSE_percentile_75</td><td>▁</td></tr><tr><td>MSE_percentile_95</td><td>▁</td></tr><tr><td>MSE_std</td><td>▁</td></tr><tr><td>SMAPE_mean</td><td>▁</td></tr><tr><td>SMAPE_median</td><td>▁</td></tr><tr><td>SMAPE_percentile_25</td><td>▁</td></tr><tr><td>SMAPE_percentile_5</td><td>▁</td></tr><tr><td>SMAPE_percentile_75</td><td>▁</td></tr><tr><td>SMAPE_percentile_95</td><td>▁</td></tr><tr><td>SMAPE_std</td><td>▁</td></tr><tr><td>Sign_mean</td><td>▁</td></tr><tr><td>Sign_median</td><td>▁</td></tr><tr><td>Sign_percentile_25</td><td>▁</td></tr><tr><td>Sign_percentile_5</td><td>▁</td></tr><tr><td>Sign_percentile_75</td><td>▁</td></tr><tr><td>Sign_percentile_95</td><td>▁</td></tr><tr><td>Sign_std</td><td>▁</td></tr></table><br/></div><div class=\"wandb-col\"><h3>Run summary:</h3><br/><table class=\"wandb\"><tr><td>MAE_mean</td><td>57.65774</td></tr><tr><td>MAE_median</td><td>43.2391</td></tr><tr><td>MAE_percentile_25</td><td>22.03484</td></tr><tr><td>MAE_percentile_5</td><td>21.69273</td></tr><tr><td>MAE_percentile_75</td><td>78.86199</td></tr><tr><td>MAE_percentile_95</td><td>113.80885</td></tr><tr><td>MAE_std</td><td>47.65521</td></tr><tr><td>MSE_mean</td><td>7618.21961</td></tr><tr><td>MSE_median</td><td>4004.8361</td></tr><tr><td>MSE_percentile_25</td><td>1222.58487</td></tr><tr><td>MSE_percentile_5</td><td>747.65732</td></tr><tr><td>MSE_percentile_75</td><td>10400.47084</td></tr><tr><td>MSE_percentile_95</td><td>19547.51879</td></tr><tr><td>MSE_std</td><td>9838.99709</td></tr><tr><td>SMAPE_mean</td><td>10.94342</td></tr><tr><td>SMAPE_median</td><td>10.67452</td></tr><tr><td>SMAPE_percentile_25</td><td>9.64795</td></tr><tr><td>SMAPE_percentile_5</td><td>9.06453</td></tr><tr><td>SMAPE_percentile_75</td><td>11.96999</td></tr><tr><td>SMAPE_percentile_95</td><td>13.19877</td></tr><tr><td>SMAPE_std</td><td>2.00321</td></tr><tr><td>Sign_mean</td><td>0.64286</td></tr><tr><td>Sign_median</td><td>0.64286</td></tr><tr><td>Sign_percentile_25</td><td>0.53571</td></tr><tr><td>Sign_percentile_5</td><td>0.45</td></tr><tr><td>Sign_percentile_75</td><td>0.75</td></tr><tr><td>Sign_percentile_95</td><td>0.83571</td></tr><tr><td>Sign_std</td><td>0.18443</td></tr></table><br/></div></div>"
      ],
      "text/plain": [
       "<IPython.core.display.HTML object>"
      ]
     },
     "metadata": {},
     "output_type": "display_data"
    },
    {
     "data": {
      "text/html": [
       "Synced <strong style=\"color:#cdcd00\">MiziCHz6</strong>: <a href=\"https://wandb.ai/gewissta/wandb-sweeps/runs/2qqwm4up\" target=\"_blank\">https://wandb.ai/gewissta/wandb-sweeps/runs/2qqwm4up</a><br/>Synced 5 W&B file(s), 3 media file(s), 3 artifact file(s) and 0 other file(s)"
      ],
      "text/plain": [
       "<IPython.core.display.HTML object>"
      ]
     },
     "metadata": {},
     "output_type": "display_data"
    },
    {
     "data": {
      "text/html": [
       "Find logs at: <code>./wandb/run-20221124_224542-2qqwm4up/logs</code>"
      ],
      "text/plain": [
       "<IPython.core.display.HTML object>"
      ]
     },
     "metadata": {},
     "output_type": "display_data"
    },
    {
     "name": "stderr",
     "output_type": "stream",
     "text": [
      "[Parallel(n_jobs=1)]: Done   4 out of   4 | elapsed:  1.7min remaining:    0.0s\n"
     ]
    },
    {
     "data": {
      "text/html": [
       "Changes to your `wandb` environment variables will be ignored because your `wandb` session has already started. For more information on how to modify your settings with `wandb.init()` arguments, please refer to <a href=\"https://wandb.me/wandb-init\" target=\"_blank\">the W&B docs</a>."
      ],
      "text/plain": [
       "<IPython.core.display.HTML object>"
      ]
     },
     "metadata": {},
     "output_type": "display_data"
    },
    {
     "data": {
      "text/html": [
       "wandb version 0.13.5 is available!  To upgrade, please run:\n",
       " $ pip install wandb --upgrade"
      ],
      "text/plain": [
       "<IPython.core.display.HTML object>"
      ]
     },
     "metadata": {},
     "output_type": "display_data"
    },
    {
     "data": {
      "text/html": [
       "Tracking run with wandb version 0.12.21"
      ],
      "text/plain": [
       "<IPython.core.display.HTML object>"
      ]
     },
     "metadata": {},
     "output_type": "display_data"
    },
    {
     "data": {
      "text/html": [
       "Run data is saved locally in <code>/Users/artemgruzdev/Documents/TimeSeries/Code/wandb/run-20221124_224612-1k6kwss5</code>"
      ],
      "text/plain": [
       "<IPython.core.display.HTML object>"
      ]
     },
     "metadata": {},
     "output_type": "display_data"
    },
    {
     "data": {
      "text/html": [
       "Syncing run <strong><a href=\"https://wandb.ai/gewissta/wandb-sweeps/runs/1k6kwss5\" target=\"_blank\">MiziCHz6</a></strong> to <a href=\"https://wandb.ai/gewissta/wandb-sweeps\" target=\"_blank\">Weights & Biases</a> (<a href=\"https://wandb.me/run\" target=\"_blank\">docs</a>)<br/>"
      ],
      "text/plain": [
       "<IPython.core.display.HTML object>"
      ]
     },
     "metadata": {},
     "output_type": "display_data"
    },
    {
     "data": {
      "text/html": [
       "Waiting for W&B process to finish... <strong style=\"color:green\">(success).</strong>"
      ],
      "text/plain": [
       "<IPython.core.display.HTML object>"
      ]
     },
     "metadata": {},
     "output_type": "display_data"
    },
    {
     "data": {
      "application/vnd.jupyter.widget-view+json": {
       "model_id": "",
       "version_major": 2,
       "version_minor": 0
      },
      "text/plain": [
       "VBox(children=(Label(value='0.042 MB of 0.045 MB uploaded (0.000 MB deduped)\\r'), FloatProgress(value=0.939145…"
      ]
     },
     "metadata": {},
     "output_type": "display_data"
    },
    {
     "data": {
      "text/html": [
       "<style>\n",
       "    table.wandb td:nth-child(1) { padding: 0 10px; text-align: left ; width: auto;} td:nth-child(2) {text-align: left ; width: 100%}\n",
       "    .wandb-row { display: flex; flex-direction: row; flex-wrap: wrap; justify-content: flex-start; width: 100% }\n",
       "    .wandb-col { display: flex; flex-direction: column; flex-basis: 100%; flex: 1; padding: 10px; }\n",
       "    </style>\n",
       "<div class=\"wandb-row\"><div class=\"wandb-col\"><h3>Run history:</h3><br/><table class=\"wandb\"><tr><td>MAE_mean</td><td>▁</td></tr><tr><td>MAE_median</td><td>▁</td></tr><tr><td>MAE_percentile_25</td><td>▁</td></tr><tr><td>MAE_percentile_5</td><td>▁</td></tr><tr><td>MAE_percentile_75</td><td>▁</td></tr><tr><td>MAE_percentile_95</td><td>▁</td></tr><tr><td>MAE_std</td><td>▁</td></tr><tr><td>MSE_mean</td><td>▁</td></tr><tr><td>MSE_median</td><td>▁</td></tr><tr><td>MSE_percentile_25</td><td>▁</td></tr><tr><td>MSE_percentile_5</td><td>▁</td></tr><tr><td>MSE_percentile_75</td><td>▁</td></tr><tr><td>MSE_percentile_95</td><td>▁</td></tr><tr><td>MSE_std</td><td>▁</td></tr><tr><td>SMAPE_mean</td><td>▁</td></tr><tr><td>SMAPE_median</td><td>▁</td></tr><tr><td>SMAPE_percentile_25</td><td>▁</td></tr><tr><td>SMAPE_percentile_5</td><td>▁</td></tr><tr><td>SMAPE_percentile_75</td><td>▁</td></tr><tr><td>SMAPE_percentile_95</td><td>▁</td></tr><tr><td>SMAPE_std</td><td>▁</td></tr><tr><td>Sign_mean</td><td>▁</td></tr><tr><td>Sign_median</td><td>▁</td></tr><tr><td>Sign_percentile_25</td><td>▁</td></tr><tr><td>Sign_percentile_5</td><td>▁</td></tr><tr><td>Sign_percentile_75</td><td>▁</td></tr><tr><td>Sign_percentile_95</td><td>▁</td></tr><tr><td>Sign_std</td><td>▁</td></tr></table><br/></div><div class=\"wandb-col\"><h3>Run summary:</h3><br/><table class=\"wandb\"><tr><td>MAE_mean</td><td>53.1521</td></tr><tr><td>MAE_median</td><td>49.80517</td></tr><tr><td>MAE_percentile_25</td><td>43.92062</td></tr><tr><td>MAE_percentile_5</td><td>30.57133</td></tr><tr><td>MAE_percentile_75</td><td>59.03665</td></tr><tr><td>MAE_percentile_95</td><td>80.41858</td></tr><tr><td>MAE_std</td><td>24.20674</td></tr><tr><td>MSE_mean</td><td>5202.61261</td></tr><tr><td>MSE_median</td><td>4356.9524</td></tr><tr><td>MSE_percentile_25</td><td>2871.51247</td></tr><tr><td>MSE_percentile_5</td><td>1553.77695</td></tr><tr><td>MSE_percentile_75</td><td>6688.05255</td></tr><tr><td>MSE_percentile_95</td><td>10035.37257</td></tr><tr><td>MSE_std</td><td>4129.35787</td></tr><tr><td>SMAPE_mean</td><td>13.38219</td></tr><tr><td>SMAPE_median</td><td>10.17791</td></tr><tr><td>SMAPE_percentile_25</td><td>9.41502</td></tr><tr><td>SMAPE_percentile_5</td><td>9.29428</td></tr><tr><td>SMAPE_percentile_75</td><td>14.14508</td></tr><tr><td>SMAPE_percentile_95</td><td>21.95611</td></tr><tr><td>SMAPE_std</td><td>7.05502</td></tr><tr><td>Sign_mean</td><td>0.35714</td></tr><tr><td>Sign_median</td><td>0.35714</td></tr><tr><td>Sign_percentile_25</td><td>0.21429</td></tr><tr><td>Sign_percentile_5</td><td>0.04286</td></tr><tr><td>Sign_percentile_75</td><td>0.5</td></tr><tr><td>Sign_percentile_95</td><td>0.67143</td></tr><tr><td>Sign_std</td><td>0.29738</td></tr></table><br/></div></div>"
      ],
      "text/plain": [
       "<IPython.core.display.HTML object>"
      ]
     },
     "metadata": {},
     "output_type": "display_data"
    },
    {
     "data": {
      "text/html": [
       "Synced <strong style=\"color:#cdcd00\">MiziCHz6</strong>: <a href=\"https://wandb.ai/gewissta/wandb-sweeps/runs/1k6kwss5\" target=\"_blank\">https://wandb.ai/gewissta/wandb-sweeps/runs/1k6kwss5</a><br/>Synced 5 W&B file(s), 3 media file(s), 3 artifact file(s) and 0 other file(s)"
      ],
      "text/plain": [
       "<IPython.core.display.HTML object>"
      ]
     },
     "metadata": {},
     "output_type": "display_data"
    },
    {
     "data": {
      "text/html": [
       "Find logs at: <code>./wandb/run-20221124_224612-1k6kwss5/logs</code>"
      ],
      "text/plain": [
       "<IPython.core.display.HTML object>"
      ]
     },
     "metadata": {},
     "output_type": "display_data"
    },
    {
     "name": "stderr",
     "output_type": "stream",
     "text": [
      "[Parallel(n_jobs=1)]: Done   5 out of   5 | elapsed:  2.1min remaining:    0.0s\n",
      "[Parallel(n_jobs=1)]: Done   5 out of   5 | elapsed:  2.1min finished\n"
     ]
    },
    {
     "data": {
      "text/html": [
       "Changes to your `wandb` environment variables will be ignored because your `wandb` session has already started. For more information on how to modify your settings with `wandb.init()` arguments, please refer to <a href=\"https://wandb.me/wandb-init\" target=\"_blank\">the W&B docs</a>."
      ],
      "text/plain": [
       "<IPython.core.display.HTML object>"
      ]
     },
     "metadata": {},
     "output_type": "display_data"
    },
    {
     "data": {
      "text/html": [
       "wandb version 0.13.5 is available!  To upgrade, please run:\n",
       " $ pip install wandb --upgrade"
      ],
      "text/plain": [
       "<IPython.core.display.HTML object>"
      ]
     },
     "metadata": {},
     "output_type": "display_data"
    },
    {
     "data": {
      "text/html": [
       "Tracking run with wandb version 0.12.21"
      ],
      "text/plain": [
       "<IPython.core.display.HTML object>"
      ]
     },
     "metadata": {},
     "output_type": "display_data"
    },
    {
     "data": {
      "text/html": [
       "Run data is saved locally in <code>/Users/artemgruzdev/Documents/TimeSeries/Code/wandb/run-20221124_224636-1f1jt1ft</code>"
      ],
      "text/plain": [
       "<IPython.core.display.HTML object>"
      ]
     },
     "metadata": {},
     "output_type": "display_data"
    },
    {
     "data": {
      "text/html": [
       "Syncing run <strong><a href=\"https://wandb.ai/gewissta/wandb-sweeps/runs/1f1jt1ft\" target=\"_blank\">MiziCHz6</a></strong> to <a href=\"https://wandb.ai/gewissta/wandb-sweeps\" target=\"_blank\">Weights & Biases</a> (<a href=\"https://wandb.me/run\" target=\"_blank\">docs</a>)<br/>"
      ],
      "text/plain": [
       "<IPython.core.display.HTML object>"
      ]
     },
     "metadata": {},
     "output_type": "display_data"
    },
    {
     "data": {
      "text/html": [
       "Waiting for W&B process to finish... <strong style=\"color:green\">(success).</strong>"
      ],
      "text/plain": [
       "<IPython.core.display.HTML object>"
      ]
     },
     "metadata": {},
     "output_type": "display_data"
    },
    {
     "data": {
      "application/vnd.jupyter.widget-view+json": {
       "model_id": "",
       "version_major": 2,
       "version_minor": 0
      },
      "text/plain": [
       "VBox(children=(Label(value='0.182 MB of 0.237 MB uploaded (0.000 MB deduped)\\r'), FloatProgress(value=0.765022…"
      ]
     },
     "metadata": {},
     "output_type": "display_data"
    },
    {
     "data": {
      "text/html": [
       "<style>\n",
       "    table.wandb td:nth-child(1) { padding: 0 10px; text-align: left ; width: auto;} td:nth-child(2) {text-align: left ; width: 100%}\n",
       "    .wandb-row { display: flex; flex-direction: row; flex-wrap: wrap; justify-content: flex-start; width: 100% }\n",
       "    .wandb-col { display: flex; flex-direction: column; flex-basis: 100%; flex: 1; padding: 10px; }\n",
       "    </style>\n",
       "<div class=\"wandb-row\"><div class=\"wandb-col\"><h3>Run history:</h3><br/><table class=\"wandb\"><tr><td>MAE_mean</td><td>▁</td></tr><tr><td>MAE_median</td><td>▁</td></tr><tr><td>MAE_percentile_25</td><td>▁</td></tr><tr><td>MAE_percentile_5</td><td>▁</td></tr><tr><td>MAE_percentile_75</td><td>▁</td></tr><tr><td>MAE_percentile_95</td><td>▁</td></tr><tr><td>MAE_std</td><td>▁</td></tr><tr><td>MSE_mean</td><td>▁</td></tr><tr><td>MSE_median</td><td>▁</td></tr><tr><td>MSE_percentile_25</td><td>▁</td></tr><tr><td>MSE_percentile_5</td><td>▁</td></tr><tr><td>MSE_percentile_75</td><td>▁</td></tr><tr><td>MSE_percentile_95</td><td>▁</td></tr><tr><td>MSE_std</td><td>▁</td></tr><tr><td>SMAPE_mean</td><td>▁</td></tr><tr><td>SMAPE_median</td><td>▁</td></tr><tr><td>SMAPE_percentile_25</td><td>▁</td></tr><tr><td>SMAPE_percentile_5</td><td>▁</td></tr><tr><td>SMAPE_percentile_75</td><td>▁</td></tr><tr><td>SMAPE_percentile_95</td><td>▁</td></tr><tr><td>SMAPE_std</td><td>▁</td></tr><tr><td>Sign_mean</td><td>▁</td></tr><tr><td>Sign_median</td><td>▁</td></tr><tr><td>Sign_percentile_25</td><td>▁</td></tr><tr><td>Sign_percentile_5</td><td>▁</td></tr><tr><td>Sign_percentile_75</td><td>▁</td></tr><tr><td>Sign_percentile_95</td><td>▁</td></tr><tr><td>Sign_std</td><td>▁</td></tr></table><br/></div><div class=\"wandb-col\"><h3>Run summary:</h3><br/><table class=\"wandb\"><tr><td>MAE_mean</td><td>46.23457</td></tr><tr><td>MAE_median</td><td>38.04157</td></tr><tr><td>MAE_percentile_25</td><td>22.213</td></tr><tr><td>MAE_percentile_5</td><td>21.30842</td></tr><tr><td>MAE_percentile_75</td><td>62.06314</td></tr><tr><td>MAE_percentile_95</td><td>82.6309</td></tr><tr><td>MAE_std</td><td>31.46334</td></tr><tr><td>MSE_mean</td><td>4773.22623</td></tr><tr><td>MSE_median</td><td>3151.66469</td></tr><tr><td>MSE_percentile_25</td><td>1009.44198</td></tr><tr><td>MSE_percentile_5</td><td>837.90067</td></tr><tr><td>MSE_percentile_75</td><td>6915.44893</td></tr><tr><td>MSE_percentile_95</td><td>10978.73795</td></tr><tr><td>MSE_std</td><td>5222.02826</td></tr><tr><td>SMAPE_mean</td><td>10.20855</td></tr><tr><td>SMAPE_median</td><td>10.36219</td></tr><tr><td>SMAPE_percentile_25</td><td>10.13248</td></tr><tr><td>SMAPE_percentile_5</td><td>9.59497</td></tr><tr><td>SMAPE_percentile_75</td><td>10.43827</td></tr><tr><td>SMAPE_percentile_95</td><td>10.60704</td></tr><tr><td>SMAPE_std</td><td>0.5167</td></tr><tr><td>Sign_mean</td><td>0.42857</td></tr><tr><td>Sign_median</td><td>0.41429</td></tr><tr><td>Sign_percentile_25</td><td>0.36429</td></tr><tr><td>Sign_percentile_5</td><td>0.34714</td></tr><tr><td>Sign_percentile_75</td><td>0.47857</td></tr><tr><td>Sign_percentile_95</td><td>0.53</td></tr><tr><td>Sign_std</td><td>0.09035</td></tr></table><br/></div></div>"
      ],
      "text/plain": [
       "<IPython.core.display.HTML object>"
      ]
     },
     "metadata": {},
     "output_type": "display_data"
    },
    {
     "data": {
      "text/html": [
       "Synced <strong style=\"color:#cdcd00\">MiziCHz6</strong>: <a href=\"https://wandb.ai/gewissta/wandb-sweeps/runs/1f1jt1ft\" target=\"_blank\">https://wandb.ai/gewissta/wandb-sweeps/runs/1f1jt1ft</a><br/>Synced 5 W&B file(s), 4 media file(s), 3 artifact file(s) and 0 other file(s)"
      ],
      "text/plain": [
       "<IPython.core.display.HTML object>"
      ]
     },
     "metadata": {},
     "output_type": "display_data"
    },
    {
     "data": {
      "text/html": [
       "Find logs at: <code>./wandb/run-20221124_224636-1f1jt1ft/logs</code>"
      ],
      "text/plain": [
       "<IPython.core.display.HTML object>"
      ]
     },
     "metadata": {},
     "output_type": "display_data"
    },
    {
     "name": "stderr",
     "output_type": "stream",
     "text": [
      "\u001b[32m[I 2022-11-24 22:46:59,569]\u001b[0m Trial 1 finished with value: 46.23456546315091 and parameters: {'iterations': 45, 'depth': 12, 'lags': 13}. Best is trial 0 with value: 43.98657351662118.\u001b[0m\n",
      "[Parallel(n_jobs=1)]: Using backend SequentialBackend with 1 concurrent workers.\n"
     ]
    },
    {
     "data": {
      "text/html": [
       "Changes to your `wandb` environment variables will be ignored because your `wandb` session has already started. For more information on how to modify your settings with `wandb.init()` arguments, please refer to <a href=\"https://wandb.me/wandb-init\" target=\"_blank\">the W&B docs</a>."
      ],
      "text/plain": [
       "<IPython.core.display.HTML object>"
      ]
     },
     "metadata": {},
     "output_type": "display_data"
    },
    {
     "data": {
      "text/html": [
       "wandb version 0.13.5 is available!  To upgrade, please run:\n",
       " $ pip install wandb --upgrade"
      ],
      "text/plain": [
       "<IPython.core.display.HTML object>"
      ]
     },
     "metadata": {},
     "output_type": "display_data"
    },
    {
     "data": {
      "text/html": [
       "Tracking run with wandb version 0.12.21"
      ],
      "text/plain": [
       "<IPython.core.display.HTML object>"
      ]
     },
     "metadata": {},
     "output_type": "display_data"
    },
    {
     "data": {
      "text/html": [
       "Run data is saved locally in <code>/Users/artemgruzdev/Documents/TimeSeries/Code/wandb/run-20221124_224659-3tu7rebn</code>"
      ],
      "text/plain": [
       "<IPython.core.display.HTML object>"
      ]
     },
     "metadata": {},
     "output_type": "display_data"
    },
    {
     "data": {
      "text/html": [
       "Syncing run <strong><a href=\"https://wandb.ai/gewissta/wandb-sweeps/runs/3tu7rebn\" target=\"_blank\">5mpj8Tkj</a></strong> to <a href=\"https://wandb.ai/gewissta/wandb-sweeps\" target=\"_blank\">Weights & Biases</a> (<a href=\"https://wandb.me/run\" target=\"_blank\">docs</a>)<br/>"
      ],
      "text/plain": [
       "<IPython.core.display.HTML object>"
      ]
     },
     "metadata": {},
     "output_type": "display_data"
    },
    {
     "data": {
      "text/html": [
       "Waiting for W&B process to finish... <strong style=\"color:green\">(success).</strong>"
      ],
      "text/plain": [
       "<IPython.core.display.HTML object>"
      ]
     },
     "metadata": {},
     "output_type": "display_data"
    },
    {
     "data": {
      "application/vnd.jupyter.widget-view+json": {
       "model_id": "",
       "version_major": 2,
       "version_minor": 0
      },
      "text/plain": [
       "VBox(children=(Label(value='0.065 MB of 0.067 MB uploaded (0.000 MB deduped)\\r'), FloatProgress(value=0.966530…"
      ]
     },
     "metadata": {},
     "output_type": "display_data"
    },
    {
     "data": {
      "text/html": [
       "<style>\n",
       "    table.wandb td:nth-child(1) { padding: 0 10px; text-align: left ; width: auto;} td:nth-child(2) {text-align: left ; width: 100%}\n",
       "    .wandb-row { display: flex; flex-direction: row; flex-wrap: wrap; justify-content: flex-start; width: 100% }\n",
       "    .wandb-col { display: flex; flex-direction: column; flex-basis: 100%; flex: 1; padding: 10px; }\n",
       "    </style>\n",
       "<div class=\"wandb-row\"><div class=\"wandb-col\"><h3>Run history:</h3><br/><table class=\"wandb\"><tr><td>MAE_mean</td><td>▁</td></tr><tr><td>MAE_median</td><td>▁</td></tr><tr><td>MAE_percentile_25</td><td>▁</td></tr><tr><td>MAE_percentile_5</td><td>▁</td></tr><tr><td>MAE_percentile_75</td><td>▁</td></tr><tr><td>MAE_percentile_95</td><td>▁</td></tr><tr><td>MAE_std</td><td>▁</td></tr><tr><td>MSE_mean</td><td>▁</td></tr><tr><td>MSE_median</td><td>▁</td></tr><tr><td>MSE_percentile_25</td><td>▁</td></tr><tr><td>MSE_percentile_5</td><td>▁</td></tr><tr><td>MSE_percentile_75</td><td>▁</td></tr><tr><td>MSE_percentile_95</td><td>▁</td></tr><tr><td>MSE_std</td><td>▁</td></tr><tr><td>SMAPE_mean</td><td>▁</td></tr><tr><td>SMAPE_median</td><td>▁</td></tr><tr><td>SMAPE_percentile_25</td><td>▁</td></tr><tr><td>SMAPE_percentile_5</td><td>▁</td></tr><tr><td>SMAPE_percentile_75</td><td>▁</td></tr><tr><td>SMAPE_percentile_95</td><td>▁</td></tr><tr><td>SMAPE_std</td><td>▁</td></tr><tr><td>Sign_mean</td><td>▁</td></tr><tr><td>Sign_median</td><td>▁</td></tr><tr><td>Sign_percentile_25</td><td>▁</td></tr><tr><td>Sign_percentile_5</td><td>▁</td></tr><tr><td>Sign_percentile_75</td><td>▁</td></tr><tr><td>Sign_percentile_95</td><td>▁</td></tr><tr><td>Sign_std</td><td>▁</td></tr></table><br/></div><div class=\"wandb-col\"><h3>Run summary:</h3><br/><table class=\"wandb\"><tr><td>MAE_mean</td><td>35.76004</td></tr><tr><td>MAE_median</td><td>33.45573</td></tr><tr><td>MAE_percentile_25</td><td>17.46692</td></tr><tr><td>MAE_percentile_5</td><td>16.79401</td></tr><tr><td>MAE_percentile_75</td><td>51.74885</td></tr><tr><td>MAE_percentile_95</td><td>57.95212</td></tr><tr><td>MAE_std</td><td>21.86302</td></tr><tr><td>MSE_mean</td><td>2593.06454</td></tr><tr><td>MSE_median</td><td>2379.71796</td></tr><tr><td>MSE_percentile_25</td><td>515.23702</td></tr><tr><td>MSE_percentile_5</td><td>383.31197</td></tr><tr><td>MSE_percentile_75</td><td>4457.54548</td></tr><tr><td>MSE_percentile_95</td><td>5101.50231</td></tr><tr><td>MSE_std</td><td>2503.02468</td></tr><tr><td>SMAPE_mean</td><td>8.98291</td></tr><tr><td>SMAPE_median</td><td>9.02186</td></tr><tr><td>SMAPE_percentile_25</td><td>7.65383</td></tr><tr><td>SMAPE_percentile_5</td><td>7.49164</td></tr><tr><td>SMAPE_percentile_75</td><td>10.35094</td></tr><tr><td>SMAPE_percentile_95</td><td>10.41966</td></tr><tr><td>SMAPE_std</td><td>1.61717</td></tr><tr><td>Sign_mean</td><td>-0.07143</td></tr><tr><td>Sign_median</td><td>-0.28571</td></tr><tr><td>Sign_percentile_25</td><td>-0.32143</td></tr><tr><td>Sign_percentile_5</td><td>-0.40714</td></tr><tr><td>Sign_percentile_75</td><td>-0.03571</td></tr><tr><td>Sign_percentile_95</td><td>0.56429</td></tr><tr><td>Sign_std</td><td>0.52812</td></tr></table><br/></div></div>"
      ],
      "text/plain": [
       "<IPython.core.display.HTML object>"
      ]
     },
     "metadata": {},
     "output_type": "display_data"
    },
    {
     "data": {
      "text/html": [
       "Synced <strong style=\"color:#cdcd00\">5mpj8Tkj</strong>: <a href=\"https://wandb.ai/gewissta/wandb-sweeps/runs/3tu7rebn\" target=\"_blank\">https://wandb.ai/gewissta/wandb-sweeps/runs/3tu7rebn</a><br/>Synced 5 W&B file(s), 3 media file(s), 3 artifact file(s) and 0 other file(s)"
      ],
      "text/plain": [
       "<IPython.core.display.HTML object>"
      ]
     },
     "metadata": {},
     "output_type": "display_data"
    },
    {
     "data": {
      "text/html": [
       "Find logs at: <code>./wandb/run-20221124_224659-3tu7rebn/logs</code>"
      ],
      "text/plain": [
       "<IPython.core.display.HTML object>"
      ]
     },
     "metadata": {},
     "output_type": "display_data"
    },
    {
     "name": "stderr",
     "output_type": "stream",
     "text": [
      "[Parallel(n_jobs=1)]: Done   1 out of   1 | elapsed:   23.6s remaining:    0.0s\n"
     ]
    },
    {
     "data": {
      "text/html": [
       "Changes to your `wandb` environment variables will be ignored because your `wandb` session has already started. For more information on how to modify your settings with `wandb.init()` arguments, please refer to <a href=\"https://wandb.me/wandb-init\" target=\"_blank\">the W&B docs</a>."
      ],
      "text/plain": [
       "<IPython.core.display.HTML object>"
      ]
     },
     "metadata": {},
     "output_type": "display_data"
    },
    {
     "data": {
      "text/html": [
       "wandb version 0.13.5 is available!  To upgrade, please run:\n",
       " $ pip install wandb --upgrade"
      ],
      "text/plain": [
       "<IPython.core.display.HTML object>"
      ]
     },
     "metadata": {},
     "output_type": "display_data"
    },
    {
     "data": {
      "text/html": [
       "Tracking run with wandb version 0.12.21"
      ],
      "text/plain": [
       "<IPython.core.display.HTML object>"
      ]
     },
     "metadata": {},
     "output_type": "display_data"
    },
    {
     "data": {
      "text/html": [
       "Run data is saved locally in <code>/Users/artemgruzdev/Documents/TimeSeries/Code/wandb/run-20221124_224723-x2g4fjzr</code>"
      ],
      "text/plain": [
       "<IPython.core.display.HTML object>"
      ]
     },
     "metadata": {},
     "output_type": "display_data"
    },
    {
     "data": {
      "text/html": [
       "Syncing run <strong><a href=\"https://wandb.ai/gewissta/wandb-sweeps/runs/x2g4fjzr\" target=\"_blank\">5mpj8Tkj</a></strong> to <a href=\"https://wandb.ai/gewissta/wandb-sweeps\" target=\"_blank\">Weights & Biases</a> (<a href=\"https://wandb.me/run\" target=\"_blank\">docs</a>)<br/>"
      ],
      "text/plain": [
       "<IPython.core.display.HTML object>"
      ]
     },
     "metadata": {},
     "output_type": "display_data"
    },
    {
     "data": {
      "text/html": [
       "Waiting for W&B process to finish... <strong style=\"color:green\">(success).</strong>"
      ],
      "text/plain": [
       "<IPython.core.display.HTML object>"
      ]
     },
     "metadata": {},
     "output_type": "display_data"
    },
    {
     "data": {
      "application/vnd.jupyter.widget-view+json": {
       "model_id": "",
       "version_major": 2,
       "version_minor": 0
      },
      "text/plain": [
       "VBox(children=(Label(value='0.064 MB of 0.067 MB uploaded (0.000 MB deduped)\\r'), FloatProgress(value=0.959506…"
      ]
     },
     "metadata": {},
     "output_type": "display_data"
    },
    {
     "data": {
      "text/html": [
       "<style>\n",
       "    table.wandb td:nth-child(1) { padding: 0 10px; text-align: left ; width: auto;} td:nth-child(2) {text-align: left ; width: 100%}\n",
       "    .wandb-row { display: flex; flex-direction: row; flex-wrap: wrap; justify-content: flex-start; width: 100% }\n",
       "    .wandb-col { display: flex; flex-direction: column; flex-basis: 100%; flex: 1; padding: 10px; }\n",
       "    </style>\n",
       "<div class=\"wandb-row\"><div class=\"wandb-col\"><h3>Run history:</h3><br/><table class=\"wandb\"><tr><td>MAE_mean</td><td>▁</td></tr><tr><td>MAE_median</td><td>▁</td></tr><tr><td>MAE_percentile_25</td><td>▁</td></tr><tr><td>MAE_percentile_5</td><td>▁</td></tr><tr><td>MAE_percentile_75</td><td>▁</td></tr><tr><td>MAE_percentile_95</td><td>▁</td></tr><tr><td>MAE_std</td><td>▁</td></tr><tr><td>MSE_mean</td><td>▁</td></tr><tr><td>MSE_median</td><td>▁</td></tr><tr><td>MSE_percentile_25</td><td>▁</td></tr><tr><td>MSE_percentile_5</td><td>▁</td></tr><tr><td>MSE_percentile_75</td><td>▁</td></tr><tr><td>MSE_percentile_95</td><td>▁</td></tr><tr><td>MSE_std</td><td>▁</td></tr><tr><td>SMAPE_mean</td><td>▁</td></tr><tr><td>SMAPE_median</td><td>▁</td></tr><tr><td>SMAPE_percentile_25</td><td>▁</td></tr><tr><td>SMAPE_percentile_5</td><td>▁</td></tr><tr><td>SMAPE_percentile_75</td><td>▁</td></tr><tr><td>SMAPE_percentile_95</td><td>▁</td></tr><tr><td>SMAPE_std</td><td>▁</td></tr><tr><td>Sign_mean</td><td>▁</td></tr><tr><td>Sign_median</td><td>▁</td></tr><tr><td>Sign_percentile_25</td><td>▁</td></tr><tr><td>Sign_percentile_5</td><td>▁</td></tr><tr><td>Sign_percentile_75</td><td>▁</td></tr><tr><td>Sign_percentile_95</td><td>▁</td></tr><tr><td>Sign_std</td><td>▁</td></tr></table><br/></div><div class=\"wandb-col\"><h3>Run summary:</h3><br/><table class=\"wandb\"><tr><td>MAE_mean</td><td>38.03959</td></tr><tr><td>MAE_median</td><td>32.12102</td></tr><tr><td>MAE_percentile_25</td><td>19.67431</td></tr><tr><td>MAE_percentile_5</td><td>14.62969</td></tr><tr><td>MAE_percentile_75</td><td>50.48631</td></tr><tr><td>MAE_percentile_95</td><td>69.73551</td></tr><tr><td>MAE_std</td><td>27.23723</td></tr><tr><td>MSE_mean</td><td>2685.45718</td></tr><tr><td>MSE_median</td><td>1449.39046</td></tr><tr><td>MSE_percentile_25</td><td>493.24738</td></tr><tr><td>MSE_percentile_5</td><td>271.92786</td></tr><tr><td>MSE_percentile_75</td><td>3641.60027</td></tr><tr><td>MSE_percentile_95</td><td>6829.47992</td></tr><tr><td>MSE_std</td><td>3418.43699</td></tr><tr><td>SMAPE_mean</td><td>8.61542</td></tr><tr><td>SMAPE_median</td><td>8.61286</td></tr><tr><td>SMAPE_percentile_25</td><td>8.14228</td></tr><tr><td>SMAPE_percentile_5</td><td>8.00521</td></tr><tr><td>SMAPE_percentile_75</td><td>9.086</td></tr><tr><td>SMAPE_percentile_95</td><td>9.2292</td></tr><tr><td>SMAPE_std</td><td>0.62696</td></tr><tr><td>Sign_mean</td><td>0.53571</td></tr><tr><td>Sign_median</td><td>0.57143</td></tr><tr><td>Sign_percentile_25</td><td>0.5</td></tr><tr><td>Sign_percentile_5</td><td>0.32857</td></tr><tr><td>Sign_percentile_75</td><td>0.60714</td></tr><tr><td>Sign_percentile_95</td><td>0.69286</td></tr><tr><td>Sign_std</td><td>0.17976</td></tr></table><br/></div></div>"
      ],
      "text/plain": [
       "<IPython.core.display.HTML object>"
      ]
     },
     "metadata": {},
     "output_type": "display_data"
    },
    {
     "data": {
      "text/html": [
       "Synced <strong style=\"color:#cdcd00\">5mpj8Tkj</strong>: <a href=\"https://wandb.ai/gewissta/wandb-sweeps/runs/x2g4fjzr\" target=\"_blank\">https://wandb.ai/gewissta/wandb-sweeps/runs/x2g4fjzr</a><br/>Synced 5 W&B file(s), 3 media file(s), 3 artifact file(s) and 0 other file(s)"
      ],
      "text/plain": [
       "<IPython.core.display.HTML object>"
      ]
     },
     "metadata": {},
     "output_type": "display_data"
    },
    {
     "data": {
      "text/html": [
       "Find logs at: <code>./wandb/run-20221124_224723-x2g4fjzr/logs</code>"
      ],
      "text/plain": [
       "<IPython.core.display.HTML object>"
      ]
     },
     "metadata": {},
     "output_type": "display_data"
    },
    {
     "name": "stderr",
     "output_type": "stream",
     "text": [
      "[Parallel(n_jobs=1)]: Done   2 out of   2 | elapsed:   46.9s remaining:    0.0s\n"
     ]
    },
    {
     "data": {
      "text/html": [
       "Changes to your `wandb` environment variables will be ignored because your `wandb` session has already started. For more information on how to modify your settings with `wandb.init()` arguments, please refer to <a href=\"https://wandb.me/wandb-init\" target=\"_blank\">the W&B docs</a>."
      ],
      "text/plain": [
       "<IPython.core.display.HTML object>"
      ]
     },
     "metadata": {},
     "output_type": "display_data"
    },
    {
     "data": {
      "text/html": [
       "wandb version 0.13.5 is available!  To upgrade, please run:\n",
       " $ pip install wandb --upgrade"
      ],
      "text/plain": [
       "<IPython.core.display.HTML object>"
      ]
     },
     "metadata": {},
     "output_type": "display_data"
    },
    {
     "data": {
      "text/html": [
       "Tracking run with wandb version 0.12.21"
      ],
      "text/plain": [
       "<IPython.core.display.HTML object>"
      ]
     },
     "metadata": {},
     "output_type": "display_data"
    },
    {
     "data": {
      "text/html": [
       "Run data is saved locally in <code>/Users/artemgruzdev/Documents/TimeSeries/Code/wandb/run-20221124_224746-r91rmry9</code>"
      ],
      "text/plain": [
       "<IPython.core.display.HTML object>"
      ]
     },
     "metadata": {},
     "output_type": "display_data"
    },
    {
     "data": {
      "text/html": [
       "Syncing run <strong><a href=\"https://wandb.ai/gewissta/wandb-sweeps/runs/r91rmry9\" target=\"_blank\">5mpj8Tkj</a></strong> to <a href=\"https://wandb.ai/gewissta/wandb-sweeps\" target=\"_blank\">Weights & Biases</a> (<a href=\"https://wandb.me/run\" target=\"_blank\">docs</a>)<br/>"
      ],
      "text/plain": [
       "<IPython.core.display.HTML object>"
      ]
     },
     "metadata": {},
     "output_type": "display_data"
    },
    {
     "data": {
      "text/html": [
       "Waiting for W&B process to finish... <strong style=\"color:green\">(success).</strong>"
      ],
      "text/plain": [
       "<IPython.core.display.HTML object>"
      ]
     },
     "metadata": {},
     "output_type": "display_data"
    },
    {
     "data": {
      "application/vnd.jupyter.widget-view+json": {
       "model_id": "",
       "version_major": 2,
       "version_minor": 0
      },
      "text/plain": [
       "VBox(children=(Label(value='0.064 MB of 0.067 MB uploaded (0.000 MB deduped)\\r'), FloatProgress(value=0.959416…"
      ]
     },
     "metadata": {},
     "output_type": "display_data"
    },
    {
     "data": {
      "text/html": [
       "<style>\n",
       "    table.wandb td:nth-child(1) { padding: 0 10px; text-align: left ; width: auto;} td:nth-child(2) {text-align: left ; width: 100%}\n",
       "    .wandb-row { display: flex; flex-direction: row; flex-wrap: wrap; justify-content: flex-start; width: 100% }\n",
       "    .wandb-col { display: flex; flex-direction: column; flex-basis: 100%; flex: 1; padding: 10px; }\n",
       "    </style>\n",
       "<div class=\"wandb-row\"><div class=\"wandb-col\"><h3>Run history:</h3><br/><table class=\"wandb\"><tr><td>MAE_mean</td><td>▁</td></tr><tr><td>MAE_median</td><td>▁</td></tr><tr><td>MAE_percentile_25</td><td>▁</td></tr><tr><td>MAE_percentile_5</td><td>▁</td></tr><tr><td>MAE_percentile_75</td><td>▁</td></tr><tr><td>MAE_percentile_95</td><td>▁</td></tr><tr><td>MAE_std</td><td>▁</td></tr><tr><td>MSE_mean</td><td>▁</td></tr><tr><td>MSE_median</td><td>▁</td></tr><tr><td>MSE_percentile_25</td><td>▁</td></tr><tr><td>MSE_percentile_5</td><td>▁</td></tr><tr><td>MSE_percentile_75</td><td>▁</td></tr><tr><td>MSE_percentile_95</td><td>▁</td></tr><tr><td>MSE_std</td><td>▁</td></tr><tr><td>SMAPE_mean</td><td>▁</td></tr><tr><td>SMAPE_median</td><td>▁</td></tr><tr><td>SMAPE_percentile_25</td><td>▁</td></tr><tr><td>SMAPE_percentile_5</td><td>▁</td></tr><tr><td>SMAPE_percentile_75</td><td>▁</td></tr><tr><td>SMAPE_percentile_95</td><td>▁</td></tr><tr><td>SMAPE_std</td><td>▁</td></tr><tr><td>Sign_mean</td><td>▁</td></tr><tr><td>Sign_median</td><td>▁</td></tr><tr><td>Sign_percentile_25</td><td>▁</td></tr><tr><td>Sign_percentile_5</td><td>▁</td></tr><tr><td>Sign_percentile_75</td><td>▁</td></tr><tr><td>Sign_percentile_95</td><td>▁</td></tr><tr><td>Sign_std</td><td>▁</td></tr></table><br/></div><div class=\"wandb-col\"><h3>Run summary:</h3><br/><table class=\"wandb\"><tr><td>MAE_mean</td><td>33.14089</td></tr><tr><td>MAE_median</td><td>26.78105</td></tr><tr><td>MAE_percentile_25</td><td>10.5398</td></tr><tr><td>MAE_percentile_5</td><td>8.52166</td></tr><tr><td>MAE_percentile_75</td><td>49.38214</td></tr><tr><td>MAE_percentile_95</td><td>66.66388</td></tr><tr><td>MAE_std</td><td>29.54412</td></tr><tr><td>MSE_mean</td><td>2916.87049</td></tr><tr><td>MSE_median</td><td>1357.38479</td></tr><tr><td>MSE_percentile_25</td><td>174.21472</td></tr><tr><td>MSE_percentile_5</td><td>110.44961</td></tr><tr><td>MSE_percentile_75</td><td>4100.04057</td></tr><tr><td>MSE_percentile_95</td><td>7906.57134</td></tr><tr><td>MSE_std</td><td>4115.20015</td></tr><tr><td>SMAPE_mean</td><td>6.47999</td></tr><tr><td>SMAPE_median</td><td>6.39257</td></tr><tr><td>SMAPE_percentile_25</td><td>4.68993</td></tr><tr><td>SMAPE_percentile_5</td><td>4.45039</td></tr><tr><td>SMAPE_percentile_75</td><td>8.18263</td></tr><tr><td>SMAPE_percentile_95</td><td>8.63197</td></tr><tr><td>SMAPE_std</td><td>2.20956</td></tr><tr><td>Sign_mean</td><td>0.28571</td></tr><tr><td>Sign_median</td><td>0.21429</td></tr><tr><td>Sign_percentile_25</td><td>0.10714</td></tr><tr><td>Sign_percentile_5</td><td>0.02143</td></tr><tr><td>Sign_percentile_75</td><td>0.39286</td></tr><tr><td>Sign_percentile_95</td><td>0.65</td></tr><tr><td>Sign_std</td><td>0.30861</td></tr></table><br/></div></div>"
      ],
      "text/plain": [
       "<IPython.core.display.HTML object>"
      ]
     },
     "metadata": {},
     "output_type": "display_data"
    },
    {
     "data": {
      "text/html": [
       "Synced <strong style=\"color:#cdcd00\">5mpj8Tkj</strong>: <a href=\"https://wandb.ai/gewissta/wandb-sweeps/runs/r91rmry9\" target=\"_blank\">https://wandb.ai/gewissta/wandb-sweeps/runs/r91rmry9</a><br/>Synced 5 W&B file(s), 3 media file(s), 3 artifact file(s) and 0 other file(s)"
      ],
      "text/plain": [
       "<IPython.core.display.HTML object>"
      ]
     },
     "metadata": {},
     "output_type": "display_data"
    },
    {
     "data": {
      "text/html": [
       "Find logs at: <code>./wandb/run-20221124_224746-r91rmry9/logs</code>"
      ],
      "text/plain": [
       "<IPython.core.display.HTML object>"
      ]
     },
     "metadata": {},
     "output_type": "display_data"
    },
    {
     "name": "stderr",
     "output_type": "stream",
     "text": [
      "[Parallel(n_jobs=1)]: Done   3 out of   3 | elapsed:  1.2min remaining:    0.0s\n"
     ]
    },
    {
     "data": {
      "text/html": [
       "Changes to your `wandb` environment variables will be ignored because your `wandb` session has already started. For more information on how to modify your settings with `wandb.init()` arguments, please refer to <a href=\"https://wandb.me/wandb-init\" target=\"_blank\">the W&B docs</a>."
      ],
      "text/plain": [
       "<IPython.core.display.HTML object>"
      ]
     },
     "metadata": {},
     "output_type": "display_data"
    },
    {
     "data": {
      "text/html": [
       "wandb version 0.13.5 is available!  To upgrade, please run:\n",
       " $ pip install wandb --upgrade"
      ],
      "text/plain": [
       "<IPython.core.display.HTML object>"
      ]
     },
     "metadata": {},
     "output_type": "display_data"
    },
    {
     "data": {
      "text/html": [
       "Tracking run with wandb version 0.12.21"
      ],
      "text/plain": [
       "<IPython.core.display.HTML object>"
      ]
     },
     "metadata": {},
     "output_type": "display_data"
    },
    {
     "data": {
      "text/html": [
       "Run data is saved locally in <code>/Users/artemgruzdev/Documents/TimeSeries/Code/wandb/run-20221124_224808-2wfmaze0</code>"
      ],
      "text/plain": [
       "<IPython.core.display.HTML object>"
      ]
     },
     "metadata": {},
     "output_type": "display_data"
    },
    {
     "data": {
      "text/html": [
       "Syncing run <strong><a href=\"https://wandb.ai/gewissta/wandb-sweeps/runs/2wfmaze0\" target=\"_blank\">5mpj8Tkj</a></strong> to <a href=\"https://wandb.ai/gewissta/wandb-sweeps\" target=\"_blank\">Weights & Biases</a> (<a href=\"https://wandb.me/run\" target=\"_blank\">docs</a>)<br/>"
      ],
      "text/plain": [
       "<IPython.core.display.HTML object>"
      ]
     },
     "metadata": {},
     "output_type": "display_data"
    },
    {
     "data": {
      "text/html": [
       "Waiting for W&B process to finish... <strong style=\"color:green\">(success).</strong>"
      ],
      "text/plain": [
       "<IPython.core.display.HTML object>"
      ]
     },
     "metadata": {},
     "output_type": "display_data"
    },
    {
     "data": {
      "application/vnd.jupyter.widget-view+json": {
       "model_id": "",
       "version_major": 2,
       "version_minor": 0
      },
      "text/plain": [
       "VBox(children=(Label(value='0.064 MB of 0.067 MB uploaded (0.000 MB deduped)\\r'), FloatProgress(value=0.959355…"
      ]
     },
     "metadata": {},
     "output_type": "display_data"
    },
    {
     "data": {
      "text/html": [
       "<style>\n",
       "    table.wandb td:nth-child(1) { padding: 0 10px; text-align: left ; width: auto;} td:nth-child(2) {text-align: left ; width: 100%}\n",
       "    .wandb-row { display: flex; flex-direction: row; flex-wrap: wrap; justify-content: flex-start; width: 100% }\n",
       "    .wandb-col { display: flex; flex-direction: column; flex-basis: 100%; flex: 1; padding: 10px; }\n",
       "    </style>\n",
       "<div class=\"wandb-row\"><div class=\"wandb-col\"><h3>Run history:</h3><br/><table class=\"wandb\"><tr><td>MAE_mean</td><td>▁</td></tr><tr><td>MAE_median</td><td>▁</td></tr><tr><td>MAE_percentile_25</td><td>▁</td></tr><tr><td>MAE_percentile_5</td><td>▁</td></tr><tr><td>MAE_percentile_75</td><td>▁</td></tr><tr><td>MAE_percentile_95</td><td>▁</td></tr><tr><td>MAE_std</td><td>▁</td></tr><tr><td>MSE_mean</td><td>▁</td></tr><tr><td>MSE_median</td><td>▁</td></tr><tr><td>MSE_percentile_25</td><td>▁</td></tr><tr><td>MSE_percentile_5</td><td>▁</td></tr><tr><td>MSE_percentile_75</td><td>▁</td></tr><tr><td>MSE_percentile_95</td><td>▁</td></tr><tr><td>MSE_std</td><td>▁</td></tr><tr><td>SMAPE_mean</td><td>▁</td></tr><tr><td>SMAPE_median</td><td>▁</td></tr><tr><td>SMAPE_percentile_25</td><td>▁</td></tr><tr><td>SMAPE_percentile_5</td><td>▁</td></tr><tr><td>SMAPE_percentile_75</td><td>▁</td></tr><tr><td>SMAPE_percentile_95</td><td>▁</td></tr><tr><td>SMAPE_std</td><td>▁</td></tr><tr><td>Sign_mean</td><td>▁</td></tr><tr><td>Sign_median</td><td>▁</td></tr><tr><td>Sign_percentile_25</td><td>▁</td></tr><tr><td>Sign_percentile_5</td><td>▁</td></tr><tr><td>Sign_percentile_75</td><td>▁</td></tr><tr><td>Sign_percentile_95</td><td>▁</td></tr><tr><td>Sign_std</td><td>▁</td></tr></table><br/></div><div class=\"wandb-col\"><h3>Run summary:</h3><br/><table class=\"wandb\"><tr><td>MAE_mean</td><td>58.71573</td></tr><tr><td>MAE_median</td><td>43.18151</td></tr><tr><td>MAE_percentile_25</td><td>22.18263</td></tr><tr><td>MAE_percentile_5</td><td>17.33177</td></tr><tr><td>MAE_percentile_75</td><td>79.71461</td></tr><tr><td>MAE_percentile_95</td><td>121.84758</td></tr><tr><td>MAE_std</td><td>53.05328</td></tr><tr><td>MSE_mean</td><td>8080.08291</td></tr><tr><td>MSE_median</td><td>4085.45538</td></tr><tr><td>MSE_percentile_25</td><td>1370.75056</td></tr><tr><td>MSE_percentile_5</td><td>568.34776</td></tr><tr><td>MSE_percentile_75</td><td>10794.78772</td></tr><tr><td>MSE_percentile_95</td><td>21184.29659</td></tr><tr><td>MSE_std</td><td>10789.91048</td></tr><tr><td>SMAPE_mean</td><td>10.83083</td></tr><tr><td>SMAPE_median</td><td>10.9693</td></tr><tr><td>SMAPE_percentile_25</td><td>9.83166</td></tr><tr><td>SMAPE_percentile_5</td><td>7.16302</td></tr><tr><td>SMAPE_percentile_75</td><td>11.96848</td></tr><tr><td>SMAPE_percentile_95</td><td>14.30477</td></tr><tr><td>SMAPE_std</td><td>3.43021</td></tr><tr><td>Sign_mean</td><td>0.53571</td></tr><tr><td>Sign_median</td><td>0.64286</td></tr><tr><td>Sign_percentile_25</td><td>0.42857</td></tr><tr><td>Sign_percentile_5</td><td>0.08571</td></tr><tr><td>Sign_percentile_75</td><td>0.75</td></tr><tr><td>Sign_percentile_95</td><td>0.83571</td></tr><tr><td>Sign_std</td><td>0.37571</td></tr></table><br/></div></div>"
      ],
      "text/plain": [
       "<IPython.core.display.HTML object>"
      ]
     },
     "metadata": {},
     "output_type": "display_data"
    },
    {
     "data": {
      "text/html": [
       "Synced <strong style=\"color:#cdcd00\">5mpj8Tkj</strong>: <a href=\"https://wandb.ai/gewissta/wandb-sweeps/runs/2wfmaze0\" target=\"_blank\">https://wandb.ai/gewissta/wandb-sweeps/runs/2wfmaze0</a><br/>Synced 5 W&B file(s), 3 media file(s), 3 artifact file(s) and 0 other file(s)"
      ],
      "text/plain": [
       "<IPython.core.display.HTML object>"
      ]
     },
     "metadata": {},
     "output_type": "display_data"
    },
    {
     "data": {
      "text/html": [
       "Find logs at: <code>./wandb/run-20221124_224808-2wfmaze0/logs</code>"
      ],
      "text/plain": [
       "<IPython.core.display.HTML object>"
      ]
     },
     "metadata": {},
     "output_type": "display_data"
    },
    {
     "name": "stderr",
     "output_type": "stream",
     "text": [
      "[Parallel(n_jobs=1)]: Done   4 out of   4 | elapsed:  1.5min remaining:    0.0s\n"
     ]
    },
    {
     "data": {
      "text/html": [
       "Changes to your `wandb` environment variables will be ignored because your `wandb` session has already started. For more information on how to modify your settings with `wandb.init()` arguments, please refer to <a href=\"https://wandb.me/wandb-init\" target=\"_blank\">the W&B docs</a>."
      ],
      "text/plain": [
       "<IPython.core.display.HTML object>"
      ]
     },
     "metadata": {},
     "output_type": "display_data"
    },
    {
     "data": {
      "text/html": [
       "wandb version 0.13.5 is available!  To upgrade, please run:\n",
       " $ pip install wandb --upgrade"
      ],
      "text/plain": [
       "<IPython.core.display.HTML object>"
      ]
     },
     "metadata": {},
     "output_type": "display_data"
    },
    {
     "data": {
      "text/html": [
       "Tracking run with wandb version 0.12.21"
      ],
      "text/plain": [
       "<IPython.core.display.HTML object>"
      ]
     },
     "metadata": {},
     "output_type": "display_data"
    },
    {
     "data": {
      "text/html": [
       "Run data is saved locally in <code>/Users/artemgruzdev/Documents/TimeSeries/Code/wandb/run-20221124_224831-2nklt61e</code>"
      ],
      "text/plain": [
       "<IPython.core.display.HTML object>"
      ]
     },
     "metadata": {},
     "output_type": "display_data"
    },
    {
     "data": {
      "text/html": [
       "Syncing run <strong><a href=\"https://wandb.ai/gewissta/wandb-sweeps/runs/2nklt61e\" target=\"_blank\">5mpj8Tkj</a></strong> to <a href=\"https://wandb.ai/gewissta/wandb-sweeps\" target=\"_blank\">Weights & Biases</a> (<a href=\"https://wandb.me/run\" target=\"_blank\">docs</a>)<br/>"
      ],
      "text/plain": [
       "<IPython.core.display.HTML object>"
      ]
     },
     "metadata": {},
     "output_type": "display_data"
    },
    {
     "data": {
      "text/html": [
       "Waiting for W&B process to finish... <strong style=\"color:green\">(success).</strong>"
      ],
      "text/plain": [
       "<IPython.core.display.HTML object>"
      ]
     },
     "metadata": {},
     "output_type": "display_data"
    },
    {
     "data": {
      "application/vnd.jupyter.widget-view+json": {
       "model_id": "",
       "version_major": 2,
       "version_minor": 0
      },
      "text/plain": [
       "VBox(children=(Label(value='0.064 MB of 0.067 MB uploaded (0.000 MB deduped)\\r'), FloatProgress(value=0.959207…"
      ]
     },
     "metadata": {},
     "output_type": "display_data"
    },
    {
     "data": {
      "text/html": [
       "<style>\n",
       "    table.wandb td:nth-child(1) { padding: 0 10px; text-align: left ; width: auto;} td:nth-child(2) {text-align: left ; width: 100%}\n",
       "    .wandb-row { display: flex; flex-direction: row; flex-wrap: wrap; justify-content: flex-start; width: 100% }\n",
       "    .wandb-col { display: flex; flex-direction: column; flex-basis: 100%; flex: 1; padding: 10px; }\n",
       "    </style>\n",
       "<div class=\"wandb-row\"><div class=\"wandb-col\"><h3>Run history:</h3><br/><table class=\"wandb\"><tr><td>MAE_mean</td><td>▁</td></tr><tr><td>MAE_median</td><td>▁</td></tr><tr><td>MAE_percentile_25</td><td>▁</td></tr><tr><td>MAE_percentile_5</td><td>▁</td></tr><tr><td>MAE_percentile_75</td><td>▁</td></tr><tr><td>MAE_percentile_95</td><td>▁</td></tr><tr><td>MAE_std</td><td>▁</td></tr><tr><td>MSE_mean</td><td>▁</td></tr><tr><td>MSE_median</td><td>▁</td></tr><tr><td>MSE_percentile_25</td><td>▁</td></tr><tr><td>MSE_percentile_5</td><td>▁</td></tr><tr><td>MSE_percentile_75</td><td>▁</td></tr><tr><td>MSE_percentile_95</td><td>▁</td></tr><tr><td>MSE_std</td><td>▁</td></tr><tr><td>SMAPE_mean</td><td>▁</td></tr><tr><td>SMAPE_median</td><td>▁</td></tr><tr><td>SMAPE_percentile_25</td><td>▁</td></tr><tr><td>SMAPE_percentile_5</td><td>▁</td></tr><tr><td>SMAPE_percentile_75</td><td>▁</td></tr><tr><td>SMAPE_percentile_95</td><td>▁</td></tr><tr><td>SMAPE_std</td><td>▁</td></tr><tr><td>Sign_mean</td><td>▁</td></tr><tr><td>Sign_median</td><td>▁</td></tr><tr><td>Sign_percentile_25</td><td>▁</td></tr><tr><td>Sign_percentile_5</td><td>▁</td></tr><tr><td>Sign_percentile_75</td><td>▁</td></tr><tr><td>Sign_percentile_95</td><td>▁</td></tr><tr><td>Sign_std</td><td>▁</td></tr></table><br/></div><div class=\"wandb-col\"><h3>Run summary:</h3><br/><table class=\"wandb\"><tr><td>MAE_mean</td><td>53.81298</td></tr><tr><td>MAE_median</td><td>49.88502</td></tr><tr><td>MAE_percentile_25</td><td>41.33187</td></tr><tr><td>MAE_percentile_5</td><td>28.75541</td></tr><tr><td>MAE_percentile_75</td><td>62.36613</td></tr><tr><td>MAE_percentile_95</td><td>84.3697</td></tr><tr><td>MAE_std</td><td>26.76002</td></tr><tr><td>MSE_mean</td><td>6018.13537</td></tr><tr><td>MSE_median</td><td>4710.39175</td></tr><tr><td>MSE_percentile_25</td><td>3115.56141</td></tr><tr><td>MSE_percentile_5</td><td>1460.97299</td></tr><tr><td>MSE_percentile_75</td><td>7612.96571</td></tr><tr><td>MSE_percentile_95</td><td>12406.1388</td></tr><tr><td>MSE_std</td><td>5395.08408</td></tr><tr><td>SMAPE_mean</td><td>13.54783</td></tr><tr><td>SMAPE_median</td><td>10.09256</td></tr><tr><td>SMAPE_percentile_25</td><td>9.66113</td></tr><tr><td>SMAPE_percentile_5</td><td>8.99466</td></tr><tr><td>SMAPE_percentile_75</td><td>13.97927</td></tr><tr><td>SMAPE_percentile_95</td><td>22.93838</td></tr><tr><td>SMAPE_std</td><td>7.77745</td></tr><tr><td>Sign_mean</td><td>0.32143</td></tr><tr><td>Sign_median</td><td>0.28571</td></tr><tr><td>Sign_percentile_25</td><td>0.14286</td></tr><tr><td>Sign_percentile_5</td><td>0.14286</td></tr><tr><td>Sign_percentile_75</td><td>0.46429</td></tr><tr><td>Sign_percentile_95</td><td>0.55</td></tr><tr><td>Sign_std</td><td>0.21429</td></tr></table><br/></div></div>"
      ],
      "text/plain": [
       "<IPython.core.display.HTML object>"
      ]
     },
     "metadata": {},
     "output_type": "display_data"
    },
    {
     "data": {
      "text/html": [
       "Synced <strong style=\"color:#cdcd00\">5mpj8Tkj</strong>: <a href=\"https://wandb.ai/gewissta/wandb-sweeps/runs/2nklt61e\" target=\"_blank\">https://wandb.ai/gewissta/wandb-sweeps/runs/2nklt61e</a><br/>Synced 5 W&B file(s), 3 media file(s), 3 artifact file(s) and 0 other file(s)"
      ],
      "text/plain": [
       "<IPython.core.display.HTML object>"
      ]
     },
     "metadata": {},
     "output_type": "display_data"
    },
    {
     "data": {
      "text/html": [
       "Find logs at: <code>./wandb/run-20221124_224831-2nklt61e/logs</code>"
      ],
      "text/plain": [
       "<IPython.core.display.HTML object>"
      ]
     },
     "metadata": {},
     "output_type": "display_data"
    },
    {
     "name": "stderr",
     "output_type": "stream",
     "text": [
      "[Parallel(n_jobs=1)]: Done   5 out of   5 | elapsed:  1.9min remaining:    0.0s\n",
      "[Parallel(n_jobs=1)]: Done   5 out of   5 | elapsed:  1.9min finished\n"
     ]
    },
    {
     "data": {
      "text/html": [
       "Changes to your `wandb` environment variables will be ignored because your `wandb` session has already started. For more information on how to modify your settings with `wandb.init()` arguments, please refer to <a href=\"https://wandb.me/wandb-init\" target=\"_blank\">the W&B docs</a>."
      ],
      "text/plain": [
       "<IPython.core.display.HTML object>"
      ]
     },
     "metadata": {},
     "output_type": "display_data"
    },
    {
     "data": {
      "text/html": [
       "wandb version 0.13.5 is available!  To upgrade, please run:\n",
       " $ pip install wandb --upgrade"
      ],
      "text/plain": [
       "<IPython.core.display.HTML object>"
      ]
     },
     "metadata": {},
     "output_type": "display_data"
    },
    {
     "data": {
      "text/html": [
       "Tracking run with wandb version 0.12.21"
      ],
      "text/plain": [
       "<IPython.core.display.HTML object>"
      ]
     },
     "metadata": {},
     "output_type": "display_data"
    },
    {
     "data": {
      "text/html": [
       "Run data is saved locally in <code>/Users/artemgruzdev/Documents/TimeSeries/Code/wandb/run-20221124_224854-34109fhy</code>"
      ],
      "text/plain": [
       "<IPython.core.display.HTML object>"
      ]
     },
     "metadata": {},
     "output_type": "display_data"
    },
    {
     "data": {
      "text/html": [
       "Syncing run <strong><a href=\"https://wandb.ai/gewissta/wandb-sweeps/runs/34109fhy\" target=\"_blank\">5mpj8Tkj</a></strong> to <a href=\"https://wandb.ai/gewissta/wandb-sweeps\" target=\"_blank\">Weights & Biases</a> (<a href=\"https://wandb.me/run\" target=\"_blank\">docs</a>)<br/>"
      ],
      "text/plain": [
       "<IPython.core.display.HTML object>"
      ]
     },
     "metadata": {},
     "output_type": "display_data"
    },
    {
     "data": {
      "text/html": [
       "Waiting for W&B process to finish... <strong style=\"color:green\">(success).</strong>"
      ],
      "text/plain": [
       "<IPython.core.display.HTML object>"
      ]
     },
     "metadata": {},
     "output_type": "display_data"
    },
    {
     "data": {
      "application/vnd.jupyter.widget-view+json": {
       "model_id": "",
       "version_major": 2,
       "version_minor": 0
      },
      "text/plain": [
       "VBox(children=(Label(value='0.281 MB of 0.337 MB uploaded (0.000 MB deduped)\\r'), FloatProgress(value=0.833306…"
      ]
     },
     "metadata": {},
     "output_type": "display_data"
    },
    {
     "data": {
      "text/html": [
       "<style>\n",
       "    table.wandb td:nth-child(1) { padding: 0 10px; text-align: left ; width: auto;} td:nth-child(2) {text-align: left ; width: 100%}\n",
       "    .wandb-row { display: flex; flex-direction: row; flex-wrap: wrap; justify-content: flex-start; width: 100% }\n",
       "    .wandb-col { display: flex; flex-direction: column; flex-basis: 100%; flex: 1; padding: 10px; }\n",
       "    </style>\n",
       "<div class=\"wandb-row\"><div class=\"wandb-col\"><h3>Run history:</h3><br/><table class=\"wandb\"><tr><td>MAE_mean</td><td>▁</td></tr><tr><td>MAE_median</td><td>▁</td></tr><tr><td>MAE_percentile_25</td><td>▁</td></tr><tr><td>MAE_percentile_5</td><td>▁</td></tr><tr><td>MAE_percentile_75</td><td>▁</td></tr><tr><td>MAE_percentile_95</td><td>▁</td></tr><tr><td>MAE_std</td><td>▁</td></tr><tr><td>MSE_mean</td><td>▁</td></tr><tr><td>MSE_median</td><td>▁</td></tr><tr><td>MSE_percentile_25</td><td>▁</td></tr><tr><td>MSE_percentile_5</td><td>▁</td></tr><tr><td>MSE_percentile_75</td><td>▁</td></tr><tr><td>MSE_percentile_95</td><td>▁</td></tr><tr><td>MSE_std</td><td>▁</td></tr><tr><td>SMAPE_mean</td><td>▁</td></tr><tr><td>SMAPE_median</td><td>▁</td></tr><tr><td>SMAPE_percentile_25</td><td>▁</td></tr><tr><td>SMAPE_percentile_5</td><td>▁</td></tr><tr><td>SMAPE_percentile_75</td><td>▁</td></tr><tr><td>SMAPE_percentile_95</td><td>▁</td></tr><tr><td>SMAPE_std</td><td>▁</td></tr><tr><td>Sign_mean</td><td>▁</td></tr><tr><td>Sign_median</td><td>▁</td></tr><tr><td>Sign_percentile_25</td><td>▁</td></tr><tr><td>Sign_percentile_5</td><td>▁</td></tr><tr><td>Sign_percentile_75</td><td>▁</td></tr><tr><td>Sign_percentile_95</td><td>▁</td></tr><tr><td>Sign_std</td><td>▁</td></tr></table><br/></div><div class=\"wandb-col\"><h3>Run summary:</h3><br/><table class=\"wandb\"><tr><td>MAE_mean</td><td>43.89385</td></tr><tr><td>MAE_median</td><td>35.79559</td></tr><tr><td>MAE_percentile_25</td><td>21.94371</td></tr><tr><td>MAE_percentile_5</td><td>19.21027</td></tr><tr><td>MAE_percentile_75</td><td>57.74572</td></tr><tr><td>MAE_percentile_95</td><td>79.91498</td></tr><tr><td>MAE_std</td><td>30.68878</td></tr><tr><td>MSE_mean</td><td>4458.7221</td></tr><tr><td>MSE_median</td><td>2726.96646</td></tr><tr><td>MSE_percentile_25</td><td>1064.30061</td></tr><tr><td>MSE_percentile_5</td><td>656.3043</td></tr><tr><td>MSE_percentile_75</td><td>6121.38795</td></tr><tr><td>MSE_percentile_95</td><td>10685.59779</td></tr><tr><td>MSE_std</td><td>5163.49054</td></tr><tr><td>SMAPE_mean</td><td>9.6914</td></tr><tr><td>SMAPE_median</td><td>9.66282</td></tr><tr><td>SMAPE_percentile_25</td><td>8.86501</td></tr><tr><td>SMAPE_percentile_5</td><td>7.89775</td></tr><tr><td>SMAPE_percentile_75</td><td>10.48921</td></tr><tr><td>SMAPE_percentile_95</td><td>11.52505</td></tr><tr><td>SMAPE_std</td><td>1.71615</td></tr><tr><td>Sign_mean</td><td>0.32143</td></tr><tr><td>Sign_median</td><td>0.32857</td></tr><tr><td>Sign_percentile_25</td><td>0.30714</td></tr><tr><td>Sign_percentile_5</td><td>0.29</td></tr><tr><td>Sign_percentile_75</td><td>0.34286</td></tr><tr><td>Sign_percentile_95</td><td>0.34286</td></tr><tr><td>Sign_std</td><td>0.02736</td></tr></table><br/></div></div>"
      ],
      "text/plain": [
       "<IPython.core.display.HTML object>"
      ]
     },
     "metadata": {},
     "output_type": "display_data"
    },
    {
     "data": {
      "text/html": [
       "Synced <strong style=\"color:#cdcd00\">5mpj8Tkj</strong>: <a href=\"https://wandb.ai/gewissta/wandb-sweeps/runs/34109fhy\" target=\"_blank\">https://wandb.ai/gewissta/wandb-sweeps/runs/34109fhy</a><br/>Synced 5 W&B file(s), 4 media file(s), 3 artifact file(s) and 0 other file(s)"
      ],
      "text/plain": [
       "<IPython.core.display.HTML object>"
      ]
     },
     "metadata": {},
     "output_type": "display_data"
    },
    {
     "data": {
      "text/html": [
       "Find logs at: <code>./wandb/run-20221124_224854-34109fhy/logs</code>"
      ],
      "text/plain": [
       "<IPython.core.display.HTML object>"
      ]
     },
     "metadata": {},
     "output_type": "display_data"
    },
    {
     "name": "stderr",
     "output_type": "stream",
     "text": [
      "\u001b[32m[I 2022-11-24 22:49:17,766]\u001b[0m Trial 2 finished with value: 43.89384662813002 and parameters: {'iterations': 27, 'depth': 3, 'lags': 22}. Best is trial 2 with value: 43.89384662813002.\u001b[0m\n",
      "[Parallel(n_jobs=1)]: Using backend SequentialBackend with 1 concurrent workers.\n"
     ]
    },
    {
     "data": {
      "text/html": [
       "Changes to your `wandb` environment variables will be ignored because your `wandb` session has already started. For more information on how to modify your settings with `wandb.init()` arguments, please refer to <a href=\"https://wandb.me/wandb-init\" target=\"_blank\">the W&B docs</a>."
      ],
      "text/plain": [
       "<IPython.core.display.HTML object>"
      ]
     },
     "metadata": {},
     "output_type": "display_data"
    },
    {
     "data": {
      "text/html": [
       "wandb version 0.13.5 is available!  To upgrade, please run:\n",
       " $ pip install wandb --upgrade"
      ],
      "text/plain": [
       "<IPython.core.display.HTML object>"
      ]
     },
     "metadata": {},
     "output_type": "display_data"
    },
    {
     "data": {
      "text/html": [
       "Tracking run with wandb version 0.12.21"
      ],
      "text/plain": [
       "<IPython.core.display.HTML object>"
      ]
     },
     "metadata": {},
     "output_type": "display_data"
    },
    {
     "data": {
      "text/html": [
       "Run data is saved locally in <code>/Users/artemgruzdev/Documents/TimeSeries/Code/wandb/run-20221124_224917-8vzdrorg</code>"
      ],
      "text/plain": [
       "<IPython.core.display.HTML object>"
      ]
     },
     "metadata": {},
     "output_type": "display_data"
    },
    {
     "data": {
      "text/html": [
       "Syncing run <strong><a href=\"https://wandb.ai/gewissta/wandb-sweeps/runs/8vzdrorg\" target=\"_blank\">2c__iaYO</a></strong> to <a href=\"https://wandb.ai/gewissta/wandb-sweeps\" target=\"_blank\">Weights & Biases</a> (<a href=\"https://wandb.me/run\" target=\"_blank\">docs</a>)<br/>"
      ],
      "text/plain": [
       "<IPython.core.display.HTML object>"
      ]
     },
     "metadata": {},
     "output_type": "display_data"
    },
    {
     "data": {
      "text/html": [
       "Waiting for W&B process to finish... <strong style=\"color:green\">(success).</strong>"
      ],
      "text/plain": [
       "<IPython.core.display.HTML object>"
      ]
     },
     "metadata": {},
     "output_type": "display_data"
    },
    {
     "data": {
      "application/vnd.jupyter.widget-view+json": {
       "model_id": "",
       "version_major": 2,
       "version_minor": 0
      },
      "text/plain": [
       "VBox(children=(Label(value='0.015 MB of 0.018 MB uploaded (0.000 MB deduped)\\r'), FloatProgress(value=0.850333…"
      ]
     },
     "metadata": {},
     "output_type": "display_data"
    },
    {
     "data": {
      "text/html": [
       "<style>\n",
       "    table.wandb td:nth-child(1) { padding: 0 10px; text-align: left ; width: auto;} td:nth-child(2) {text-align: left ; width: 100%}\n",
       "    .wandb-row { display: flex; flex-direction: row; flex-wrap: wrap; justify-content: flex-start; width: 100% }\n",
       "    .wandb-col { display: flex; flex-direction: column; flex-basis: 100%; flex: 1; padding: 10px; }\n",
       "    </style>\n",
       "<div class=\"wandb-row\"><div class=\"wandb-col\"><h3>Run history:</h3><br/><table class=\"wandb\"><tr><td>MAE_mean</td><td>▁</td></tr><tr><td>MAE_median</td><td>▁</td></tr><tr><td>MAE_percentile_25</td><td>▁</td></tr><tr><td>MAE_percentile_5</td><td>▁</td></tr><tr><td>MAE_percentile_75</td><td>▁</td></tr><tr><td>MAE_percentile_95</td><td>▁</td></tr><tr><td>MAE_std</td><td>▁</td></tr><tr><td>MSE_mean</td><td>▁</td></tr><tr><td>MSE_median</td><td>▁</td></tr><tr><td>MSE_percentile_25</td><td>▁</td></tr><tr><td>MSE_percentile_5</td><td>▁</td></tr><tr><td>MSE_percentile_75</td><td>▁</td></tr><tr><td>MSE_percentile_95</td><td>▁</td></tr><tr><td>MSE_std</td><td>▁</td></tr><tr><td>SMAPE_mean</td><td>▁</td></tr><tr><td>SMAPE_median</td><td>▁</td></tr><tr><td>SMAPE_percentile_25</td><td>▁</td></tr><tr><td>SMAPE_percentile_5</td><td>▁</td></tr><tr><td>SMAPE_percentile_75</td><td>▁</td></tr><tr><td>SMAPE_percentile_95</td><td>▁</td></tr><tr><td>SMAPE_std</td><td>▁</td></tr><tr><td>Sign_mean</td><td>▁</td></tr><tr><td>Sign_median</td><td>▁</td></tr><tr><td>Sign_percentile_25</td><td>▁</td></tr><tr><td>Sign_percentile_5</td><td>▁</td></tr><tr><td>Sign_percentile_75</td><td>▁</td></tr><tr><td>Sign_percentile_95</td><td>▁</td></tr><tr><td>Sign_std</td><td>▁</td></tr></table><br/></div><div class=\"wandb-col\"><h3>Run summary:</h3><br/><table class=\"wandb\"><tr><td>MAE_mean</td><td>33.45047</td></tr><tr><td>MAE_median</td><td>30.10847</td></tr><tr><td>MAE_percentile_25</td><td>13.7446</td></tr><tr><td>MAE_percentile_5</td><td>11.18975</td></tr><tr><td>MAE_percentile_75</td><td>49.81434</td></tr><tr><td>MAE_percentile_95</td><td>60.38999</td></tr><tr><td>MAE_std</td><td>25.10008</td></tr><tr><td>MSE_mean</td><td>2643.61703</td></tr><tr><td>MSE_median</td><td>2279.3117</td></tr><tr><td>MSE_percentile_25</td><td>385.17169</td></tr><tr><td>MSE_percentile_5</td><td>196.44368</td></tr><tr><td>MSE_percentile_75</td><td>4537.75705</td></tr><tr><td>MSE_percentile_95</td><td>5600.81786</td></tr><tr><td>MSE_std</td><td>2796.83513</td></tr><tr><td>SMAPE_mean</td><td>7.81028</td></tr><tr><td>SMAPE_median</td><td>7.37591</td></tr><tr><td>SMAPE_percentile_25</td><td>6.62913</td></tr><tr><td>SMAPE_percentile_5</td><td>6.5488</td></tr><tr><td>SMAPE_percentile_75</td><td>8.55706</td></tr><tr><td>SMAPE_percentile_95</td><td>9.67986</td></tr><tr><td>SMAPE_std</td><td>1.59803</td></tr><tr><td>Sign_mean</td><td>-0.07143</td></tr><tr><td>Sign_median</td><td>-0.14286</td></tr><tr><td>Sign_percentile_25</td><td>-0.28571</td></tr><tr><td>Sign_percentile_5</td><td>-0.28571</td></tr><tr><td>Sign_percentile_75</td><td>0.07143</td></tr><tr><td>Sign_percentile_95</td><td>0.24286</td></tr><tr><td>Sign_std</td><td>0.27355</td></tr></table><br/></div></div>"
      ],
      "text/plain": [
       "<IPython.core.display.HTML object>"
      ]
     },
     "metadata": {},
     "output_type": "display_data"
    },
    {
     "data": {
      "text/html": [
       "Synced <strong style=\"color:#cdcd00\">2c__iaYO</strong>: <a href=\"https://wandb.ai/gewissta/wandb-sweeps/runs/8vzdrorg\" target=\"_blank\">https://wandb.ai/gewissta/wandb-sweeps/runs/8vzdrorg</a><br/>Synced 5 W&B file(s), 3 media file(s), 3 artifact file(s) and 0 other file(s)"
      ],
      "text/plain": [
       "<IPython.core.display.HTML object>"
      ]
     },
     "metadata": {},
     "output_type": "display_data"
    },
    {
     "data": {
      "text/html": [
       "Find logs at: <code>./wandb/run-20221124_224917-8vzdrorg/logs</code>"
      ],
      "text/plain": [
       "<IPython.core.display.HTML object>"
      ]
     },
     "metadata": {},
     "output_type": "display_data"
    },
    {
     "name": "stderr",
     "output_type": "stream",
     "text": [
      "[Parallel(n_jobs=1)]: Done   1 out of   1 | elapsed:   23.3s remaining:    0.0s\n"
     ]
    },
    {
     "data": {
      "text/html": [
       "Changes to your `wandb` environment variables will be ignored because your `wandb` session has already started. For more information on how to modify your settings with `wandb.init()` arguments, please refer to <a href=\"https://wandb.me/wandb-init\" target=\"_blank\">the W&B docs</a>."
      ],
      "text/plain": [
       "<IPython.core.display.HTML object>"
      ]
     },
     "metadata": {},
     "output_type": "display_data"
    },
    {
     "data": {
      "text/html": [
       "wandb version 0.13.5 is available!  To upgrade, please run:\n",
       " $ pip install wandb --upgrade"
      ],
      "text/plain": [
       "<IPython.core.display.HTML object>"
      ]
     },
     "metadata": {},
     "output_type": "display_data"
    },
    {
     "data": {
      "text/html": [
       "Tracking run with wandb version 0.12.21"
      ],
      "text/plain": [
       "<IPython.core.display.HTML object>"
      ]
     },
     "metadata": {},
     "output_type": "display_data"
    },
    {
     "data": {
      "text/html": [
       "Run data is saved locally in <code>/Users/artemgruzdev/Documents/TimeSeries/Code/wandb/run-20221124_224941-2wu1zvax</code>"
      ],
      "text/plain": [
       "<IPython.core.display.HTML object>"
      ]
     },
     "metadata": {},
     "output_type": "display_data"
    },
    {
     "data": {
      "text/html": [
       "Syncing run <strong><a href=\"https://wandb.ai/gewissta/wandb-sweeps/runs/2wu1zvax\" target=\"_blank\">2c__iaYO</a></strong> to <a href=\"https://wandb.ai/gewissta/wandb-sweeps\" target=\"_blank\">Weights & Biases</a> (<a href=\"https://wandb.me/run\" target=\"_blank\">docs</a>)<br/>"
      ],
      "text/plain": [
       "<IPython.core.display.HTML object>"
      ]
     },
     "metadata": {},
     "output_type": "display_data"
    },
    {
     "data": {
      "text/html": [
       "Waiting for W&B process to finish... <strong style=\"color:green\">(success).</strong>"
      ],
      "text/plain": [
       "<IPython.core.display.HTML object>"
      ]
     },
     "metadata": {},
     "output_type": "display_data"
    },
    {
     "data": {
      "application/vnd.jupyter.widget-view+json": {
       "model_id": "",
       "version_major": 2,
       "version_minor": 0
      },
      "text/plain": [
       "VBox(children=(Label(value='0.015 MB of 0.018 MB uploaded (0.000 MB deduped)\\r'), FloatProgress(value=0.850160…"
      ]
     },
     "metadata": {},
     "output_type": "display_data"
    },
    {
     "data": {
      "text/html": [
       "<style>\n",
       "    table.wandb td:nth-child(1) { padding: 0 10px; text-align: left ; width: auto;} td:nth-child(2) {text-align: left ; width: 100%}\n",
       "    .wandb-row { display: flex; flex-direction: row; flex-wrap: wrap; justify-content: flex-start; width: 100% }\n",
       "    .wandb-col { display: flex; flex-direction: column; flex-basis: 100%; flex: 1; padding: 10px; }\n",
       "    </style>\n",
       "<div class=\"wandb-row\"><div class=\"wandb-col\"><h3>Run history:</h3><br/><table class=\"wandb\"><tr><td>MAE_mean</td><td>▁</td></tr><tr><td>MAE_median</td><td>▁</td></tr><tr><td>MAE_percentile_25</td><td>▁</td></tr><tr><td>MAE_percentile_5</td><td>▁</td></tr><tr><td>MAE_percentile_75</td><td>▁</td></tr><tr><td>MAE_percentile_95</td><td>▁</td></tr><tr><td>MAE_std</td><td>▁</td></tr><tr><td>MSE_mean</td><td>▁</td></tr><tr><td>MSE_median</td><td>▁</td></tr><tr><td>MSE_percentile_25</td><td>▁</td></tr><tr><td>MSE_percentile_5</td><td>▁</td></tr><tr><td>MSE_percentile_75</td><td>▁</td></tr><tr><td>MSE_percentile_95</td><td>▁</td></tr><tr><td>MSE_std</td><td>▁</td></tr><tr><td>SMAPE_mean</td><td>▁</td></tr><tr><td>SMAPE_median</td><td>▁</td></tr><tr><td>SMAPE_percentile_25</td><td>▁</td></tr><tr><td>SMAPE_percentile_5</td><td>▁</td></tr><tr><td>SMAPE_percentile_75</td><td>▁</td></tr><tr><td>SMAPE_percentile_95</td><td>▁</td></tr><tr><td>SMAPE_std</td><td>▁</td></tr><tr><td>Sign_mean</td><td>▁</td></tr><tr><td>Sign_median</td><td>▁</td></tr><tr><td>Sign_percentile_25</td><td>▁</td></tr><tr><td>Sign_percentile_5</td><td>▁</td></tr><tr><td>Sign_percentile_75</td><td>▁</td></tr><tr><td>Sign_percentile_95</td><td>▁</td></tr><tr><td>Sign_std</td><td>▁</td></tr></table><br/></div><div class=\"wandb-col\"><h3>Run summary:</h3><br/><table class=\"wandb\"><tr><td>MAE_mean</td><td>54.44885</td></tr><tr><td>MAE_median</td><td>54.0105</td></tr><tr><td>MAE_percentile_25</td><td>27.29797</td></tr><tr><td>MAE_percentile_5</td><td>19.23821</td></tr><tr><td>MAE_percentile_75</td><td>81.16138</td></tr><tr><td>MAE_percentile_95</td><td>90.27319</td></tr><tr><td>MAE_std</td><td>36.18821</td></tr><tr><td>MSE_mean</td><td>5518.18915</td></tr><tr><td>MSE_median</td><td>4435.81618</td></tr><tr><td>MSE_percentile_25</td><td>993.23459</td></tr><tr><td>MSE_percentile_5</td><td>552.74052</td></tr><tr><td>MSE_percentile_75</td><td>8960.77074</td></tr><tr><td>MSE_percentile_95</td><td>11998.95994</td></tr><tr><td>MSE_std</td><td>5824.35736</td></tr><tr><td>SMAPE_mean</td><td>12.64575</td></tr><tr><td>SMAPE_median</td><td>12.22247</td></tr><tr><td>SMAPE_percentile_25</td><td>11.15168</td></tr><tr><td>SMAPE_percentile_5</td><td>10.42185</td></tr><tr><td>SMAPE_percentile_75</td><td>13.71653</td></tr><tr><td>SMAPE_percentile_95</td><td>15.46223</td></tr><tr><td>SMAPE_std</td><td>2.44308</td></tr><tr><td>Sign_mean</td><td>0.5</td></tr><tr><td>Sign_median</td><td>0.64286</td></tr><tr><td>Sign_percentile_25</td><td>0.42857</td></tr><tr><td>Sign_percentile_5</td><td>0.08571</td></tr><tr><td>Sign_percentile_75</td><td>0.71429</td></tr><tr><td>Sign_percentile_95</td><td>0.71429</td></tr><tr><td>Sign_std</td><td>0.34007</td></tr></table><br/></div></div>"
      ],
      "text/plain": [
       "<IPython.core.display.HTML object>"
      ]
     },
     "metadata": {},
     "output_type": "display_data"
    },
    {
     "data": {
      "text/html": [
       "Synced <strong style=\"color:#cdcd00\">2c__iaYO</strong>: <a href=\"https://wandb.ai/gewissta/wandb-sweeps/runs/2wu1zvax\" target=\"_blank\">https://wandb.ai/gewissta/wandb-sweeps/runs/2wu1zvax</a><br/>Synced 5 W&B file(s), 3 media file(s), 3 artifact file(s) and 0 other file(s)"
      ],
      "text/plain": [
       "<IPython.core.display.HTML object>"
      ]
     },
     "metadata": {},
     "output_type": "display_data"
    },
    {
     "data": {
      "text/html": [
       "Find logs at: <code>./wandb/run-20221124_224941-2wu1zvax/logs</code>"
      ],
      "text/plain": [
       "<IPython.core.display.HTML object>"
      ]
     },
     "metadata": {},
     "output_type": "display_data"
    },
    {
     "name": "stderr",
     "output_type": "stream",
     "text": [
      "[Parallel(n_jobs=1)]: Done   2 out of   2 | elapsed:   46.5s remaining:    0.0s\n"
     ]
    },
    {
     "data": {
      "text/html": [
       "Changes to your `wandb` environment variables will be ignored because your `wandb` session has already started. For more information on how to modify your settings with `wandb.init()` arguments, please refer to <a href=\"https://wandb.me/wandb-init\" target=\"_blank\">the W&B docs</a>."
      ],
      "text/plain": [
       "<IPython.core.display.HTML object>"
      ]
     },
     "metadata": {},
     "output_type": "display_data"
    },
    {
     "data": {
      "text/html": [
       "wandb version 0.13.5 is available!  To upgrade, please run:\n",
       " $ pip install wandb --upgrade"
      ],
      "text/plain": [
       "<IPython.core.display.HTML object>"
      ]
     },
     "metadata": {},
     "output_type": "display_data"
    },
    {
     "data": {
      "text/html": [
       "Tracking run with wandb version 0.12.21"
      ],
      "text/plain": [
       "<IPython.core.display.HTML object>"
      ]
     },
     "metadata": {},
     "output_type": "display_data"
    },
    {
     "data": {
      "text/html": [
       "Run data is saved locally in <code>/Users/artemgruzdev/Documents/TimeSeries/Code/wandb/run-20221124_225004-q4j50eqn</code>"
      ],
      "text/plain": [
       "<IPython.core.display.HTML object>"
      ]
     },
     "metadata": {},
     "output_type": "display_data"
    },
    {
     "data": {
      "text/html": [
       "Syncing run <strong><a href=\"https://wandb.ai/gewissta/wandb-sweeps/runs/q4j50eqn\" target=\"_blank\">2c__iaYO</a></strong> to <a href=\"https://wandb.ai/gewissta/wandb-sweeps\" target=\"_blank\">Weights & Biases</a> (<a href=\"https://wandb.me/run\" target=\"_blank\">docs</a>)<br/>"
      ],
      "text/plain": [
       "<IPython.core.display.HTML object>"
      ]
     },
     "metadata": {},
     "output_type": "display_data"
    },
    {
     "data": {
      "text/html": [
       "Waiting for W&B process to finish... <strong style=\"color:green\">(success).</strong>"
      ],
      "text/plain": [
       "<IPython.core.display.HTML object>"
      ]
     },
     "metadata": {},
     "output_type": "display_data"
    },
    {
     "data": {
      "application/vnd.jupyter.widget-view+json": {
       "model_id": "",
       "version_major": 2,
       "version_minor": 0
      },
      "text/plain": [
       "VBox(children=(Label(value='0.015 MB of 0.018 MB uploaded (0.000 MB deduped)\\r'), FloatProgress(value=0.873044…"
      ]
     },
     "metadata": {},
     "output_type": "display_data"
    },
    {
     "data": {
      "text/html": [
       "<style>\n",
       "    table.wandb td:nth-child(1) { padding: 0 10px; text-align: left ; width: auto;} td:nth-child(2) {text-align: left ; width: 100%}\n",
       "    .wandb-row { display: flex; flex-direction: row; flex-wrap: wrap; justify-content: flex-start; width: 100% }\n",
       "    .wandb-col { display: flex; flex-direction: column; flex-basis: 100%; flex: 1; padding: 10px; }\n",
       "    </style>\n",
       "<div class=\"wandb-row\"><div class=\"wandb-col\"><h3>Run history:</h3><br/><table class=\"wandb\"><tr><td>MAE_mean</td><td>▁</td></tr><tr><td>MAE_median</td><td>▁</td></tr><tr><td>MAE_percentile_25</td><td>▁</td></tr><tr><td>MAE_percentile_5</td><td>▁</td></tr><tr><td>MAE_percentile_75</td><td>▁</td></tr><tr><td>MAE_percentile_95</td><td>▁</td></tr><tr><td>MAE_std</td><td>▁</td></tr><tr><td>MSE_mean</td><td>▁</td></tr><tr><td>MSE_median</td><td>▁</td></tr><tr><td>MSE_percentile_25</td><td>▁</td></tr><tr><td>MSE_percentile_5</td><td>▁</td></tr><tr><td>MSE_percentile_75</td><td>▁</td></tr><tr><td>MSE_percentile_95</td><td>▁</td></tr><tr><td>MSE_std</td><td>▁</td></tr><tr><td>SMAPE_mean</td><td>▁</td></tr><tr><td>SMAPE_median</td><td>▁</td></tr><tr><td>SMAPE_percentile_25</td><td>▁</td></tr><tr><td>SMAPE_percentile_5</td><td>▁</td></tr><tr><td>SMAPE_percentile_75</td><td>▁</td></tr><tr><td>SMAPE_percentile_95</td><td>▁</td></tr><tr><td>SMAPE_std</td><td>▁</td></tr><tr><td>Sign_mean</td><td>▁</td></tr><tr><td>Sign_median</td><td>▁</td></tr><tr><td>Sign_percentile_25</td><td>▁</td></tr><tr><td>Sign_percentile_5</td><td>▁</td></tr><tr><td>Sign_percentile_75</td><td>▁</td></tr><tr><td>Sign_percentile_95</td><td>▁</td></tr><tr><td>Sign_std</td><td>▁</td></tr></table><br/></div><div class=\"wandb-col\"><h3>Run summary:</h3><br/><table class=\"wandb\"><tr><td>MAE_mean</td><td>35.10071</td></tr><tr><td>MAE_median</td><td>34.05786</td></tr><tr><td>MAE_percentile_25</td><td>16.79732</td></tr><tr><td>MAE_percentile_5</td><td>14.85171</td></tr><tr><td>MAE_percentile_75</td><td>52.36125</td></tr><tr><td>MAE_percentile_95</td><td>56.80969</td></tr><tr><td>MAE_std</td><td>22.31689</td></tr><tr><td>MSE_mean</td><td>2188.82968</td></tr><tr><td>MSE_median</td><td>1869.53713</td></tr><tr><td>MSE_percentile_25</td><td>370.43451</td></tr><tr><td>MSE_percentile_5</td><td>302.90293</td></tr><tr><td>MSE_percentile_75</td><td>3687.9323</td></tr><tr><td>MSE_percentile_95</td><td>4521.76602</td></tr><tr><td>MSE_std</td><td>2206.86356</td></tr><tr><td>SMAPE_mean</td><td>8.10953</td></tr><tr><td>SMAPE_median</td><td>8.26079</td></tr><tr><td>SMAPE_percentile_25</td><td>6.74453</td></tr><tr><td>SMAPE_percentile_5</td><td>6.20939</td></tr><tr><td>SMAPE_percentile_75</td><td>9.6258</td></tr><tr><td>SMAPE_percentile_95</td><td>9.79792</td></tr><tr><td>SMAPE_std</td><td>1.87311</td></tr><tr><td>Sign_mean</td><td>0.42857</td></tr><tr><td>Sign_median</td><td>0.42857</td></tr><tr><td>Sign_percentile_25</td><td>0.10714</td></tr><tr><td>Sign_percentile_5</td><td>0.02143</td></tr><tr><td>Sign_percentile_75</td><td>0.75</td></tr><tr><td>Sign_percentile_95</td><td>0.83571</td></tr><tr><td>Sign_std</td><td>0.42056</td></tr></table><br/></div></div>"
      ],
      "text/plain": [
       "<IPython.core.display.HTML object>"
      ]
     },
     "metadata": {},
     "output_type": "display_data"
    },
    {
     "data": {
      "text/html": [
       "Synced <strong style=\"color:#cdcd00\">2c__iaYO</strong>: <a href=\"https://wandb.ai/gewissta/wandb-sweeps/runs/q4j50eqn\" target=\"_blank\">https://wandb.ai/gewissta/wandb-sweeps/runs/q4j50eqn</a><br/>Synced 5 W&B file(s), 3 media file(s), 3 artifact file(s) and 0 other file(s)"
      ],
      "text/plain": [
       "<IPython.core.display.HTML object>"
      ]
     },
     "metadata": {},
     "output_type": "display_data"
    },
    {
     "data": {
      "text/html": [
       "Find logs at: <code>./wandb/run-20221124_225004-q4j50eqn/logs</code>"
      ],
      "text/plain": [
       "<IPython.core.display.HTML object>"
      ]
     },
     "metadata": {},
     "output_type": "display_data"
    },
    {
     "name": "stderr",
     "output_type": "stream",
     "text": [
      "[Parallel(n_jobs=1)]: Done   3 out of   3 | elapsed:  1.2min remaining:    0.0s\n"
     ]
    },
    {
     "data": {
      "text/html": [
       "Changes to your `wandb` environment variables will be ignored because your `wandb` session has already started. For more information on how to modify your settings with `wandb.init()` arguments, please refer to <a href=\"https://wandb.me/wandb-init\" target=\"_blank\">the W&B docs</a>."
      ],
      "text/plain": [
       "<IPython.core.display.HTML object>"
      ]
     },
     "metadata": {},
     "output_type": "display_data"
    },
    {
     "data": {
      "text/html": [
       "wandb version 0.13.5 is available!  To upgrade, please run:\n",
       " $ pip install wandb --upgrade"
      ],
      "text/plain": [
       "<IPython.core.display.HTML object>"
      ]
     },
     "metadata": {},
     "output_type": "display_data"
    },
    {
     "data": {
      "text/html": [
       "Tracking run with wandb version 0.12.21"
      ],
      "text/plain": [
       "<IPython.core.display.HTML object>"
      ]
     },
     "metadata": {},
     "output_type": "display_data"
    },
    {
     "data": {
      "text/html": [
       "Run data is saved locally in <code>/Users/artemgruzdev/Documents/TimeSeries/Code/wandb/run-20221124_225027-38py1xlk</code>"
      ],
      "text/plain": [
       "<IPython.core.display.HTML object>"
      ]
     },
     "metadata": {},
     "output_type": "display_data"
    },
    {
     "data": {
      "text/html": [
       "Syncing run <strong><a href=\"https://wandb.ai/gewissta/wandb-sweeps/runs/38py1xlk\" target=\"_blank\">2c__iaYO</a></strong> to <a href=\"https://wandb.ai/gewissta/wandb-sweeps\" target=\"_blank\">Weights & Biases</a> (<a href=\"https://wandb.me/run\" target=\"_blank\">docs</a>)<br/>"
      ],
      "text/plain": [
       "<IPython.core.display.HTML object>"
      ]
     },
     "metadata": {},
     "output_type": "display_data"
    },
    {
     "data": {
      "text/html": [
       "Waiting for W&B process to finish... <strong style=\"color:green\">(success).</strong>"
      ],
      "text/plain": [
       "<IPython.core.display.HTML object>"
      ]
     },
     "metadata": {},
     "output_type": "display_data"
    },
    {
     "data": {
      "application/vnd.jupyter.widget-view+json": {
       "model_id": "",
       "version_major": 2,
       "version_minor": 0
      },
      "text/plain": [
       "VBox(children=(Label(value='0.015 MB of 0.018 MB uploaded (0.000 MB deduped)\\r'), FloatProgress(value=0.849766…"
      ]
     },
     "metadata": {},
     "output_type": "display_data"
    },
    {
     "data": {
      "text/html": [
       "<style>\n",
       "    table.wandb td:nth-child(1) { padding: 0 10px; text-align: left ; width: auto;} td:nth-child(2) {text-align: left ; width: 100%}\n",
       "    .wandb-row { display: flex; flex-direction: row; flex-wrap: wrap; justify-content: flex-start; width: 100% }\n",
       "    .wandb-col { display: flex; flex-direction: column; flex-basis: 100%; flex: 1; padding: 10px; }\n",
       "    </style>\n",
       "<div class=\"wandb-row\"><div class=\"wandb-col\"><h3>Run history:</h3><br/><table class=\"wandb\"><tr><td>MAE_mean</td><td>▁</td></tr><tr><td>MAE_median</td><td>▁</td></tr><tr><td>MAE_percentile_25</td><td>▁</td></tr><tr><td>MAE_percentile_5</td><td>▁</td></tr><tr><td>MAE_percentile_75</td><td>▁</td></tr><tr><td>MAE_percentile_95</td><td>▁</td></tr><tr><td>MAE_std</td><td>▁</td></tr><tr><td>MSE_mean</td><td>▁</td></tr><tr><td>MSE_median</td><td>▁</td></tr><tr><td>MSE_percentile_25</td><td>▁</td></tr><tr><td>MSE_percentile_5</td><td>▁</td></tr><tr><td>MSE_percentile_75</td><td>▁</td></tr><tr><td>MSE_percentile_95</td><td>▁</td></tr><tr><td>MSE_std</td><td>▁</td></tr><tr><td>SMAPE_mean</td><td>▁</td></tr><tr><td>SMAPE_median</td><td>▁</td></tr><tr><td>SMAPE_percentile_25</td><td>▁</td></tr><tr><td>SMAPE_percentile_5</td><td>▁</td></tr><tr><td>SMAPE_percentile_75</td><td>▁</td></tr><tr><td>SMAPE_percentile_95</td><td>▁</td></tr><tr><td>SMAPE_std</td><td>▁</td></tr><tr><td>Sign_mean</td><td>▁</td></tr><tr><td>Sign_median</td><td>▁</td></tr><tr><td>Sign_percentile_25</td><td>▁</td></tr><tr><td>Sign_percentile_5</td><td>▁</td></tr><tr><td>Sign_percentile_75</td><td>▁</td></tr><tr><td>Sign_percentile_95</td><td>▁</td></tr><tr><td>Sign_std</td><td>▁</td></tr></table><br/></div><div class=\"wandb-col\"><h3>Run summary:</h3><br/><table class=\"wandb\"><tr><td>MAE_mean</td><td>60.51548</td></tr><tr><td>MAE_median</td><td>49.54817</td></tr><tr><td>MAE_percentile_25</td><td>24.45631</td></tr><tr><td>MAE_percentile_5</td><td>21.62148</td></tr><tr><td>MAE_percentile_75</td><td>85.60735</td></tr><tr><td>MAE_percentile_95</td><td>114.76369</td></tr><tr><td>MAE_std</td><td>47.39627</td></tr><tr><td>MSE_mean</td><td>7679.01216</td></tr><tr><td>MSE_median</td><td>4886.84383</td></tr><tr><td>MSE_percentile_25</td><td>1623.67524</td></tr><tr><td>MSE_percentile_5</td><td>812.83123</td></tr><tr><td>MSE_percentile_75</td><td>10942.18076</td></tr><tr><td>MSE_percentile_95</td><td>18454.22877</td></tr><tr><td>MSE_std</td><td>8995.9397</td></tr><tr><td>SMAPE_mean</td><td>11.66086</td></tr><tr><td>SMAPE_median</td><td>12.39501</td></tr><tr><td>SMAPE_percentile_25</td><td>10.92373</td></tr><tr><td>SMAPE_percentile_5</td><td>8.81775</td></tr><tr><td>SMAPE_percentile_75</td><td>13.13214</td></tr><tr><td>SMAPE_percentile_95</td><td>13.47618</td></tr><tr><td>SMAPE_std</td><td>2.36308</td></tr><tr><td>Sign_mean</td><td>0.64286</td></tr><tr><td>Sign_median</td><td>0.64286</td></tr><tr><td>Sign_percentile_25</td><td>0.39286</td></tr><tr><td>Sign_percentile_5</td><td>0.30714</td></tr><tr><td>Sign_percentile_75</td><td>0.89286</td></tr><tr><td>Sign_percentile_95</td><td>0.97857</td></tr><tr><td>Sign_std</td><td>0.34007</td></tr></table><br/></div></div>"
      ],
      "text/plain": [
       "<IPython.core.display.HTML object>"
      ]
     },
     "metadata": {},
     "output_type": "display_data"
    },
    {
     "data": {
      "text/html": [
       "Synced <strong style=\"color:#cdcd00\">2c__iaYO</strong>: <a href=\"https://wandb.ai/gewissta/wandb-sweeps/runs/38py1xlk\" target=\"_blank\">https://wandb.ai/gewissta/wandb-sweeps/runs/38py1xlk</a><br/>Synced 5 W&B file(s), 3 media file(s), 3 artifact file(s) and 0 other file(s)"
      ],
      "text/plain": [
       "<IPython.core.display.HTML object>"
      ]
     },
     "metadata": {},
     "output_type": "display_data"
    },
    {
     "data": {
      "text/html": [
       "Find logs at: <code>./wandb/run-20221124_225027-38py1xlk/logs</code>"
      ],
      "text/plain": [
       "<IPython.core.display.HTML object>"
      ]
     },
     "metadata": {},
     "output_type": "display_data"
    },
    {
     "name": "stderr",
     "output_type": "stream",
     "text": [
      "[Parallel(n_jobs=1)]: Done   4 out of   4 | elapsed:  1.6min remaining:    0.0s\n"
     ]
    },
    {
     "data": {
      "text/html": [
       "Changes to your `wandb` environment variables will be ignored because your `wandb` session has already started. For more information on how to modify your settings with `wandb.init()` arguments, please refer to <a href=\"https://wandb.me/wandb-init\" target=\"_blank\">the W&B docs</a>."
      ],
      "text/plain": [
       "<IPython.core.display.HTML object>"
      ]
     },
     "metadata": {},
     "output_type": "display_data"
    },
    {
     "data": {
      "text/html": [
       "wandb version 0.13.5 is available!  To upgrade, please run:\n",
       " $ pip install wandb --upgrade"
      ],
      "text/plain": [
       "<IPython.core.display.HTML object>"
      ]
     },
     "metadata": {},
     "output_type": "display_data"
    },
    {
     "data": {
      "text/html": [
       "Tracking run with wandb version 0.12.21"
      ],
      "text/plain": [
       "<IPython.core.display.HTML object>"
      ]
     },
     "metadata": {},
     "output_type": "display_data"
    },
    {
     "data": {
      "text/html": [
       "Run data is saved locally in <code>/Users/artemgruzdev/Documents/TimeSeries/Code/wandb/run-20221124_225051-kyblz1w1</code>"
      ],
      "text/plain": [
       "<IPython.core.display.HTML object>"
      ]
     },
     "metadata": {},
     "output_type": "display_data"
    },
    {
     "data": {
      "text/html": [
       "Syncing run <strong><a href=\"https://wandb.ai/gewissta/wandb-sweeps/runs/kyblz1w1\" target=\"_blank\">2c__iaYO</a></strong> to <a href=\"https://wandb.ai/gewissta/wandb-sweeps\" target=\"_blank\">Weights & Biases</a> (<a href=\"https://wandb.me/run\" target=\"_blank\">docs</a>)<br/>"
      ],
      "text/plain": [
       "<IPython.core.display.HTML object>"
      ]
     },
     "metadata": {},
     "output_type": "display_data"
    },
    {
     "data": {
      "text/html": [
       "Waiting for W&B process to finish... <strong style=\"color:green\">(success).</strong>"
      ],
      "text/plain": [
       "<IPython.core.display.HTML object>"
      ]
     },
     "metadata": {},
     "output_type": "display_data"
    },
    {
     "data": {
      "application/vnd.jupyter.widget-view+json": {
       "model_id": "",
       "version_major": 2,
       "version_minor": 0
      },
      "text/plain": [
       "VBox(children=(Label(value='0.015 MB of 0.018 MB uploaded (0.000 MB deduped)\\r'), FloatProgress(value=0.849550…"
      ]
     },
     "metadata": {},
     "output_type": "display_data"
    },
    {
     "data": {
      "text/html": [
       "<style>\n",
       "    table.wandb td:nth-child(1) { padding: 0 10px; text-align: left ; width: auto;} td:nth-child(2) {text-align: left ; width: 100%}\n",
       "    .wandb-row { display: flex; flex-direction: row; flex-wrap: wrap; justify-content: flex-start; width: 100% }\n",
       "    .wandb-col { display: flex; flex-direction: column; flex-basis: 100%; flex: 1; padding: 10px; }\n",
       "    </style>\n",
       "<div class=\"wandb-row\"><div class=\"wandb-col\"><h3>Run history:</h3><br/><table class=\"wandb\"><tr><td>MAE_mean</td><td>▁</td></tr><tr><td>MAE_median</td><td>▁</td></tr><tr><td>MAE_percentile_25</td><td>▁</td></tr><tr><td>MAE_percentile_5</td><td>▁</td></tr><tr><td>MAE_percentile_75</td><td>▁</td></tr><tr><td>MAE_percentile_95</td><td>▁</td></tr><tr><td>MAE_std</td><td>▁</td></tr><tr><td>MSE_mean</td><td>▁</td></tr><tr><td>MSE_median</td><td>▁</td></tr><tr><td>MSE_percentile_25</td><td>▁</td></tr><tr><td>MSE_percentile_5</td><td>▁</td></tr><tr><td>MSE_percentile_75</td><td>▁</td></tr><tr><td>MSE_percentile_95</td><td>▁</td></tr><tr><td>MSE_std</td><td>▁</td></tr><tr><td>SMAPE_mean</td><td>▁</td></tr><tr><td>SMAPE_median</td><td>▁</td></tr><tr><td>SMAPE_percentile_25</td><td>▁</td></tr><tr><td>SMAPE_percentile_5</td><td>▁</td></tr><tr><td>SMAPE_percentile_75</td><td>▁</td></tr><tr><td>SMAPE_percentile_95</td><td>▁</td></tr><tr><td>SMAPE_std</td><td>▁</td></tr><tr><td>Sign_mean</td><td>▁</td></tr><tr><td>Sign_median</td><td>▁</td></tr><tr><td>Sign_percentile_25</td><td>▁</td></tr><tr><td>Sign_percentile_5</td><td>▁</td></tr><tr><td>Sign_percentile_75</td><td>▁</td></tr><tr><td>Sign_percentile_95</td><td>▁</td></tr><tr><td>Sign_std</td><td>▁</td></tr></table><br/></div><div class=\"wandb-col\"><h3>Run summary:</h3><br/><table class=\"wandb\"><tr><td>MAE_mean</td><td>52.09698</td></tr><tr><td>MAE_median</td><td>49.78458</td></tr><tr><td>MAE_percentile_25</td><td>38.57169</td></tr><tr><td>MAE_percentile_5</td><td>26.5655</td></tr><tr><td>MAE_percentile_75</td><td>63.30987</td></tr><tr><td>MAE_percentile_95</td><td>80.86583</td></tr><tr><td>MAE_std</td><td>25.82896</td></tr><tr><td>MSE_mean</td><td>5888.42588</td></tr><tr><td>MSE_median</td><td>4745.46731</td></tr><tr><td>MSE_percentile_25</td><td>3573.95414</td></tr><tr><td>MSE_percentile_5</td><td>1627.82916</td></tr><tr><td>MSE_percentile_75</td><td>7059.93905</td></tr><tr><td>MSE_percentile_95</td><td>11749.16462</td></tr><tr><td>MSE_std</td><td>4995.72354</td></tr><tr><td>SMAPE_mean</td><td>13.50162</td></tr><tr><td>SMAPE_median</td><td>9.38041</td></tr><tr><td>SMAPE_percentile_25</td><td>9.07549</td></tr><tr><td>SMAPE_percentile_5</td><td>8.4029</td></tr><tr><td>SMAPE_percentile_75</td><td>13.80654</td></tr><tr><td>SMAPE_percentile_95</td><td>24.37005</td></tr><tr><td>SMAPE_std</td><td>9.0224</td></tr><tr><td>Sign_mean</td><td>0.39286</td></tr><tr><td>Sign_median</td><td>0.42857</td></tr><tr><td>Sign_percentile_25</td><td>0.21429</td></tr><tr><td>Sign_percentile_5</td><td>0.04286</td></tr><tr><td>Sign_percentile_75</td><td>0.60714</td></tr><tr><td>Sign_percentile_95</td><td>0.69286</td></tr><tr><td>Sign_std</td><td>0.31677</td></tr></table><br/></div></div>"
      ],
      "text/plain": [
       "<IPython.core.display.HTML object>"
      ]
     },
     "metadata": {},
     "output_type": "display_data"
    },
    {
     "data": {
      "text/html": [
       "Synced <strong style=\"color:#cdcd00\">2c__iaYO</strong>: <a href=\"https://wandb.ai/gewissta/wandb-sweeps/runs/kyblz1w1\" target=\"_blank\">https://wandb.ai/gewissta/wandb-sweeps/runs/kyblz1w1</a><br/>Synced 5 W&B file(s), 3 media file(s), 3 artifact file(s) and 0 other file(s)"
      ],
      "text/plain": [
       "<IPython.core.display.HTML object>"
      ]
     },
     "metadata": {},
     "output_type": "display_data"
    },
    {
     "data": {
      "text/html": [
       "Find logs at: <code>./wandb/run-20221124_225051-kyblz1w1/logs</code>"
      ],
      "text/plain": [
       "<IPython.core.display.HTML object>"
      ]
     },
     "metadata": {},
     "output_type": "display_data"
    },
    {
     "name": "stderr",
     "output_type": "stream",
     "text": [
      "[Parallel(n_jobs=1)]: Done   5 out of   5 | elapsed:  1.9min remaining:    0.0s\n",
      "[Parallel(n_jobs=1)]: Done   5 out of   5 | elapsed:  1.9min finished\n"
     ]
    },
    {
     "data": {
      "text/html": [
       "Changes to your `wandb` environment variables will be ignored because your `wandb` session has already started. For more information on how to modify your settings with `wandb.init()` arguments, please refer to <a href=\"https://wandb.me/wandb-init\" target=\"_blank\">the W&B docs</a>."
      ],
      "text/plain": [
       "<IPython.core.display.HTML object>"
      ]
     },
     "metadata": {},
     "output_type": "display_data"
    },
    {
     "data": {
      "text/html": [
       "wandb version 0.13.5 is available!  To upgrade, please run:\n",
       " $ pip install wandb --upgrade"
      ],
      "text/plain": [
       "<IPython.core.display.HTML object>"
      ]
     },
     "metadata": {},
     "output_type": "display_data"
    },
    {
     "data": {
      "text/html": [
       "Tracking run with wandb version 0.12.21"
      ],
      "text/plain": [
       "<IPython.core.display.HTML object>"
      ]
     },
     "metadata": {},
     "output_type": "display_data"
    },
    {
     "data": {
      "text/html": [
       "Run data is saved locally in <code>/Users/artemgruzdev/Documents/TimeSeries/Code/wandb/run-20221124_225114-2dza7a5p</code>"
      ],
      "text/plain": [
       "<IPython.core.display.HTML object>"
      ]
     },
     "metadata": {},
     "output_type": "display_data"
    },
    {
     "data": {
      "text/html": [
       "Syncing run <strong><a href=\"https://wandb.ai/gewissta/wandb-sweeps/runs/2dza7a5p\" target=\"_blank\">2c__iaYO</a></strong> to <a href=\"https://wandb.ai/gewissta/wandb-sweeps\" target=\"_blank\">Weights & Biases</a> (<a href=\"https://wandb.me/run\" target=\"_blank\">docs</a>)<br/>"
      ],
      "text/plain": [
       "<IPython.core.display.HTML object>"
      ]
     },
     "metadata": {},
     "output_type": "display_data"
    },
    {
     "data": {
      "text/html": [
       "Waiting for W&B process to finish... <strong style=\"color:green\">(success).</strong>"
      ],
      "text/plain": [
       "<IPython.core.display.HTML object>"
      ]
     },
     "metadata": {},
     "output_type": "display_data"
    },
    {
     "data": {
      "application/vnd.jupyter.widget-view+json": {
       "model_id": "",
       "version_major": 2,
       "version_minor": 0
      },
      "text/plain": [
       "VBox(children=(Label(value='0.060 MB of 0.116 MB uploaded (0.000 MB deduped)\\r'), FloatProgress(value=0.516295…"
      ]
     },
     "metadata": {},
     "output_type": "display_data"
    },
    {
     "data": {
      "text/html": [
       "<style>\n",
       "    table.wandb td:nth-child(1) { padding: 0 10px; text-align: left ; width: auto;} td:nth-child(2) {text-align: left ; width: 100%}\n",
       "    .wandb-row { display: flex; flex-direction: row; flex-wrap: wrap; justify-content: flex-start; width: 100% }\n",
       "    .wandb-col { display: flex; flex-direction: column; flex-basis: 100%; flex: 1; padding: 10px; }\n",
       "    </style>\n",
       "<div class=\"wandb-row\"><div class=\"wandb-col\"><h3>Run history:</h3><br/><table class=\"wandb\"><tr><td>MAE_mean</td><td>▁</td></tr><tr><td>MAE_median</td><td>▁</td></tr><tr><td>MAE_percentile_25</td><td>▁</td></tr><tr><td>MAE_percentile_5</td><td>▁</td></tr><tr><td>MAE_percentile_75</td><td>▁</td></tr><tr><td>MAE_percentile_95</td><td>▁</td></tr><tr><td>MAE_std</td><td>▁</td></tr><tr><td>MSE_mean</td><td>▁</td></tr><tr><td>MSE_median</td><td>▁</td></tr><tr><td>MSE_percentile_25</td><td>▁</td></tr><tr><td>MSE_percentile_5</td><td>▁</td></tr><tr><td>MSE_percentile_75</td><td>▁</td></tr><tr><td>MSE_percentile_95</td><td>▁</td></tr><tr><td>MSE_std</td><td>▁</td></tr><tr><td>SMAPE_mean</td><td>▁</td></tr><tr><td>SMAPE_median</td><td>▁</td></tr><tr><td>SMAPE_percentile_25</td><td>▁</td></tr><tr><td>SMAPE_percentile_5</td><td>▁</td></tr><tr><td>SMAPE_percentile_75</td><td>▁</td></tr><tr><td>SMAPE_percentile_95</td><td>▁</td></tr><tr><td>SMAPE_std</td><td>▁</td></tr><tr><td>Sign_mean</td><td>▁</td></tr><tr><td>Sign_median</td><td>▁</td></tr><tr><td>Sign_percentile_25</td><td>▁</td></tr><tr><td>Sign_percentile_5</td><td>▁</td></tr><tr><td>Sign_percentile_75</td><td>▁</td></tr><tr><td>Sign_percentile_95</td><td>▁</td></tr><tr><td>Sign_std</td><td>▁</td></tr></table><br/></div><div class=\"wandb-col\"><h3>Run summary:</h3><br/><table class=\"wandb\"><tr><td>MAE_mean</td><td>47.1225</td></tr><tr><td>MAE_median</td><td>41.73281</td></tr><tr><td>MAE_percentile_25</td><td>24.26757</td></tr><tr><td>MAE_percentile_5</td><td>21.54269</td></tr><tr><td>MAE_percentile_75</td><td>64.58774</td></tr><tr><td>MAE_percentile_95</td><td>80.24786</td></tr><tr><td>MAE_std</td><td>29.73808</td></tr><tr><td>MSE_mean</td><td>4783.61478</td></tr><tr><td>MSE_median</td><td>3538.52488</td></tr><tr><td>MSE_percentile_25</td><td>1284.42369</td></tr><tr><td>MSE_percentile_5</td><td>845.36799</td></tr><tr><td>MSE_percentile_75</td><td>7037.71598</td></tr><tr><td>MSE_percentile_95</td><td>10464.98744</td></tr><tr><td>MSE_std</td><td>4858.47172</td></tr><tr><td>SMAPE_mean</td><td>10.74561</td></tr><tr><td>SMAPE_median</td><td>10.60673</td></tr><tr><td>SMAPE_percentile_25</td><td>9.58575</td></tr><tr><td>SMAPE_percentile_5</td><td>8.86494</td></tr><tr><td>SMAPE_percentile_75</td><td>11.76659</td></tr><tr><td>SMAPE_percentile_95</td><td>12.82071</td></tr><tr><td>SMAPE_std</td><td>1.89681</td></tr><tr><td>Sign_mean</td><td>0.37857</td></tr><tr><td>Sign_median</td><td>0.4</td></tr><tr><td>Sign_percentile_25</td><td>0.35714</td></tr><tr><td>Sign_percentile_5</td><td>0.25429</td></tr><tr><td>Sign_percentile_75</td><td>0.42143</td></tr><tr><td>Sign_percentile_95</td><td>0.47286</td></tr><tr><td>Sign_std</td><td>0.10785</td></tr></table><br/></div></div>"
      ],
      "text/plain": [
       "<IPython.core.display.HTML object>"
      ]
     },
     "metadata": {},
     "output_type": "display_data"
    },
    {
     "data": {
      "text/html": [
       "Synced <strong style=\"color:#cdcd00\">2c__iaYO</strong>: <a href=\"https://wandb.ai/gewissta/wandb-sweeps/runs/2dza7a5p\" target=\"_blank\">https://wandb.ai/gewissta/wandb-sweeps/runs/2dza7a5p</a><br/>Synced 5 W&B file(s), 4 media file(s), 3 artifact file(s) and 0 other file(s)"
      ],
      "text/plain": [
       "<IPython.core.display.HTML object>"
      ]
     },
     "metadata": {},
     "output_type": "display_data"
    },
    {
     "data": {
      "text/html": [
       "Find logs at: <code>./wandb/run-20221124_225114-2dza7a5p/logs</code>"
      ],
      "text/plain": [
       "<IPython.core.display.HTML object>"
      ]
     },
     "metadata": {},
     "output_type": "display_data"
    },
    {
     "name": "stderr",
     "output_type": "stream",
     "text": [
      "\u001b[32m[I 2022-11-24 22:51:38,212]\u001b[0m Trial 3 finished with value: 47.12249818914505 and parameters: {'iterations': 89, 'depth': 5, 'lags': 2}. Best is trial 2 with value: 43.89384662813002.\u001b[0m\n",
      "[Parallel(n_jobs=1)]: Using backend SequentialBackend with 1 concurrent workers.\n"
     ]
    },
    {
     "data": {
      "text/html": [
       "Changes to your `wandb` environment variables will be ignored because your `wandb` session has already started. For more information on how to modify your settings with `wandb.init()` arguments, please refer to <a href=\"https://wandb.me/wandb-init\" target=\"_blank\">the W&B docs</a>."
      ],
      "text/plain": [
       "<IPython.core.display.HTML object>"
      ]
     },
     "metadata": {},
     "output_type": "display_data"
    },
    {
     "data": {
      "text/html": [
       "wandb version 0.13.5 is available!  To upgrade, please run:\n",
       " $ pip install wandb --upgrade"
      ],
      "text/plain": [
       "<IPython.core.display.HTML object>"
      ]
     },
     "metadata": {},
     "output_type": "display_data"
    },
    {
     "data": {
      "text/html": [
       "Tracking run with wandb version 0.12.21"
      ],
      "text/plain": [
       "<IPython.core.display.HTML object>"
      ]
     },
     "metadata": {},
     "output_type": "display_data"
    },
    {
     "data": {
      "text/html": [
       "Run data is saved locally in <code>/Users/artemgruzdev/Documents/TimeSeries/Code/wandb/run-20221124_225138-3sxhqaf6</code>"
      ],
      "text/plain": [
       "<IPython.core.display.HTML object>"
      ]
     },
     "metadata": {},
     "output_type": "display_data"
    },
    {
     "data": {
      "text/html": [
       "Syncing run <strong><a href=\"https://wandb.ai/gewissta/wandb-sweeps/runs/3sxhqaf6\" target=\"_blank\">u3JaFpHh</a></strong> to <a href=\"https://wandb.ai/gewissta/wandb-sweeps\" target=\"_blank\">Weights & Biases</a> (<a href=\"https://wandb.me/run\" target=\"_blank\">docs</a>)<br/>"
      ],
      "text/plain": [
       "<IPython.core.display.HTML object>"
      ]
     },
     "metadata": {},
     "output_type": "display_data"
    },
    {
     "data": {
      "text/html": [
       "Waiting for W&B process to finish... <strong style=\"color:green\">(success).</strong>"
      ],
      "text/plain": [
       "<IPython.core.display.HTML object>"
      ]
     },
     "metadata": {},
     "output_type": "display_data"
    },
    {
     "data": {
      "application/vnd.jupyter.widget-view+json": {
       "model_id": "",
       "version_major": 2,
       "version_minor": 0
      },
      "text/plain": [
       "VBox(children=(Label(value='0.057 MB of 0.060 MB uploaded (0.000 MB deduped)\\r'), FloatProgress(value=0.954722…"
      ]
     },
     "metadata": {},
     "output_type": "display_data"
    },
    {
     "data": {
      "text/html": [
       "<style>\n",
       "    table.wandb td:nth-child(1) { padding: 0 10px; text-align: left ; width: auto;} td:nth-child(2) {text-align: left ; width: 100%}\n",
       "    .wandb-row { display: flex; flex-direction: row; flex-wrap: wrap; justify-content: flex-start; width: 100% }\n",
       "    .wandb-col { display: flex; flex-direction: column; flex-basis: 100%; flex: 1; padding: 10px; }\n",
       "    </style>\n",
       "<div class=\"wandb-row\"><div class=\"wandb-col\"><h3>Run history:</h3><br/><table class=\"wandb\"><tr><td>MAE_mean</td><td>▁</td></tr><tr><td>MAE_median</td><td>▁</td></tr><tr><td>MAE_percentile_25</td><td>▁</td></tr><tr><td>MAE_percentile_5</td><td>▁</td></tr><tr><td>MAE_percentile_75</td><td>▁</td></tr><tr><td>MAE_percentile_95</td><td>▁</td></tr><tr><td>MAE_std</td><td>▁</td></tr><tr><td>MSE_mean</td><td>▁</td></tr><tr><td>MSE_median</td><td>▁</td></tr><tr><td>MSE_percentile_25</td><td>▁</td></tr><tr><td>MSE_percentile_5</td><td>▁</td></tr><tr><td>MSE_percentile_75</td><td>▁</td></tr><tr><td>MSE_percentile_95</td><td>▁</td></tr><tr><td>MSE_std</td><td>▁</td></tr><tr><td>SMAPE_mean</td><td>▁</td></tr><tr><td>SMAPE_median</td><td>▁</td></tr><tr><td>SMAPE_percentile_25</td><td>▁</td></tr><tr><td>SMAPE_percentile_5</td><td>▁</td></tr><tr><td>SMAPE_percentile_75</td><td>▁</td></tr><tr><td>SMAPE_percentile_95</td><td>▁</td></tr><tr><td>SMAPE_std</td><td>▁</td></tr><tr><td>Sign_mean</td><td>▁</td></tr><tr><td>Sign_median</td><td>▁</td></tr><tr><td>Sign_percentile_25</td><td>▁</td></tr><tr><td>Sign_percentile_5</td><td>▁</td></tr><tr><td>Sign_percentile_75</td><td>▁</td></tr><tr><td>Sign_percentile_95</td><td>▁</td></tr><tr><td>Sign_std</td><td>▁</td></tr></table><br/></div><div class=\"wandb-col\"><h3>Run summary:</h3><br/><table class=\"wandb\"><tr><td>MAE_mean</td><td>35.66778</td></tr><tr><td>MAE_median</td><td>35.51517</td></tr><tr><td>MAE_percentile_25</td><td>20.16923</td></tr><tr><td>MAE_percentile_5</td><td>15.08378</td></tr><tr><td>MAE_percentile_75</td><td>51.01372</td></tr><tr><td>MAE_percentile_95</td><td>56.46544</td></tr><tr><td>MAE_std</td><td>20.96586</td></tr><tr><td>MSE_mean</td><td>2657.71463</td></tr><tr><td>MSE_median</td><td>2798.66602</td></tr><tr><td>MSE_percentile_25</td><td>748.75214</td></tr><tr><td>MSE_percentile_5</td><td>381.94637</td></tr><tr><td>MSE_percentile_75</td><td>4707.62851</td></tr><tr><td>MSE_percentile_95</td><td>4736.15093</td></tr><tr><td>MSE_std</td><td>2393.88441</td></tr><tr><td>SMAPE_mean</td><td>9.1687</td></tr><tr><td>SMAPE_median</td><td>9.05982</td></tr><tr><td>SMAPE_percentile_25</td><td>7.94877</td></tr><tr><td>SMAPE_percentile_5</td><td>6.56935</td></tr><tr><td>SMAPE_percentile_75</td><td>10.27975</td></tr><tr><td>SMAPE_percentile_95</td><td>11.92047</td></tr><tr><td>SMAPE_std</td><td>2.53411</td></tr><tr><td>Sign_mean</td><td>-0.25</td></tr><tr><td>Sign_median</td><td>-0.35714</td></tr><tr><td>Sign_percentile_25</td><td>-0.57143</td></tr><tr><td>Sign_percentile_5</td><td>-0.57143</td></tr><tr><td>Sign_percentile_75</td><td>-0.03571</td></tr><tr><td>Sign_percentile_95</td><td>0.22143</td></tr><tr><td>Sign_std</td><td>0.41033</td></tr></table><br/></div></div>"
      ],
      "text/plain": [
       "<IPython.core.display.HTML object>"
      ]
     },
     "metadata": {},
     "output_type": "display_data"
    },
    {
     "data": {
      "text/html": [
       "Synced <strong style=\"color:#cdcd00\">u3JaFpHh</strong>: <a href=\"https://wandb.ai/gewissta/wandb-sweeps/runs/3sxhqaf6\" target=\"_blank\">https://wandb.ai/gewissta/wandb-sweeps/runs/3sxhqaf6</a><br/>Synced 5 W&B file(s), 3 media file(s), 3 artifact file(s) and 0 other file(s)"
      ],
      "text/plain": [
       "<IPython.core.display.HTML object>"
      ]
     },
     "metadata": {},
     "output_type": "display_data"
    },
    {
     "data": {
      "text/html": [
       "Find logs at: <code>./wandb/run-20221124_225138-3sxhqaf6/logs</code>"
      ],
      "text/plain": [
       "<IPython.core.display.HTML object>"
      ]
     },
     "metadata": {},
     "output_type": "display_data"
    },
    {
     "name": "stderr",
     "output_type": "stream",
     "text": [
      "[Parallel(n_jobs=1)]: Done   1 out of   1 | elapsed:   23.4s remaining:    0.0s\n"
     ]
    },
    {
     "data": {
      "text/html": [
       "Changes to your `wandb` environment variables will be ignored because your `wandb` session has already started. For more information on how to modify your settings with `wandb.init()` arguments, please refer to <a href=\"https://wandb.me/wandb-init\" target=\"_blank\">the W&B docs</a>."
      ],
      "text/plain": [
       "<IPython.core.display.HTML object>"
      ]
     },
     "metadata": {},
     "output_type": "display_data"
    },
    {
     "data": {
      "text/html": [
       "wandb version 0.13.5 is available!  To upgrade, please run:\n",
       " $ pip install wandb --upgrade"
      ],
      "text/plain": [
       "<IPython.core.display.HTML object>"
      ]
     },
     "metadata": {},
     "output_type": "display_data"
    },
    {
     "data": {
      "text/html": [
       "Tracking run with wandb version 0.12.21"
      ],
      "text/plain": [
       "<IPython.core.display.HTML object>"
      ]
     },
     "metadata": {},
     "output_type": "display_data"
    },
    {
     "data": {
      "text/html": [
       "Run data is saved locally in <code>/Users/artemgruzdev/Documents/TimeSeries/Code/wandb/run-20221124_225201-1ly63jzj</code>"
      ],
      "text/plain": [
       "<IPython.core.display.HTML object>"
      ]
     },
     "metadata": {},
     "output_type": "display_data"
    },
    {
     "data": {
      "text/html": [
       "Syncing run <strong><a href=\"https://wandb.ai/gewissta/wandb-sweeps/runs/1ly63jzj\" target=\"_blank\">u3JaFpHh</a></strong> to <a href=\"https://wandb.ai/gewissta/wandb-sweeps\" target=\"_blank\">Weights & Biases</a> (<a href=\"https://wandb.me/run\" target=\"_blank\">docs</a>)<br/>"
      ],
      "text/plain": [
       "<IPython.core.display.HTML object>"
      ]
     },
     "metadata": {},
     "output_type": "display_data"
    },
    {
     "data": {
      "text/html": [
       "Waiting for W&B process to finish... <strong style=\"color:green\">(success).</strong>"
      ],
      "text/plain": [
       "<IPython.core.display.HTML object>"
      ]
     },
     "metadata": {},
     "output_type": "display_data"
    },
    {
     "data": {
      "application/vnd.jupyter.widget-view+json": {
       "model_id": "",
       "version_major": 2,
       "version_minor": 0
      },
      "text/plain": [
       "VBox(children=(Label(value='0.057 MB of 0.060 MB uploaded (0.000 MB deduped)\\r'), FloatProgress(value=0.954512…"
      ]
     },
     "metadata": {},
     "output_type": "display_data"
    },
    {
     "data": {
      "text/html": [
       "<style>\n",
       "    table.wandb td:nth-child(1) { padding: 0 10px; text-align: left ; width: auto;} td:nth-child(2) {text-align: left ; width: 100%}\n",
       "    .wandb-row { display: flex; flex-direction: row; flex-wrap: wrap; justify-content: flex-start; width: 100% }\n",
       "    .wandb-col { display: flex; flex-direction: column; flex-basis: 100%; flex: 1; padding: 10px; }\n",
       "    </style>\n",
       "<div class=\"wandb-row\"><div class=\"wandb-col\"><h3>Run history:</h3><br/><table class=\"wandb\"><tr><td>MAE_mean</td><td>▁</td></tr><tr><td>MAE_median</td><td>▁</td></tr><tr><td>MAE_percentile_25</td><td>▁</td></tr><tr><td>MAE_percentile_5</td><td>▁</td></tr><tr><td>MAE_percentile_75</td><td>▁</td></tr><tr><td>MAE_percentile_95</td><td>▁</td></tr><tr><td>MAE_std</td><td>▁</td></tr><tr><td>MSE_mean</td><td>▁</td></tr><tr><td>MSE_median</td><td>▁</td></tr><tr><td>MSE_percentile_25</td><td>▁</td></tr><tr><td>MSE_percentile_5</td><td>▁</td></tr><tr><td>MSE_percentile_75</td><td>▁</td></tr><tr><td>MSE_percentile_95</td><td>▁</td></tr><tr><td>MSE_std</td><td>▁</td></tr><tr><td>SMAPE_mean</td><td>▁</td></tr><tr><td>SMAPE_median</td><td>▁</td></tr><tr><td>SMAPE_percentile_25</td><td>▁</td></tr><tr><td>SMAPE_percentile_5</td><td>▁</td></tr><tr><td>SMAPE_percentile_75</td><td>▁</td></tr><tr><td>SMAPE_percentile_95</td><td>▁</td></tr><tr><td>SMAPE_std</td><td>▁</td></tr><tr><td>Sign_mean</td><td>▁</td></tr><tr><td>Sign_median</td><td>▁</td></tr><tr><td>Sign_percentile_25</td><td>▁</td></tr><tr><td>Sign_percentile_5</td><td>▁</td></tr><tr><td>Sign_percentile_75</td><td>▁</td></tr><tr><td>Sign_percentile_95</td><td>▁</td></tr><tr><td>Sign_std</td><td>▁</td></tr></table><br/></div><div class=\"wandb-col\"><h3>Run summary:</h3><br/><table class=\"wandb\"><tr><td>MAE_mean</td><td>37.64627</td></tr><tr><td>MAE_median</td><td>30.22651</td></tr><tr><td>MAE_percentile_25</td><td>19.49901</td></tr><tr><td>MAE_percentile_5</td><td>17.1097</td></tr><tr><td>MAE_percentile_75</td><td>48.37376</td></tr><tr><td>MAE_percentile_95</td><td>68.57049</td></tr><tr><td>MAE_std</td><td>26.07844</td></tr><tr><td>MSE_mean</td><td>2755.59114</td></tr><tr><td>MSE_median</td><td>1569.31726</td></tr><tr><td>MSE_percentile_25</td><td>532.53642</td></tr><tr><td>MSE_percentile_5</td><td>415.08259</td></tr><tr><td>MSE_percentile_75</td><td>3792.37198</td></tr><tr><td>MSE_percentile_95</td><td>6756.88311</td></tr><tr><td>MSE_std</td><td>3310.23627</td></tr><tr><td>SMAPE_mean</td><td>8.87776</td></tr><tr><td>SMAPE_median</td><td>8.86843</td></tr><tr><td>SMAPE_percentile_25</td><td>8.32738</td></tr><tr><td>SMAPE_percentile_5</td><td>7.88345</td></tr><tr><td>SMAPE_percentile_75</td><td>9.4188</td></tr><tr><td>SMAPE_percentile_95</td><td>9.88514</td></tr><tr><td>SMAPE_std</td><td>0.95546</td></tr><tr><td>Sign_mean</td><td>0.46429</td></tr><tr><td>Sign_median</td><td>0.57143</td></tr><tr><td>Sign_percentile_25</td><td>0.46429</td></tr><tr><td>Sign_percentile_5</td><td>0.20714</td></tr><tr><td>Sign_percentile_75</td><td>0.57143</td></tr><tr><td>Sign_percentile_95</td><td>0.57143</td></tr><tr><td>Sign_std</td><td>0.21429</td></tr></table><br/></div></div>"
      ],
      "text/plain": [
       "<IPython.core.display.HTML object>"
      ]
     },
     "metadata": {},
     "output_type": "display_data"
    },
    {
     "data": {
      "text/html": [
       "Synced <strong style=\"color:#cdcd00\">u3JaFpHh</strong>: <a href=\"https://wandb.ai/gewissta/wandb-sweeps/runs/1ly63jzj\" target=\"_blank\">https://wandb.ai/gewissta/wandb-sweeps/runs/1ly63jzj</a><br/>Synced 5 W&B file(s), 3 media file(s), 3 artifact file(s) and 0 other file(s)"
      ],
      "text/plain": [
       "<IPython.core.display.HTML object>"
      ]
     },
     "metadata": {},
     "output_type": "display_data"
    },
    {
     "data": {
      "text/html": [
       "Find logs at: <code>./wandb/run-20221124_225201-1ly63jzj/logs</code>"
      ],
      "text/plain": [
       "<IPython.core.display.HTML object>"
      ]
     },
     "metadata": {},
     "output_type": "display_data"
    },
    {
     "name": "stderr",
     "output_type": "stream",
     "text": [
      "[Parallel(n_jobs=1)]: Done   2 out of   2 | elapsed:   46.9s remaining:    0.0s\n"
     ]
    },
    {
     "data": {
      "text/html": [
       "Changes to your `wandb` environment variables will be ignored because your `wandb` session has already started. For more information on how to modify your settings with `wandb.init()` arguments, please refer to <a href=\"https://wandb.me/wandb-init\" target=\"_blank\">the W&B docs</a>."
      ],
      "text/plain": [
       "<IPython.core.display.HTML object>"
      ]
     },
     "metadata": {},
     "output_type": "display_data"
    },
    {
     "data": {
      "text/html": [
       "wandb version 0.13.5 is available!  To upgrade, please run:\n",
       " $ pip install wandb --upgrade"
      ],
      "text/plain": [
       "<IPython.core.display.HTML object>"
      ]
     },
     "metadata": {},
     "output_type": "display_data"
    },
    {
     "data": {
      "text/html": [
       "Tracking run with wandb version 0.12.21"
      ],
      "text/plain": [
       "<IPython.core.display.HTML object>"
      ]
     },
     "metadata": {},
     "output_type": "display_data"
    },
    {
     "data": {
      "text/html": [
       "Run data is saved locally in <code>/Users/artemgruzdev/Documents/TimeSeries/Code/wandb/run-20221124_225225-15es7i30</code>"
      ],
      "text/plain": [
       "<IPython.core.display.HTML object>"
      ]
     },
     "metadata": {},
     "output_type": "display_data"
    },
    {
     "data": {
      "text/html": [
       "Syncing run <strong><a href=\"https://wandb.ai/gewissta/wandb-sweeps/runs/15es7i30\" target=\"_blank\">u3JaFpHh</a></strong> to <a href=\"https://wandb.ai/gewissta/wandb-sweeps\" target=\"_blank\">Weights & Biases</a> (<a href=\"https://wandb.me/run\" target=\"_blank\">docs</a>)<br/>"
      ],
      "text/plain": [
       "<IPython.core.display.HTML object>"
      ]
     },
     "metadata": {},
     "output_type": "display_data"
    },
    {
     "data": {
      "text/html": [
       "Waiting for W&B process to finish... <strong style=\"color:green\">(success).</strong>"
      ],
      "text/plain": [
       "<IPython.core.display.HTML object>"
      ]
     },
     "metadata": {},
     "output_type": "display_data"
    },
    {
     "data": {
      "application/vnd.jupyter.widget-view+json": {
       "model_id": "",
       "version_major": 2,
       "version_minor": 0
      },
      "text/plain": [
       "VBox(children=(Label(value='0.057 MB of 0.060 MB uploaded (0.000 MB deduped)\\r'), FloatProgress(value=0.954464…"
      ]
     },
     "metadata": {},
     "output_type": "display_data"
    },
    {
     "data": {
      "text/html": [
       "<style>\n",
       "    table.wandb td:nth-child(1) { padding: 0 10px; text-align: left ; width: auto;} td:nth-child(2) {text-align: left ; width: 100%}\n",
       "    .wandb-row { display: flex; flex-direction: row; flex-wrap: wrap; justify-content: flex-start; width: 100% }\n",
       "    .wandb-col { display: flex; flex-direction: column; flex-basis: 100%; flex: 1; padding: 10px; }\n",
       "    </style>\n",
       "<div class=\"wandb-row\"><div class=\"wandb-col\"><h3>Run history:</h3><br/><table class=\"wandb\"><tr><td>MAE_mean</td><td>▁</td></tr><tr><td>MAE_median</td><td>▁</td></tr><tr><td>MAE_percentile_25</td><td>▁</td></tr><tr><td>MAE_percentile_5</td><td>▁</td></tr><tr><td>MAE_percentile_75</td><td>▁</td></tr><tr><td>MAE_percentile_95</td><td>▁</td></tr><tr><td>MAE_std</td><td>▁</td></tr><tr><td>MSE_mean</td><td>▁</td></tr><tr><td>MSE_median</td><td>▁</td></tr><tr><td>MSE_percentile_25</td><td>▁</td></tr><tr><td>MSE_percentile_5</td><td>▁</td></tr><tr><td>MSE_percentile_75</td><td>▁</td></tr><tr><td>MSE_percentile_95</td><td>▁</td></tr><tr><td>MSE_std</td><td>▁</td></tr><tr><td>SMAPE_mean</td><td>▁</td></tr><tr><td>SMAPE_median</td><td>▁</td></tr><tr><td>SMAPE_percentile_25</td><td>▁</td></tr><tr><td>SMAPE_percentile_5</td><td>▁</td></tr><tr><td>SMAPE_percentile_75</td><td>▁</td></tr><tr><td>SMAPE_percentile_95</td><td>▁</td></tr><tr><td>SMAPE_std</td><td>▁</td></tr><tr><td>Sign_mean</td><td>▁</td></tr><tr><td>Sign_median</td><td>▁</td></tr><tr><td>Sign_percentile_25</td><td>▁</td></tr><tr><td>Sign_percentile_5</td><td>▁</td></tr><tr><td>Sign_percentile_75</td><td>▁</td></tr><tr><td>Sign_percentile_95</td><td>▁</td></tr><tr><td>Sign_std</td><td>▁</td></tr></table><br/></div><div class=\"wandb-col\"><h3>Run summary:</h3><br/><table class=\"wandb\"><tr><td>MAE_mean</td><td>40.19342</td></tr><tr><td>MAE_median</td><td>36.51861</td></tr><tr><td>MAE_percentile_25</td><td>14.16801</td></tr><tr><td>MAE_percentile_5</td><td>9.58018</td></tr><tr><td>MAE_percentile_75</td><td>62.54402</td></tr><tr><td>MAE_percentile_95</td><td>75.95138</td></tr><tr><td>MAE_std</td><td>33.66898</td></tr><tr><td>MSE_mean</td><td>3664.7934</td></tr><tr><td>MSE_median</td><td>2352.08906</td></tr><tr><td>MSE_percentile_25</td><td>349.69929</td></tr><tr><td>MSE_percentile_5</td><td>142.1101</td></tr><tr><td>MSE_percentile_75</td><td>5667.18317</td></tr><tr><td>MSE_percentile_95</td><td>9025.26276</td></tr><tr><td>MSE_std</td><td>4546.25048</td></tr><tr><td>SMAPE_mean</td><td>7.9635</td></tr><tr><td>SMAPE_median</td><td>8.28012</td></tr><tr><td>SMAPE_percentile_25</td><td>6.25335</td></tr><tr><td>SMAPE_percentile_5</td><td>4.93379</td></tr><tr><td>SMAPE_percentile_75</td><td>9.99026</td></tr><tr><td>SMAPE_percentile_95</td><td>10.54993</td></tr><tr><td>SMAPE_std</td><td>2.78586</td></tr><tr><td>Sign_mean</td><td>0.28571</td></tr><tr><td>Sign_median</td><td>0.35714</td></tr><tr><td>Sign_percentile_25</td><td>0.14286</td></tr><tr><td>Sign_percentile_5</td><td>-0.2</td></tr><tr><td>Sign_percentile_75</td><td>0.5</td></tr><tr><td>Sign_percentile_95</td><td>0.67143</td></tr><tr><td>Sign_std</td><td>0.42056</td></tr></table><br/></div></div>"
      ],
      "text/plain": [
       "<IPython.core.display.HTML object>"
      ]
     },
     "metadata": {},
     "output_type": "display_data"
    },
    {
     "data": {
      "text/html": [
       "Synced <strong style=\"color:#cdcd00\">u3JaFpHh</strong>: <a href=\"https://wandb.ai/gewissta/wandb-sweeps/runs/15es7i30\" target=\"_blank\">https://wandb.ai/gewissta/wandb-sweeps/runs/15es7i30</a><br/>Synced 5 W&B file(s), 3 media file(s), 3 artifact file(s) and 0 other file(s)"
      ],
      "text/plain": [
       "<IPython.core.display.HTML object>"
      ]
     },
     "metadata": {},
     "output_type": "display_data"
    },
    {
     "data": {
      "text/html": [
       "Find logs at: <code>./wandb/run-20221124_225225-15es7i30/logs</code>"
      ],
      "text/plain": [
       "<IPython.core.display.HTML object>"
      ]
     },
     "metadata": {},
     "output_type": "display_data"
    },
    {
     "name": "stderr",
     "output_type": "stream",
     "text": [
      "[Parallel(n_jobs=1)]: Done   3 out of   3 | elapsed:  1.2min remaining:    0.0s\n"
     ]
    },
    {
     "data": {
      "text/html": [
       "Changes to your `wandb` environment variables will be ignored because your `wandb` session has already started. For more information on how to modify your settings with `wandb.init()` arguments, please refer to <a href=\"https://wandb.me/wandb-init\" target=\"_blank\">the W&B docs</a>."
      ],
      "text/plain": [
       "<IPython.core.display.HTML object>"
      ]
     },
     "metadata": {},
     "output_type": "display_data"
    },
    {
     "data": {
      "text/html": [
       "wandb version 0.13.5 is available!  To upgrade, please run:\n",
       " $ pip install wandb --upgrade"
      ],
      "text/plain": [
       "<IPython.core.display.HTML object>"
      ]
     },
     "metadata": {},
     "output_type": "display_data"
    },
    {
     "data": {
      "text/html": [
       "Tracking run with wandb version 0.12.21"
      ],
      "text/plain": [
       "<IPython.core.display.HTML object>"
      ]
     },
     "metadata": {},
     "output_type": "display_data"
    },
    {
     "data": {
      "text/html": [
       "Run data is saved locally in <code>/Users/artemgruzdev/Documents/TimeSeries/Code/wandb/run-20221124_225248-1wy4vdzk</code>"
      ],
      "text/plain": [
       "<IPython.core.display.HTML object>"
      ]
     },
     "metadata": {},
     "output_type": "display_data"
    },
    {
     "data": {
      "text/html": [
       "Syncing run <strong><a href=\"https://wandb.ai/gewissta/wandb-sweeps/runs/1wy4vdzk\" target=\"_blank\">u3JaFpHh</a></strong> to <a href=\"https://wandb.ai/gewissta/wandb-sweeps\" target=\"_blank\">Weights & Biases</a> (<a href=\"https://wandb.me/run\" target=\"_blank\">docs</a>)<br/>"
      ],
      "text/plain": [
       "<IPython.core.display.HTML object>"
      ]
     },
     "metadata": {},
     "output_type": "display_data"
    },
    {
     "data": {
      "text/html": [
       "Waiting for W&B process to finish... <strong style=\"color:green\">(success).</strong>"
      ],
      "text/plain": [
       "<IPython.core.display.HTML object>"
      ]
     },
     "metadata": {},
     "output_type": "display_data"
    },
    {
     "data": {
      "application/vnd.jupyter.widget-view+json": {
       "model_id": "",
       "version_major": 2,
       "version_minor": 0
      },
      "text/plain": [
       "VBox(children=(Label(value='0.057 MB of 0.060 MB uploaded (0.000 MB deduped)\\r'), FloatProgress(value=0.954380…"
      ]
     },
     "metadata": {},
     "output_type": "display_data"
    },
    {
     "data": {
      "text/html": [
       "<style>\n",
       "    table.wandb td:nth-child(1) { padding: 0 10px; text-align: left ; width: auto;} td:nth-child(2) {text-align: left ; width: 100%}\n",
       "    .wandb-row { display: flex; flex-direction: row; flex-wrap: wrap; justify-content: flex-start; width: 100% }\n",
       "    .wandb-col { display: flex; flex-direction: column; flex-basis: 100%; flex: 1; padding: 10px; }\n",
       "    </style>\n",
       "<div class=\"wandb-row\"><div class=\"wandb-col\"><h3>Run history:</h3><br/><table class=\"wandb\"><tr><td>MAE_mean</td><td>▁</td></tr><tr><td>MAE_median</td><td>▁</td></tr><tr><td>MAE_percentile_25</td><td>▁</td></tr><tr><td>MAE_percentile_5</td><td>▁</td></tr><tr><td>MAE_percentile_75</td><td>▁</td></tr><tr><td>MAE_percentile_95</td><td>▁</td></tr><tr><td>MAE_std</td><td>▁</td></tr><tr><td>MSE_mean</td><td>▁</td></tr><tr><td>MSE_median</td><td>▁</td></tr><tr><td>MSE_percentile_25</td><td>▁</td></tr><tr><td>MSE_percentile_5</td><td>▁</td></tr><tr><td>MSE_percentile_75</td><td>▁</td></tr><tr><td>MSE_percentile_95</td><td>▁</td></tr><tr><td>MSE_std</td><td>▁</td></tr><tr><td>SMAPE_mean</td><td>▁</td></tr><tr><td>SMAPE_median</td><td>▁</td></tr><tr><td>SMAPE_percentile_25</td><td>▁</td></tr><tr><td>SMAPE_percentile_5</td><td>▁</td></tr><tr><td>SMAPE_percentile_75</td><td>▁</td></tr><tr><td>SMAPE_percentile_95</td><td>▁</td></tr><tr><td>SMAPE_std</td><td>▁</td></tr><tr><td>Sign_mean</td><td>▁</td></tr><tr><td>Sign_median</td><td>▁</td></tr><tr><td>Sign_percentile_25</td><td>▁</td></tr><tr><td>Sign_percentile_5</td><td>▁</td></tr><tr><td>Sign_percentile_75</td><td>▁</td></tr><tr><td>Sign_percentile_95</td><td>▁</td></tr><tr><td>Sign_std</td><td>▁</td></tr></table><br/></div><div class=\"wandb-col\"><h3>Run summary:</h3><br/><table class=\"wandb\"><tr><td>MAE_mean</td><td>59.17488</td></tr><tr><td>MAE_median</td><td>46.22379</td></tr><tr><td>MAE_percentile_25</td><td>23.35986</td></tr><tr><td>MAE_percentile_5</td><td>23.20558</td></tr><tr><td>MAE_percentile_75</td><td>82.03881</td></tr><tr><td>MAE_percentile_95</td><td>113.27571</td></tr><tr><td>MAE_std</td><td>46.56369</td></tr><tr><td>MSE_mean</td><td>7517.8809</td></tr><tr><td>MSE_median</td><td>4595.53009</td></tr><tr><td>MSE_percentile_25</td><td>1268.20826</td></tr><tr><td>MSE_percentile_5</td><td>828.34632</td></tr><tr><td>MSE_percentile_75</td><td>10845.20274</td></tr><tr><td>MSE_percentile_95</td><td>18298.70662</td></tr><tr><td>MSE_std</td><td>8999.24732</td></tr><tr><td>SMAPE_mean</td><td>11.42801</td></tr><tr><td>SMAPE_median</td><td>11.44487</td></tr><tr><td>SMAPE_percentile_25</td><td>10.32801</td></tr><tr><td>SMAPE_percentile_5</td><td>9.60082</td></tr><tr><td>SMAPE_percentile_75</td><td>12.54487</td></tr><tr><td>SMAPE_percentile_95</td><td>13.23159</td></tr><tr><td>SMAPE_std</td><td>1.75718</td></tr><tr><td>Sign_mean</td><td>0.57143</td></tr><tr><td>Sign_median</td><td>0.71429</td></tr><tr><td>Sign_percentile_25</td><td>0.42857</td></tr><tr><td>Sign_percentile_5</td><td>0.08571</td></tr><tr><td>Sign_percentile_75</td><td>0.85714</td></tr><tr><td>Sign_percentile_95</td><td>0.85714</td></tr><tr><td>Sign_std</td><td>0.40406</td></tr></table><br/></div></div>"
      ],
      "text/plain": [
       "<IPython.core.display.HTML object>"
      ]
     },
     "metadata": {},
     "output_type": "display_data"
    },
    {
     "data": {
      "text/html": [
       "Synced <strong style=\"color:#cdcd00\">u3JaFpHh</strong>: <a href=\"https://wandb.ai/gewissta/wandb-sweeps/runs/1wy4vdzk\" target=\"_blank\">https://wandb.ai/gewissta/wandb-sweeps/runs/1wy4vdzk</a><br/>Synced 5 W&B file(s), 3 media file(s), 3 artifact file(s) and 0 other file(s)"
      ],
      "text/plain": [
       "<IPython.core.display.HTML object>"
      ]
     },
     "metadata": {},
     "output_type": "display_data"
    },
    {
     "data": {
      "text/html": [
       "Find logs at: <code>./wandb/run-20221124_225248-1wy4vdzk/logs</code>"
      ],
      "text/plain": [
       "<IPython.core.display.HTML object>"
      ]
     },
     "metadata": {},
     "output_type": "display_data"
    },
    {
     "name": "stderr",
     "output_type": "stream",
     "text": [
      "[Parallel(n_jobs=1)]: Done   4 out of   4 | elapsed:  1.6min remaining:    0.0s\n"
     ]
    },
    {
     "data": {
      "text/html": [
       "Changes to your `wandb` environment variables will be ignored because your `wandb` session has already started. For more information on how to modify your settings with `wandb.init()` arguments, please refer to <a href=\"https://wandb.me/wandb-init\" target=\"_blank\">the W&B docs</a>."
      ],
      "text/plain": [
       "<IPython.core.display.HTML object>"
      ]
     },
     "metadata": {},
     "output_type": "display_data"
    },
    {
     "data": {
      "text/html": [
       "wandb version 0.13.5 is available!  To upgrade, please run:\n",
       " $ pip install wandb --upgrade"
      ],
      "text/plain": [
       "<IPython.core.display.HTML object>"
      ]
     },
     "metadata": {},
     "output_type": "display_data"
    },
    {
     "data": {
      "text/html": [
       "Tracking run with wandb version 0.12.21"
      ],
      "text/plain": [
       "<IPython.core.display.HTML object>"
      ]
     },
     "metadata": {},
     "output_type": "display_data"
    },
    {
     "data": {
      "text/html": [
       "Run data is saved locally in <code>/Users/artemgruzdev/Documents/TimeSeries/Code/wandb/run-20221124_225314-1f9b391w</code>"
      ],
      "text/plain": [
       "<IPython.core.display.HTML object>"
      ]
     },
     "metadata": {},
     "output_type": "display_data"
    },
    {
     "data": {
      "text/html": [
       "Syncing run <strong><a href=\"https://wandb.ai/gewissta/wandb-sweeps/runs/1f9b391w\" target=\"_blank\">u3JaFpHh</a></strong> to <a href=\"https://wandb.ai/gewissta/wandb-sweeps\" target=\"_blank\">Weights & Biases</a> (<a href=\"https://wandb.me/run\" target=\"_blank\">docs</a>)<br/>"
      ],
      "text/plain": [
       "<IPython.core.display.HTML object>"
      ]
     },
     "metadata": {},
     "output_type": "display_data"
    },
    {
     "data": {
      "text/html": [
       "Waiting for W&B process to finish... <strong style=\"color:green\">(success).</strong>"
      ],
      "text/plain": [
       "<IPython.core.display.HTML object>"
      ]
     },
     "metadata": {},
     "output_type": "display_data"
    },
    {
     "data": {
      "application/vnd.jupyter.widget-view+json": {
       "model_id": "",
       "version_major": 2,
       "version_minor": 0
      },
      "text/plain": [
       "VBox(children=(Label(value='0.057 MB of 0.059 MB uploaded (0.000 MB deduped)\\r'), FloatProgress(value=0.954162…"
      ]
     },
     "metadata": {},
     "output_type": "display_data"
    },
    {
     "data": {
      "text/html": [
       "<style>\n",
       "    table.wandb td:nth-child(1) { padding: 0 10px; text-align: left ; width: auto;} td:nth-child(2) {text-align: left ; width: 100%}\n",
       "    .wandb-row { display: flex; flex-direction: row; flex-wrap: wrap; justify-content: flex-start; width: 100% }\n",
       "    .wandb-col { display: flex; flex-direction: column; flex-basis: 100%; flex: 1; padding: 10px; }\n",
       "    </style>\n",
       "<div class=\"wandb-row\"><div class=\"wandb-col\"><h3>Run history:</h3><br/><table class=\"wandb\"><tr><td>MAE_mean</td><td>▁</td></tr><tr><td>MAE_median</td><td>▁</td></tr><tr><td>MAE_percentile_25</td><td>▁</td></tr><tr><td>MAE_percentile_5</td><td>▁</td></tr><tr><td>MAE_percentile_75</td><td>▁</td></tr><tr><td>MAE_percentile_95</td><td>▁</td></tr><tr><td>MAE_std</td><td>▁</td></tr><tr><td>MSE_mean</td><td>▁</td></tr><tr><td>MSE_median</td><td>▁</td></tr><tr><td>MSE_percentile_25</td><td>▁</td></tr><tr><td>MSE_percentile_5</td><td>▁</td></tr><tr><td>MSE_percentile_75</td><td>▁</td></tr><tr><td>MSE_percentile_95</td><td>▁</td></tr><tr><td>MSE_std</td><td>▁</td></tr><tr><td>SMAPE_mean</td><td>▁</td></tr><tr><td>SMAPE_median</td><td>▁</td></tr><tr><td>SMAPE_percentile_25</td><td>▁</td></tr><tr><td>SMAPE_percentile_5</td><td>▁</td></tr><tr><td>SMAPE_percentile_75</td><td>▁</td></tr><tr><td>SMAPE_percentile_95</td><td>▁</td></tr><tr><td>SMAPE_std</td><td>▁</td></tr><tr><td>Sign_mean</td><td>▁</td></tr><tr><td>Sign_median</td><td>▁</td></tr><tr><td>Sign_percentile_25</td><td>▁</td></tr><tr><td>Sign_percentile_5</td><td>▁</td></tr><tr><td>Sign_percentile_75</td><td>▁</td></tr><tr><td>Sign_percentile_95</td><td>▁</td></tr><tr><td>Sign_std</td><td>▁</td></tr></table><br/></div><div class=\"wandb-col\"><h3>Run summary:</h3><br/><table class=\"wandb\"><tr><td>MAE_mean</td><td>54.71234</td></tr><tr><td>MAE_median</td><td>51.40049</td></tr><tr><td>MAE_percentile_25</td><td>44.85166</td></tr><tr><td>MAE_percentile_5</td><td>30.50887</td></tr><tr><td>MAE_percentile_75</td><td>61.26116</td></tr><tr><td>MAE_percentile_95</td><td>83.55238</td></tr><tr><td>MAE_std</td><td>25.68446</td></tr><tr><td>MSE_mean</td><td>5866.95412</td></tr><tr><td>MSE_median</td><td>4245.41517</td></tr><tr><td>MSE_percentile_25</td><td>2631.241</td></tr><tr><td>MSE_percentile_5</td><td>1523.77557</td></tr><tr><td>MSE_percentile_75</td><td>7481.12829</td></tr><tr><td>MSE_percentile_95</td><td>12480.28722</td></tr><tr><td>MSE_std</td><td>5510.28937</td></tr><tr><td>SMAPE_mean</td><td>13.64739</td></tr><tr><td>SMAPE_median</td><td>10.38797</td></tr><tr><td>SMAPE_percentile_25</td><td>9.84175</td></tr><tr><td>SMAPE_percentile_5</td><td>9.72226</td></tr><tr><td>SMAPE_percentile_75</td><td>14.19361</td></tr><tr><td>SMAPE_percentile_95</td><td>22.1357</td></tr><tr><td>SMAPE_std</td><td>7.00199</td></tr><tr><td>Sign_mean</td><td>0.28571</td></tr><tr><td>Sign_median</td><td>0.28571</td></tr><tr><td>Sign_percentile_25</td><td>0.07143</td></tr><tr><td>Sign_percentile_5</td><td>-0.1</td></tr><tr><td>Sign_percentile_75</td><td>0.5</td></tr><tr><td>Sign_percentile_95</td><td>0.67143</td></tr><tr><td>Sign_std</td><td>0.36886</td></tr></table><br/></div></div>"
      ],
      "text/plain": [
       "<IPython.core.display.HTML object>"
      ]
     },
     "metadata": {},
     "output_type": "display_data"
    },
    {
     "data": {
      "text/html": [
       "Synced <strong style=\"color:#cdcd00\">u3JaFpHh</strong>: <a href=\"https://wandb.ai/gewissta/wandb-sweeps/runs/1f9b391w\" target=\"_blank\">https://wandb.ai/gewissta/wandb-sweeps/runs/1f9b391w</a><br/>Synced 5 W&B file(s), 3 media file(s), 3 artifact file(s) and 0 other file(s)"
      ],
      "text/plain": [
       "<IPython.core.display.HTML object>"
      ]
     },
     "metadata": {},
     "output_type": "display_data"
    },
    {
     "data": {
      "text/html": [
       "Find logs at: <code>./wandb/run-20221124_225314-1f9b391w/logs</code>"
      ],
      "text/plain": [
       "<IPython.core.display.HTML object>"
      ]
     },
     "metadata": {},
     "output_type": "display_data"
    },
    {
     "name": "stderr",
     "output_type": "stream",
     "text": [
      "[Parallel(n_jobs=1)]: Done   5 out of   5 | elapsed:  2.0min remaining:    0.0s\n",
      "[Parallel(n_jobs=1)]: Done   5 out of   5 | elapsed:  2.0min finished\n"
     ]
    },
    {
     "data": {
      "text/html": [
       "Changes to your `wandb` environment variables will be ignored because your `wandb` session has already started. For more information on how to modify your settings with `wandb.init()` arguments, please refer to <a href=\"https://wandb.me/wandb-init\" target=\"_blank\">the W&B docs</a>."
      ],
      "text/plain": [
       "<IPython.core.display.HTML object>"
      ]
     },
     "metadata": {},
     "output_type": "display_data"
    },
    {
     "data": {
      "text/html": [
       "wandb version 0.13.5 is available!  To upgrade, please run:\n",
       " $ pip install wandb --upgrade"
      ],
      "text/plain": [
       "<IPython.core.display.HTML object>"
      ]
     },
     "metadata": {},
     "output_type": "display_data"
    },
    {
     "data": {
      "text/html": [
       "Tracking run with wandb version 0.12.21"
      ],
      "text/plain": [
       "<IPython.core.display.HTML object>"
      ]
     },
     "metadata": {},
     "output_type": "display_data"
    },
    {
     "data": {
      "text/html": [
       "Run data is saved locally in <code>/Users/artemgruzdev/Documents/TimeSeries/Code/wandb/run-20221124_225337-uswqqx7e</code>"
      ],
      "text/plain": [
       "<IPython.core.display.HTML object>"
      ]
     },
     "metadata": {},
     "output_type": "display_data"
    },
    {
     "data": {
      "text/html": [
       "Syncing run <strong><a href=\"https://wandb.ai/gewissta/wandb-sweeps/runs/uswqqx7e\" target=\"_blank\">u3JaFpHh</a></strong> to <a href=\"https://wandb.ai/gewissta/wandb-sweeps\" target=\"_blank\">Weights & Biases</a> (<a href=\"https://wandb.me/run\" target=\"_blank\">docs</a>)<br/>"
      ],
      "text/plain": [
       "<IPython.core.display.HTML object>"
      ]
     },
     "metadata": {},
     "output_type": "display_data"
    },
    {
     "data": {
      "text/html": [
       "Waiting for W&B process to finish... <strong style=\"color:green\">(success).</strong>"
      ],
      "text/plain": [
       "<IPython.core.display.HTML object>"
      ]
     },
     "metadata": {},
     "output_type": "display_data"
    },
    {
     "data": {
      "application/vnd.jupyter.widget-view+json": {
       "model_id": "",
       "version_major": 2,
       "version_minor": 0
      },
      "text/plain": [
       "VBox(children=(Label(value='0.248 MB of 0.304 MB uploaded (0.000 MB deduped)\\r'), FloatProgress(value=0.815094…"
      ]
     },
     "metadata": {},
     "output_type": "display_data"
    },
    {
     "data": {
      "text/html": [
       "<style>\n",
       "    table.wandb td:nth-child(1) { padding: 0 10px; text-align: left ; width: auto;} td:nth-child(2) {text-align: left ; width: 100%}\n",
       "    .wandb-row { display: flex; flex-direction: row; flex-wrap: wrap; justify-content: flex-start; width: 100% }\n",
       "    .wandb-col { display: flex; flex-direction: column; flex-basis: 100%; flex: 1; padding: 10px; }\n",
       "    </style>\n",
       "<div class=\"wandb-row\"><div class=\"wandb-col\"><h3>Run history:</h3><br/><table class=\"wandb\"><tr><td>MAE_mean</td><td>▁</td></tr><tr><td>MAE_median</td><td>▁</td></tr><tr><td>MAE_percentile_25</td><td>▁</td></tr><tr><td>MAE_percentile_5</td><td>▁</td></tr><tr><td>MAE_percentile_75</td><td>▁</td></tr><tr><td>MAE_percentile_95</td><td>▁</td></tr><tr><td>MAE_std</td><td>▁</td></tr><tr><td>MSE_mean</td><td>▁</td></tr><tr><td>MSE_median</td><td>▁</td></tr><tr><td>MSE_percentile_25</td><td>▁</td></tr><tr><td>MSE_percentile_5</td><td>▁</td></tr><tr><td>MSE_percentile_75</td><td>▁</td></tr><tr><td>MSE_percentile_95</td><td>▁</td></tr><tr><td>MSE_std</td><td>▁</td></tr><tr><td>SMAPE_mean</td><td>▁</td></tr><tr><td>SMAPE_median</td><td>▁</td></tr><tr><td>SMAPE_percentile_25</td><td>▁</td></tr><tr><td>SMAPE_percentile_5</td><td>▁</td></tr><tr><td>SMAPE_percentile_75</td><td>▁</td></tr><tr><td>SMAPE_percentile_95</td><td>▁</td></tr><tr><td>SMAPE_std</td><td>▁</td></tr><tr><td>Sign_mean</td><td>▁</td></tr><tr><td>Sign_median</td><td>▁</td></tr><tr><td>Sign_percentile_25</td><td>▁</td></tr><tr><td>Sign_percentile_5</td><td>▁</td></tr><tr><td>Sign_percentile_75</td><td>▁</td></tr><tr><td>Sign_percentile_95</td><td>▁</td></tr><tr><td>Sign_std</td><td>▁</td></tr></table><br/></div><div class=\"wandb-col\"><h3>Run summary:</h3><br/><table class=\"wandb\"><tr><td>MAE_mean</td><td>45.47894</td></tr><tr><td>MAE_median</td><td>38.8751</td></tr><tr><td>MAE_percentile_25</td><td>22.39912</td></tr><tr><td>MAE_percentile_5</td><td>21.91223</td></tr><tr><td>MAE_percentile_75</td><td>61.95492</td></tr><tr><td>MAE_percentile_95</td><td>78.29101</td></tr><tr><td>MAE_std</td><td>29.0936</td></tr><tr><td>MSE_mean</td><td>4492.58684</td></tr><tr><td>MSE_median</td><td>3001.64913</td></tr><tr><td>MSE_percentile_25</td><td>990.77929</td></tr><tr><td>MSE_percentile_5</td><td>819.68357</td></tr><tr><td>MSE_percentile_75</td><td>6503.45667</td></tr><tr><td>MSE_percentile_95</td><td>10252.8029</td></tr><tr><td>MSE_std</td><td>4852.25718</td></tr><tr><td>SMAPE_mean</td><td>10.21707</td></tr><tr><td>SMAPE_median</td><td>10.1245</td></tr><tr><td>SMAPE_percentile_25</td><td>9.53588</td></tr><tr><td>SMAPE_percentile_5</td><td>9.14159</td></tr><tr><td>SMAPE_percentile_75</td><td>10.80568</td></tr><tr><td>SMAPE_percentile_95</td><td>11.42216</td></tr><tr><td>SMAPE_std</td><td>1.09592</td></tr><tr><td>Sign_mean</td><td>0.27143</td></tr><tr><td>Sign_median</td><td>0.27143</td></tr><tr><td>Sign_percentile_25</td><td>0.22857</td></tr><tr><td>Sign_percentile_5</td><td>0.16</td></tr><tr><td>Sign_percentile_75</td><td>0.31429</td></tr><tr><td>Sign_percentile_95</td><td>0.38286</td></tr><tr><td>Sign_std</td><td>0.10562</td></tr></table><br/></div></div>"
      ],
      "text/plain": [
       "<IPython.core.display.HTML object>"
      ]
     },
     "metadata": {},
     "output_type": "display_data"
    },
    {
     "data": {
      "text/html": [
       "Synced <strong style=\"color:#cdcd00\">u3JaFpHh</strong>: <a href=\"https://wandb.ai/gewissta/wandb-sweeps/runs/uswqqx7e\" target=\"_blank\">https://wandb.ai/gewissta/wandb-sweeps/runs/uswqqx7e</a><br/>Synced 5 W&B file(s), 4 media file(s), 3 artifact file(s) and 0 other file(s)"
      ],
      "text/plain": [
       "<IPython.core.display.HTML object>"
      ]
     },
     "metadata": {},
     "output_type": "display_data"
    },
    {
     "data": {
      "text/html": [
       "Find logs at: <code>./wandb/run-20221124_225337-uswqqx7e/logs</code>"
      ],
      "text/plain": [
       "<IPython.core.display.HTML object>"
      ]
     },
     "metadata": {},
     "output_type": "display_data"
    },
    {
     "name": "stderr",
     "output_type": "stream",
     "text": [
      "\u001b[32m[I 2022-11-24 22:54:01,359]\u001b[0m Trial 4 finished with value: 45.47893601699648 and parameters: {'iterations': 62, 'depth': 6, 'lags': 19}. Best is trial 2 with value: 43.89384662813002.\u001b[0m\n"
     ]
    }
   ],
   "source": [
    "# Вызов функции run_optuna, запуск оптимизации\n",
    "run_optuna(file_path = 'Data/example_dataset.csv')"
   ]
  }
 ],
 "metadata": {
  "kernelspec": {
   "display_name": "Python 3 (ipykernel)",
   "language": "python",
   "name": "python3"
  },
  "language_info": {
   "codemirror_mode": {
    "name": "ipython",
    "version": 3
   },
   "file_extension": ".py",
   "mimetype": "text/x-python",
   "name": "python",
   "nbconvert_exporter": "python",
   "pygments_lexer": "ipython3",
   "version": "3.9.12"
  }
 },
 "nbformat": 4,
 "nbformat_minor": 5
}
