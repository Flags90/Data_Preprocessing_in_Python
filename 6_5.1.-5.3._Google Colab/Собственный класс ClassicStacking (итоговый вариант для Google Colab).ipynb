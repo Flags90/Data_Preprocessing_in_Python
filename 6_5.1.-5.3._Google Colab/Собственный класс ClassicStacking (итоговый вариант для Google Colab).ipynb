{
 "cells": [
  {
   "cell_type": "code",
   "execution_count": 1,
   "metadata": {
    "colab": {
     "base_uri": "https://localhost:8080/"
    },
    "id": "XV_ruJK9ExsD",
    "outputId": "c2d30b2d-1312-4811-cd82-7677e908adc1"
   },
   "outputs": [
    {
     "name": "stdout",
     "output_type": "stream",
     "text": [
      "Looking in indexes: https://pypi.org/simple, https://us-python.pkg.dev/colab-wheels/public/simple/\n",
      "Collecting catboost\n",
      "  Downloading catboost-1.0.6-cp37-none-manylinux1_x86_64.whl (76.6 MB)\n",
      "\u001b[K     |████████████████████████████████| 76.6 MB 1.4 MB/s \n",
      "\u001b[?25hRequirement already satisfied: scipy in /usr/local/lib/python3.7/dist-packages (from catboost) (1.7.3)\n",
      "Requirement already satisfied: matplotlib in /usr/local/lib/python3.7/dist-packages (from catboost) (3.2.2)\n",
      "Requirement already satisfied: graphviz in /usr/local/lib/python3.7/dist-packages (from catboost) (0.10.1)\n",
      "Requirement already satisfied: pandas>=0.24.0 in /usr/local/lib/python3.7/dist-packages (from catboost) (1.3.5)\n",
      "Requirement already satisfied: six in /usr/local/lib/python3.7/dist-packages (from catboost) (1.15.0)\n",
      "Requirement already satisfied: numpy>=1.16.0 in /usr/local/lib/python3.7/dist-packages (from catboost) (1.21.6)\n",
      "Requirement already satisfied: plotly in /usr/local/lib/python3.7/dist-packages (from catboost) (5.5.0)\n",
      "Requirement already satisfied: pytz>=2017.3 in /usr/local/lib/python3.7/dist-packages (from pandas>=0.24.0->catboost) (2022.2.1)\n",
      "Requirement already satisfied: python-dateutil>=2.7.3 in /usr/local/lib/python3.7/dist-packages (from pandas>=0.24.0->catboost) (2.8.2)\n",
      "Requirement already satisfied: cycler>=0.10 in /usr/local/lib/python3.7/dist-packages (from matplotlib->catboost) (0.11.0)\n",
      "Requirement already satisfied: kiwisolver>=1.0.1 in /usr/local/lib/python3.7/dist-packages (from matplotlib->catboost) (1.4.4)\n",
      "Requirement already satisfied: pyparsing!=2.0.4,!=2.1.2,!=2.1.6,>=2.0.1 in /usr/local/lib/python3.7/dist-packages (from matplotlib->catboost) (3.0.9)\n",
      "Requirement already satisfied: typing-extensions in /usr/local/lib/python3.7/dist-packages (from kiwisolver>=1.0.1->matplotlib->catboost) (4.1.1)\n",
      "Requirement already satisfied: tenacity>=6.2.0 in /usr/local/lib/python3.7/dist-packages (from plotly->catboost) (8.0.1)\n",
      "Installing collected packages: catboost\n",
      "Successfully installed catboost-1.0.6\n"
     ]
    }
   ],
   "source": [
    "# устанавливаем catboost\n",
    "!pip install catboost"
   ]
  },
  {
   "cell_type": "code",
   "execution_count": 2,
   "metadata": {
    "id": "QGXlueFqExsF"
   },
   "outputs": [],
   "source": [
    "# импортируем модуль sys\n",
    "import sys\n",
    "# прописываем путь к модулю\n",
    "sys.path.append('/content/drive/MyDrive/Colab Notebooks/Stacking/')"
   ]
  },
  {
   "cell_type": "code",
   "execution_count": 3,
   "metadata": {
    "colab": {
     "base_uri": "https://localhost:8080/"
    },
    "id": "qe7b_LgFExsF",
    "outputId": "5ec07042-4705-46f1-d480-fe17413ce742"
   },
   "outputs": [
    {
     "name": "stdout",
     "output_type": "stream",
     "text": [
      "Mounted at /content/drive\n"
     ]
    }
   ],
   "source": [
    "# примонтируем Google-диск\n",
    "from google.colab import drive\n",
    "drive.mount('/content/drive')"
   ]
  },
  {
   "cell_type": "code",
   "execution_count": 4,
   "metadata": {
    "id": "g98eu-EwExsG"
   },
   "outputs": [],
   "source": [
    "# импортируем необходимые библиотеки и классы\n",
    "import pandas as pd\n",
    "import numpy as np\n",
    "from xgboost import XGBClassifier\n",
    "from sklearn.pipeline import Pipeline\n",
    "from sklearn.preprocessing import StandardScaler\n",
    "from sklearn.linear_model import LogisticRegression\n",
    "from catboost import CatBoostClassifier\n",
    "from classic_stacking import ClassicStacking"
   ]
  },
  {
   "cell_type": "code",
   "execution_count": 5,
   "metadata": {
    "id": "bD36V8PMExsG"
   },
   "outputs": [],
   "source": [
    "# загружаем исторический набор и набор новых данных\n",
    "train = pd.read_csv('/content/drive/MyDrive/Colab Notebooks/' + \n",
    "                    'Stacking/Data/ottogroup_train.csv')\n",
    "test = pd.read_csv('/content/drive/MyDrive/Colab Notebooks/' + \n",
    "                   'Stacking/Data/ottogroup_test.csv')"
   ]
  },
  {
   "cell_type": "code",
   "execution_count": 6,
   "metadata": {
    "id": "RPaQImfsExsH"
   },
   "outputs": [],
   "source": [
    "# формируем массив меток и массив признаков\n",
    "labels = train.pop('target')"
   ]
  },
  {
   "cell_type": "code",
   "execution_count": 7,
   "metadata": {
    "id": "yC86T98OExsH"
   },
   "outputs": [],
   "source": [
    "# сохраняем id набора новых данных\n",
    "test_id = test['id']\n",
    "\n",
    "# удаляем id из обоих наборов\n",
    "train.drop('id', axis=1, inplace=True)\n",
    "test.drop('id', axis=1, inplace=True)"
   ]
  },
  {
   "cell_type": "code",
   "execution_count": 8,
   "metadata": {
    "id": "KnR9vjZXExsI"
   },
   "outputs": [],
   "source": [
    "# создаем экземпляр класса XGBClassifier\n",
    "# (модель должна быть уже настроена) -\n",
    "# первый базовый алгоритм\n",
    "xgbst_model = XGBClassifier(learning_rate=0.06,\n",
    "                                objective='multi:softprob',\n",
    "                                subsample=0.8,\n",
    "                                gamma=1,\n",
    "                                colsample_bytree=0.8,\n",
    "                                colsample_bylevel=0.8,\n",
    "                                min_child_weight=0.8,\n",
    "                                random_state=42,\n",
    "                                max_depth=9,\n",
    "                                n_estimators=800)\n",
    "\n",
    "# создаем экземпляр класса CatBoostClassifier\n",
    "# (модель должна быть уже настроена) -\n",
    "# второй базовый алгоритм\n",
    "ctbst_model = CatBoostClassifier(learning_rate=0.035,\n",
    "                                     loss_function='MultiClass',\n",
    "                                     depth=11,\n",
    "                                     bagging_temperature=0.2,\n",
    "                                     rsm=0.1,\n",
    "                                     iterations=2500,\n",
    "                                     random_strength=0,\n",
    "                                     random_seed=42,\n",
    "                                     logging_level='Silent')\n",
    "\n",
    "# создаем экземпляр класса LogisticRegression\n",
    "# (модель должна быть уже настроена) -\n",
    "# третий базовый алгоритм\n",
    "logreg_model = LogisticRegression(solver='liblinear')\n",
    "\n",
    "# создаем конвейер для логистической регрессии\n",
    "logreg_pipe = Pipeline([('scaler', StandardScaler()), ('logreg', logreg_model)])"
   ]
  },
  {
   "cell_type": "code",
   "execution_count": 9,
   "metadata": {
    "id": "RauivaN0ExsJ",
    "scrolled": true
   },
   "outputs": [],
   "source": [
    "# создаем экземпляр класса ClassicStacking\n",
    "s = ClassicStacking(estimators=[xgbst_model, ctbst_model, logreg_pipe],\n",
    "                    final_estimator=ctbst_model, cv=5, \n",
    "                    stack_method='predict_proba', passthrough=True)\n",
    "# обучаем базовые алгоритмы и мета-алгоритм\n",
    "s.fit(train, labels)\n",
    "# получаем вероятности\n",
    "final_proba = s.predict(train, labels, test)"
   ]
  },
  {
   "cell_type": "code",
   "execution_count": 10,
   "metadata": {
    "id": "yNaIKkjVExsJ"
   },
   "outputs": [],
   "source": [
    "# извлекаем метки классов\n",
    "classes = np.unique(labels)\n",
    "# формируем посылку\n",
    "submission = pd.DataFrame(data=final_proba, columns=classes)\n",
    "submission.insert(0, 'id', test_id)\n",
    "submission.to_csv('/content/drive/MyDrive/Colab Notebooks/Stacking/' +\n",
    "                  'own_cv_stacking_on_cl_probs_with_concat.csv', index=False)"
   ]
  }
 ],
 "metadata": {
  "colab": {
   "collapsed_sections": [],
   "name": "Собственный класс ClassicStacking (итоговый вариант для Google Colab).ipynb",
   "provenance": []
  },
  "kernelspec": {
   "display_name": "Python 3 (ipykernel)",
   "language": "python",
   "name": "python3"
  },
  "language_info": {
   "codemirror_mode": {
    "name": "ipython",
    "version": 3
   },
   "file_extension": ".py",
   "mimetype": "text/x-python",
   "name": "python",
   "nbconvert_exporter": "python",
   "pygments_lexer": "ipython3",
   "version": "3.9.12"
  }
 },
 "nbformat": 4,
 "nbformat_minor": 1
}
